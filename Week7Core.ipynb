{
  "nbformat": 4,
  "nbformat_minor": 0,
  "metadata": {
    "colab": {
      "name": "Week7Core",
      "provenance": [],
      "collapsed_sections": [],
      "authorship_tag": "ABX9TyOUJ8aHbKtJq0Lcv4rjIlFX",
      "include_colab_link": true
    },
    "kernelspec": {
      "name": "python3",
      "display_name": "Python 3"
    }
  },
  "cells": [
    {
      "cell_type": "markdown",
      "metadata": {
        "id": "view-in-github",
        "colab_type": "text"
      },
      "source": [
        "<a href=\"https://colab.research.google.com/github/BrianChegeGichau/HassConsultingLimited/blob/master/Week7Core.ipynb\" target=\"_parent\"><img src=\"https://colab.research.google.com/assets/colab-badge.svg\" alt=\"Open In Colab\"/></a>"
      ]
    },
    {
      "cell_type": "markdown",
      "metadata": {
        "id": "oRi6FbLZX2-e",
        "colab_type": "text"
      },
      "source": [
        "# 1. Defining the Question "
      ]
    },
    {
      "cell_type": "markdown",
      "metadata": {
        "id": "0z8zKRpvXt0k",
        "colab_type": "text"
      },
      "source": [
        "# Understanding the context."
      ]
    },
    {
      "cell_type": "markdown",
      "metadata": {
        "id": "EqJ04k03VoP4",
        "colab_type": "text"
      },
      "source": [
        "**Hass Consulting Company**\n",
        "\n",
        "\n",
        "The company offers investment - grade developments all over the world. The developments they offer have been conceptualized by the development team to be high quality assets using a data driven approach in planning and design, that gears property for high rental returns and an escalated rate of capital growth. \n",
        "\n",
        "The company has its own property price index called the Hass Index with over 17 years of historical data of Kenya's property markets. It has proven over the last decade to be an important tool providing investors, home owners, the financial industry and consumers with current and historical information about house price infation allowing them to make informed decisions in the housing market in order to enjoy the best possible returns.\n",
        "\n",
        "As a data scientist, I have been tasked to study the factos that affect housing prices using the given information on real estate properties that was collected over the past few months. \n",
        "\n",
        "Then later onwards, create a model that would allow the company to accurately predict the sale of prices upon being provided with the predictor variables."
      ]
    },
    {
      "cell_type": "markdown",
      "metadata": {
        "id": "ozm3n4FWbL4U",
        "colab_type": "text"
      },
      "source": [
        "# Objective of Study"
      ]
    },
    {
      "cell_type": "markdown",
      "metadata": {
        "id": "y_sYCBSHbQc9",
        "colab_type": "text"
      },
      "source": [
        "The main objective of this study is to :\n",
        "Perform modelling using the following regression techniques then evaluate their performance.\n",
        "1. Multiple Linear Regression\n",
        "2. Quantile Regression\n",
        "3. Ridge Regression\n",
        "4. Lasso Regression\n",
        "5. Elastic Net Regression."
      ]
    },
    {
      "cell_type": "markdown",
      "metadata": {
        "id": "SaQtAQtsbwh9",
        "colab_type": "text"
      },
      "source": [
        "# Metric for Success"
      ]
    },
    {
      "cell_type": "markdown",
      "metadata": {
        "id": "bhipcbFubz5g",
        "colab_type": "text"
      },
      "source": [
        "The following are the facors that will determine the success of the study.\n",
        "1. Fit the data in the regression models.\n",
        "2. Provide recommendations on their appropriateness of solving the given problem.\n",
        "3. Evaluation of the models."
      ]
    },
    {
      "cell_type": "markdown",
      "metadata": {
        "id": "CTVBPwSgcLec",
        "colab_type": "text"
      },
      "source": [
        "# The Experimental Design"
      ]
    },
    {
      "cell_type": "markdown",
      "metadata": {
        "id": "qx4qCWD6cQjZ",
        "colab_type": "text"
      },
      "source": [
        "The following are the steps taking during the study:\n",
        "1. Read and exploring the dataset.\n",
        "2. Define the appropriateness of the available data to answer the given question.\n",
        "3. Find and deal with outliers, anomalies and missing data within the dataset.\n",
        "4. Perform univariate, bivariate and multi-variate analysis recording observations.\n",
        "5. Check for multi-collinearity.\n",
        "6. Performing regression analysis.\n",
        "7. Providing the receommendation based on the analysis.\n",
        "8. Challenging the solution by providing insights on how to make model improvements."
      ]
    },
    {
      "cell_type": "markdown",
      "metadata": {
        "id": "-OGg_-oCdZH6",
        "colab_type": "text"
      },
      "source": [
        "# Reading and exploring the dataset"
      ]
    },
    {
      "cell_type": "code",
      "metadata": {
        "id": "2DrDeKn-6FpQ",
        "colab_type": "code",
        "colab": {}
      },
      "source": [
        "#Importing the necessary library to read the dataset.\n",
        "import pandas as pd"
      ],
      "execution_count": 1,
      "outputs": []
    },
    {
      "cell_type": "code",
      "metadata": {
        "id": "_lFKzMI56K8R",
        "colab_type": "code",
        "colab": {
          "base_uri": "https://localhost:8080/",
          "height": 224
        },
        "outputId": "273b0155-669b-4546-e279-83bcd42be5b3"
      },
      "source": [
        "#Reading the dataset and previewing the 5 top rows.\n",
        "df = pd.read_csv('Independent Project Week 7 - house_data.csv')\n",
        "df.head()"
      ],
      "execution_count": 2,
      "outputs": [
        {
          "output_type": "execute_result",
          "data": {
            "text/html": [
              "<div>\n",
              "<style scoped>\n",
              "    .dataframe tbody tr th:only-of-type {\n",
              "        vertical-align: middle;\n",
              "    }\n",
              "\n",
              "    .dataframe tbody tr th {\n",
              "        vertical-align: top;\n",
              "    }\n",
              "\n",
              "    .dataframe thead th {\n",
              "        text-align: right;\n",
              "    }\n",
              "</style>\n",
              "<table border=\"1\" class=\"dataframe\">\n",
              "  <thead>\n",
              "    <tr style=\"text-align: right;\">\n",
              "      <th></th>\n",
              "      <th>id</th>\n",
              "      <th>price</th>\n",
              "      <th>bedrooms</th>\n",
              "      <th>bathrooms</th>\n",
              "      <th>sqft_living</th>\n",
              "      <th>sqft_lot</th>\n",
              "      <th>floors</th>\n",
              "      <th>waterfront</th>\n",
              "      <th>view</th>\n",
              "      <th>condition</th>\n",
              "      <th>grade</th>\n",
              "      <th>sqft_above</th>\n",
              "      <th>sqft_basement</th>\n",
              "      <th>yr_built</th>\n",
              "      <th>yr_renovated</th>\n",
              "      <th>zipcode</th>\n",
              "      <th>lat</th>\n",
              "      <th>long</th>\n",
              "      <th>sqft_living15</th>\n",
              "      <th>sqft_lot15</th>\n",
              "    </tr>\n",
              "  </thead>\n",
              "  <tbody>\n",
              "    <tr>\n",
              "      <th>0</th>\n",
              "      <td>7129300520</td>\n",
              "      <td>221900.0</td>\n",
              "      <td>3</td>\n",
              "      <td>1.00</td>\n",
              "      <td>1180</td>\n",
              "      <td>5650</td>\n",
              "      <td>1.0</td>\n",
              "      <td>0</td>\n",
              "      <td>0</td>\n",
              "      <td>3</td>\n",
              "      <td>7</td>\n",
              "      <td>1180</td>\n",
              "      <td>0</td>\n",
              "      <td>1955</td>\n",
              "      <td>0</td>\n",
              "      <td>98178</td>\n",
              "      <td>47.5112</td>\n",
              "      <td>-122.257</td>\n",
              "      <td>1340</td>\n",
              "      <td>5650</td>\n",
              "    </tr>\n",
              "    <tr>\n",
              "      <th>1</th>\n",
              "      <td>6414100192</td>\n",
              "      <td>538000.0</td>\n",
              "      <td>3</td>\n",
              "      <td>2.25</td>\n",
              "      <td>2570</td>\n",
              "      <td>7242</td>\n",
              "      <td>2.0</td>\n",
              "      <td>0</td>\n",
              "      <td>0</td>\n",
              "      <td>3</td>\n",
              "      <td>7</td>\n",
              "      <td>2170</td>\n",
              "      <td>400</td>\n",
              "      <td>1951</td>\n",
              "      <td>1991</td>\n",
              "      <td>98125</td>\n",
              "      <td>47.7210</td>\n",
              "      <td>-122.319</td>\n",
              "      <td>1690</td>\n",
              "      <td>7639</td>\n",
              "    </tr>\n",
              "    <tr>\n",
              "      <th>2</th>\n",
              "      <td>5631500400</td>\n",
              "      <td>180000.0</td>\n",
              "      <td>2</td>\n",
              "      <td>1.00</td>\n",
              "      <td>770</td>\n",
              "      <td>10000</td>\n",
              "      <td>1.0</td>\n",
              "      <td>0</td>\n",
              "      <td>0</td>\n",
              "      <td>3</td>\n",
              "      <td>6</td>\n",
              "      <td>770</td>\n",
              "      <td>0</td>\n",
              "      <td>1933</td>\n",
              "      <td>0</td>\n",
              "      <td>98028</td>\n",
              "      <td>47.7379</td>\n",
              "      <td>-122.233</td>\n",
              "      <td>2720</td>\n",
              "      <td>8062</td>\n",
              "    </tr>\n",
              "    <tr>\n",
              "      <th>3</th>\n",
              "      <td>2487200875</td>\n",
              "      <td>604000.0</td>\n",
              "      <td>4</td>\n",
              "      <td>3.00</td>\n",
              "      <td>1960</td>\n",
              "      <td>5000</td>\n",
              "      <td>1.0</td>\n",
              "      <td>0</td>\n",
              "      <td>0</td>\n",
              "      <td>5</td>\n",
              "      <td>7</td>\n",
              "      <td>1050</td>\n",
              "      <td>910</td>\n",
              "      <td>1965</td>\n",
              "      <td>0</td>\n",
              "      <td>98136</td>\n",
              "      <td>47.5208</td>\n",
              "      <td>-122.393</td>\n",
              "      <td>1360</td>\n",
              "      <td>5000</td>\n",
              "    </tr>\n",
              "    <tr>\n",
              "      <th>4</th>\n",
              "      <td>1954400510</td>\n",
              "      <td>510000.0</td>\n",
              "      <td>3</td>\n",
              "      <td>2.00</td>\n",
              "      <td>1680</td>\n",
              "      <td>8080</td>\n",
              "      <td>1.0</td>\n",
              "      <td>0</td>\n",
              "      <td>0</td>\n",
              "      <td>3</td>\n",
              "      <td>8</td>\n",
              "      <td>1680</td>\n",
              "      <td>0</td>\n",
              "      <td>1987</td>\n",
              "      <td>0</td>\n",
              "      <td>98074</td>\n",
              "      <td>47.6168</td>\n",
              "      <td>-122.045</td>\n",
              "      <td>1800</td>\n",
              "      <td>7503</td>\n",
              "    </tr>\n",
              "  </tbody>\n",
              "</table>\n",
              "</div>"
            ],
            "text/plain": [
              "           id     price  bedrooms  ...     long  sqft_living15  sqft_lot15\n",
              "0  7129300520  221900.0         3  ... -122.257           1340        5650\n",
              "1  6414100192  538000.0         3  ... -122.319           1690        7639\n",
              "2  5631500400  180000.0         2  ... -122.233           2720        8062\n",
              "3  2487200875  604000.0         4  ... -122.393           1360        5000\n",
              "4  1954400510  510000.0         3  ... -122.045           1800        7503\n",
              "\n",
              "[5 rows x 20 columns]"
            ]
          },
          "metadata": {
            "tags": []
          },
          "execution_count": 2
        }
      ]
    },
    {
      "cell_type": "code",
      "metadata": {
        "id": "YGEQdEfD6d4U",
        "colab_type": "code",
        "colab": {
          "base_uri": "https://localhost:8080/",
          "height": 224
        },
        "outputId": "721f9716-cfe1-4b5b-9ac2-d57e95c06851"
      },
      "source": [
        "#Previewing the last rows of the dataset.\n",
        "df.tail()"
      ],
      "execution_count": null,
      "outputs": [
        {
          "output_type": "execute_result",
          "data": {
            "text/html": [
              "<div>\n",
              "<style scoped>\n",
              "    .dataframe tbody tr th:only-of-type {\n",
              "        vertical-align: middle;\n",
              "    }\n",
              "\n",
              "    .dataframe tbody tr th {\n",
              "        vertical-align: top;\n",
              "    }\n",
              "\n",
              "    .dataframe thead th {\n",
              "        text-align: right;\n",
              "    }\n",
              "</style>\n",
              "<table border=\"1\" class=\"dataframe\">\n",
              "  <thead>\n",
              "    <tr style=\"text-align: right;\">\n",
              "      <th></th>\n",
              "      <th>id</th>\n",
              "      <th>price</th>\n",
              "      <th>bedrooms</th>\n",
              "      <th>bathrooms</th>\n",
              "      <th>sqft_living</th>\n",
              "      <th>sqft_lot</th>\n",
              "      <th>floors</th>\n",
              "      <th>waterfront</th>\n",
              "      <th>view</th>\n",
              "      <th>condition</th>\n",
              "      <th>grade</th>\n",
              "      <th>sqft_above</th>\n",
              "      <th>sqft_basement</th>\n",
              "      <th>yr_built</th>\n",
              "      <th>yr_renovated</th>\n",
              "      <th>zipcode</th>\n",
              "      <th>lat</th>\n",
              "      <th>long</th>\n",
              "      <th>sqft_living15</th>\n",
              "      <th>sqft_lot15</th>\n",
              "    </tr>\n",
              "  </thead>\n",
              "  <tbody>\n",
              "    <tr>\n",
              "      <th>21608</th>\n",
              "      <td>263000018</td>\n",
              "      <td>360000.0</td>\n",
              "      <td>3</td>\n",
              "      <td>2.50</td>\n",
              "      <td>1530</td>\n",
              "      <td>1131</td>\n",
              "      <td>3.0</td>\n",
              "      <td>0</td>\n",
              "      <td>0</td>\n",
              "      <td>3</td>\n",
              "      <td>8</td>\n",
              "      <td>1530</td>\n",
              "      <td>0</td>\n",
              "      <td>2009</td>\n",
              "      <td>0</td>\n",
              "      <td>98103</td>\n",
              "      <td>47.6993</td>\n",
              "      <td>-122.346</td>\n",
              "      <td>1530</td>\n",
              "      <td>1509</td>\n",
              "    </tr>\n",
              "    <tr>\n",
              "      <th>21609</th>\n",
              "      <td>6600060120</td>\n",
              "      <td>400000.0</td>\n",
              "      <td>4</td>\n",
              "      <td>2.50</td>\n",
              "      <td>2310</td>\n",
              "      <td>5813</td>\n",
              "      <td>2.0</td>\n",
              "      <td>0</td>\n",
              "      <td>0</td>\n",
              "      <td>3</td>\n",
              "      <td>8</td>\n",
              "      <td>2310</td>\n",
              "      <td>0</td>\n",
              "      <td>2014</td>\n",
              "      <td>0</td>\n",
              "      <td>98146</td>\n",
              "      <td>47.5107</td>\n",
              "      <td>-122.362</td>\n",
              "      <td>1830</td>\n",
              "      <td>7200</td>\n",
              "    </tr>\n",
              "    <tr>\n",
              "      <th>21610</th>\n",
              "      <td>1523300141</td>\n",
              "      <td>402101.0</td>\n",
              "      <td>2</td>\n",
              "      <td>0.75</td>\n",
              "      <td>1020</td>\n",
              "      <td>1350</td>\n",
              "      <td>2.0</td>\n",
              "      <td>0</td>\n",
              "      <td>0</td>\n",
              "      <td>3</td>\n",
              "      <td>7</td>\n",
              "      <td>1020</td>\n",
              "      <td>0</td>\n",
              "      <td>2009</td>\n",
              "      <td>0</td>\n",
              "      <td>98144</td>\n",
              "      <td>47.5944</td>\n",
              "      <td>-122.299</td>\n",
              "      <td>1020</td>\n",
              "      <td>2007</td>\n",
              "    </tr>\n",
              "    <tr>\n",
              "      <th>21611</th>\n",
              "      <td>291310100</td>\n",
              "      <td>400000.0</td>\n",
              "      <td>3</td>\n",
              "      <td>2.50</td>\n",
              "      <td>1600</td>\n",
              "      <td>2388</td>\n",
              "      <td>2.0</td>\n",
              "      <td>0</td>\n",
              "      <td>0</td>\n",
              "      <td>3</td>\n",
              "      <td>8</td>\n",
              "      <td>1600</td>\n",
              "      <td>0</td>\n",
              "      <td>2004</td>\n",
              "      <td>0</td>\n",
              "      <td>98027</td>\n",
              "      <td>47.5345</td>\n",
              "      <td>-122.069</td>\n",
              "      <td>1410</td>\n",
              "      <td>1287</td>\n",
              "    </tr>\n",
              "    <tr>\n",
              "      <th>21612</th>\n",
              "      <td>1523300157</td>\n",
              "      <td>325000.0</td>\n",
              "      <td>2</td>\n",
              "      <td>0.75</td>\n",
              "      <td>1020</td>\n",
              "      <td>1076</td>\n",
              "      <td>2.0</td>\n",
              "      <td>0</td>\n",
              "      <td>0</td>\n",
              "      <td>3</td>\n",
              "      <td>7</td>\n",
              "      <td>1020</td>\n",
              "      <td>0</td>\n",
              "      <td>2008</td>\n",
              "      <td>0</td>\n",
              "      <td>98144</td>\n",
              "      <td>47.5941</td>\n",
              "      <td>-122.299</td>\n",
              "      <td>1020</td>\n",
              "      <td>1357</td>\n",
              "    </tr>\n",
              "  </tbody>\n",
              "</table>\n",
              "</div>"
            ],
            "text/plain": [
              "               id     price  bedrooms  ...     long  sqft_living15  sqft_lot15\n",
              "21608   263000018  360000.0         3  ... -122.346           1530        1509\n",
              "21609  6600060120  400000.0         4  ... -122.362           1830        7200\n",
              "21610  1523300141  402101.0         2  ... -122.299           1020        2007\n",
              "21611   291310100  400000.0         3  ... -122.069           1410        1287\n",
              "21612  1523300157  325000.0         2  ... -122.299           1020        1357\n",
              "\n",
              "[5 rows x 20 columns]"
            ]
          },
          "metadata": {
            "tags": []
          },
          "execution_count": 3
        }
      ]
    },
    {
      "cell_type": "code",
      "metadata": {
        "id": "oAOtdcDqfDO-",
        "colab_type": "code",
        "colab": {
          "base_uri": "https://localhost:8080/",
          "height": 34
        },
        "outputId": "64355b79-2c8b-4b77-96e4-7b93eef25121"
      },
      "source": [
        "#Checking the shape of our dataset\n",
        "df.shape\n",
        "#Our dataset has 21613 rows and 20 columns."
      ],
      "execution_count": null,
      "outputs": [
        {
          "output_type": "execute_result",
          "data": {
            "text/plain": [
              "(21613, 20)"
            ]
          },
          "metadata": {
            "tags": []
          },
          "execution_count": 110
        }
      ]
    },
    {
      "cell_type": "code",
      "metadata": {
        "id": "TqohkgUiD6D8",
        "colab_type": "code",
        "colab": {
          "base_uri": "https://localhost:8080/",
          "height": 476
        },
        "outputId": "65b6e720-ee89-4da4-a134-f217b16cd109"
      },
      "source": [
        "#Checking the datatypes of our predictor variables and for missing values.\n",
        "df.info()"
      ],
      "execution_count": null,
      "outputs": [
        {
          "output_type": "stream",
          "text": [
            "<class 'pandas.core.frame.DataFrame'>\n",
            "RangeIndex: 21613 entries, 0 to 21612\n",
            "Data columns (total 20 columns):\n",
            " #   Column         Non-Null Count  Dtype  \n",
            "---  ------         --------------  -----  \n",
            " 0   id             21613 non-null  int64  \n",
            " 1   price          21613 non-null  float64\n",
            " 2   bedrooms       21613 non-null  int64  \n",
            " 3   bathrooms      21613 non-null  float64\n",
            " 4   sqft_living    21613 non-null  int64  \n",
            " 5   sqft_lot       21613 non-null  int64  \n",
            " 6   floors         21613 non-null  float64\n",
            " 7   waterfront     21613 non-null  int64  \n",
            " 8   view           21613 non-null  int64  \n",
            " 9   condition      21613 non-null  int64  \n",
            " 10  grade          21613 non-null  int64  \n",
            " 11  sqft_above     21613 non-null  int64  \n",
            " 12  sqft_basement  21613 non-null  int64  \n",
            " 13  yr_built       21613 non-null  int64  \n",
            " 14  yr_renovated   21613 non-null  int64  \n",
            " 15  zipcode        21613 non-null  int64  \n",
            " 16  lat            21613 non-null  float64\n",
            " 17  long           21613 non-null  float64\n",
            " 18  sqft_living15  21613 non-null  int64  \n",
            " 19  sqft_lot15     21613 non-null  int64  \n",
            "dtypes: float64(5), int64(15)\n",
            "memory usage: 3.3 MB\n"
          ],
          "name": "stdout"
        }
      ]
    },
    {
      "cell_type": "code",
      "metadata": {
        "id": "xXWrulf7dzu_",
        "colab_type": "code",
        "colab": {
          "base_uri": "https://localhost:8080/",
          "height": 317
        },
        "outputId": "2ab6886e-341e-449b-c5d6-b81b6d7045a1"
      },
      "source": [
        "#Getting the basic statistics of our dataset.\n",
        "df.describe()"
      ],
      "execution_count": null,
      "outputs": [
        {
          "output_type": "execute_result",
          "data": {
            "text/html": [
              "<div>\n",
              "<style scoped>\n",
              "    .dataframe tbody tr th:only-of-type {\n",
              "        vertical-align: middle;\n",
              "    }\n",
              "\n",
              "    .dataframe tbody tr th {\n",
              "        vertical-align: top;\n",
              "    }\n",
              "\n",
              "    .dataframe thead th {\n",
              "        text-align: right;\n",
              "    }\n",
              "</style>\n",
              "<table border=\"1\" class=\"dataframe\">\n",
              "  <thead>\n",
              "    <tr style=\"text-align: right;\">\n",
              "      <th></th>\n",
              "      <th>id</th>\n",
              "      <th>price</th>\n",
              "      <th>bedrooms</th>\n",
              "      <th>bathrooms</th>\n",
              "      <th>sqft_living</th>\n",
              "      <th>sqft_lot</th>\n",
              "      <th>floors</th>\n",
              "      <th>waterfront</th>\n",
              "      <th>view</th>\n",
              "      <th>condition</th>\n",
              "      <th>grade</th>\n",
              "      <th>sqft_above</th>\n",
              "      <th>sqft_basement</th>\n",
              "      <th>yr_built</th>\n",
              "      <th>yr_renovated</th>\n",
              "      <th>zipcode</th>\n",
              "      <th>lat</th>\n",
              "      <th>long</th>\n",
              "      <th>sqft_living15</th>\n",
              "      <th>sqft_lot15</th>\n",
              "    </tr>\n",
              "  </thead>\n",
              "  <tbody>\n",
              "    <tr>\n",
              "      <th>count</th>\n",
              "      <td>2.161300e+04</td>\n",
              "      <td>2.161300e+04</td>\n",
              "      <td>21613.000000</td>\n",
              "      <td>21613.000000</td>\n",
              "      <td>21613.000000</td>\n",
              "      <td>2.161300e+04</td>\n",
              "      <td>21613.000000</td>\n",
              "      <td>21613.000000</td>\n",
              "      <td>21613.000000</td>\n",
              "      <td>21613.000000</td>\n",
              "      <td>21613.000000</td>\n",
              "      <td>21613.000000</td>\n",
              "      <td>21613.000000</td>\n",
              "      <td>21613.000000</td>\n",
              "      <td>21613.000000</td>\n",
              "      <td>21613.000000</td>\n",
              "      <td>21613.000000</td>\n",
              "      <td>21613.000000</td>\n",
              "      <td>21613.000000</td>\n",
              "      <td>21613.000000</td>\n",
              "    </tr>\n",
              "    <tr>\n",
              "      <th>mean</th>\n",
              "      <td>4.580302e+09</td>\n",
              "      <td>5.401822e+05</td>\n",
              "      <td>3.370842</td>\n",
              "      <td>2.114757</td>\n",
              "      <td>2079.899736</td>\n",
              "      <td>1.510697e+04</td>\n",
              "      <td>1.494309</td>\n",
              "      <td>0.007542</td>\n",
              "      <td>0.234303</td>\n",
              "      <td>3.409430</td>\n",
              "      <td>7.656873</td>\n",
              "      <td>1788.390691</td>\n",
              "      <td>291.509045</td>\n",
              "      <td>1971.005136</td>\n",
              "      <td>84.402258</td>\n",
              "      <td>98077.939805</td>\n",
              "      <td>47.560053</td>\n",
              "      <td>-122.213896</td>\n",
              "      <td>1986.552492</td>\n",
              "      <td>12768.455652</td>\n",
              "    </tr>\n",
              "    <tr>\n",
              "      <th>std</th>\n",
              "      <td>2.876566e+09</td>\n",
              "      <td>3.673622e+05</td>\n",
              "      <td>0.930062</td>\n",
              "      <td>0.770163</td>\n",
              "      <td>918.440897</td>\n",
              "      <td>4.142051e+04</td>\n",
              "      <td>0.539989</td>\n",
              "      <td>0.086517</td>\n",
              "      <td>0.766318</td>\n",
              "      <td>0.650743</td>\n",
              "      <td>1.175459</td>\n",
              "      <td>828.090978</td>\n",
              "      <td>442.575043</td>\n",
              "      <td>29.373411</td>\n",
              "      <td>401.679240</td>\n",
              "      <td>53.505026</td>\n",
              "      <td>0.138564</td>\n",
              "      <td>0.140828</td>\n",
              "      <td>685.391304</td>\n",
              "      <td>27304.179631</td>\n",
              "    </tr>\n",
              "    <tr>\n",
              "      <th>min</th>\n",
              "      <td>1.000102e+06</td>\n",
              "      <td>7.500000e+04</td>\n",
              "      <td>0.000000</td>\n",
              "      <td>0.000000</td>\n",
              "      <td>290.000000</td>\n",
              "      <td>5.200000e+02</td>\n",
              "      <td>1.000000</td>\n",
              "      <td>0.000000</td>\n",
              "      <td>0.000000</td>\n",
              "      <td>1.000000</td>\n",
              "      <td>1.000000</td>\n",
              "      <td>290.000000</td>\n",
              "      <td>0.000000</td>\n",
              "      <td>1900.000000</td>\n",
              "      <td>0.000000</td>\n",
              "      <td>98001.000000</td>\n",
              "      <td>47.155900</td>\n",
              "      <td>-122.519000</td>\n",
              "      <td>399.000000</td>\n",
              "      <td>651.000000</td>\n",
              "    </tr>\n",
              "    <tr>\n",
              "      <th>25%</th>\n",
              "      <td>2.123049e+09</td>\n",
              "      <td>3.219500e+05</td>\n",
              "      <td>3.000000</td>\n",
              "      <td>1.750000</td>\n",
              "      <td>1427.000000</td>\n",
              "      <td>5.040000e+03</td>\n",
              "      <td>1.000000</td>\n",
              "      <td>0.000000</td>\n",
              "      <td>0.000000</td>\n",
              "      <td>3.000000</td>\n",
              "      <td>7.000000</td>\n",
              "      <td>1190.000000</td>\n",
              "      <td>0.000000</td>\n",
              "      <td>1951.000000</td>\n",
              "      <td>0.000000</td>\n",
              "      <td>98033.000000</td>\n",
              "      <td>47.471000</td>\n",
              "      <td>-122.328000</td>\n",
              "      <td>1490.000000</td>\n",
              "      <td>5100.000000</td>\n",
              "    </tr>\n",
              "    <tr>\n",
              "      <th>50%</th>\n",
              "      <td>3.904930e+09</td>\n",
              "      <td>4.500000e+05</td>\n",
              "      <td>3.000000</td>\n",
              "      <td>2.250000</td>\n",
              "      <td>1910.000000</td>\n",
              "      <td>7.618000e+03</td>\n",
              "      <td>1.500000</td>\n",
              "      <td>0.000000</td>\n",
              "      <td>0.000000</td>\n",
              "      <td>3.000000</td>\n",
              "      <td>7.000000</td>\n",
              "      <td>1560.000000</td>\n",
              "      <td>0.000000</td>\n",
              "      <td>1975.000000</td>\n",
              "      <td>0.000000</td>\n",
              "      <td>98065.000000</td>\n",
              "      <td>47.571800</td>\n",
              "      <td>-122.230000</td>\n",
              "      <td>1840.000000</td>\n",
              "      <td>7620.000000</td>\n",
              "    </tr>\n",
              "    <tr>\n",
              "      <th>75%</th>\n",
              "      <td>7.308900e+09</td>\n",
              "      <td>6.450000e+05</td>\n",
              "      <td>4.000000</td>\n",
              "      <td>2.500000</td>\n",
              "      <td>2550.000000</td>\n",
              "      <td>1.068800e+04</td>\n",
              "      <td>2.000000</td>\n",
              "      <td>0.000000</td>\n",
              "      <td>0.000000</td>\n",
              "      <td>4.000000</td>\n",
              "      <td>8.000000</td>\n",
              "      <td>2210.000000</td>\n",
              "      <td>560.000000</td>\n",
              "      <td>1997.000000</td>\n",
              "      <td>0.000000</td>\n",
              "      <td>98118.000000</td>\n",
              "      <td>47.678000</td>\n",
              "      <td>-122.125000</td>\n",
              "      <td>2360.000000</td>\n",
              "      <td>10083.000000</td>\n",
              "    </tr>\n",
              "    <tr>\n",
              "      <th>max</th>\n",
              "      <td>9.900000e+09</td>\n",
              "      <td>7.700000e+06</td>\n",
              "      <td>33.000000</td>\n",
              "      <td>8.000000</td>\n",
              "      <td>13540.000000</td>\n",
              "      <td>1.651359e+06</td>\n",
              "      <td>3.500000</td>\n",
              "      <td>1.000000</td>\n",
              "      <td>4.000000</td>\n",
              "      <td>5.000000</td>\n",
              "      <td>13.000000</td>\n",
              "      <td>9410.000000</td>\n",
              "      <td>4820.000000</td>\n",
              "      <td>2015.000000</td>\n",
              "      <td>2015.000000</td>\n",
              "      <td>98199.000000</td>\n",
              "      <td>47.777600</td>\n",
              "      <td>-121.315000</td>\n",
              "      <td>6210.000000</td>\n",
              "      <td>871200.000000</td>\n",
              "    </tr>\n",
              "  </tbody>\n",
              "</table>\n",
              "</div>"
            ],
            "text/plain": [
              "                 id         price  ...  sqft_living15     sqft_lot15\n",
              "count  2.161300e+04  2.161300e+04  ...   21613.000000   21613.000000\n",
              "mean   4.580302e+09  5.401822e+05  ...    1986.552492   12768.455652\n",
              "std    2.876566e+09  3.673622e+05  ...     685.391304   27304.179631\n",
              "min    1.000102e+06  7.500000e+04  ...     399.000000     651.000000\n",
              "25%    2.123049e+09  3.219500e+05  ...    1490.000000    5100.000000\n",
              "50%    3.904930e+09  4.500000e+05  ...    1840.000000    7620.000000\n",
              "75%    7.308900e+09  6.450000e+05  ...    2360.000000   10083.000000\n",
              "max    9.900000e+09  7.700000e+06  ...    6210.000000  871200.000000\n",
              "\n",
              "[8 rows x 20 columns]"
            ]
          },
          "metadata": {
            "tags": []
          },
          "execution_count": 99
        }
      ]
    },
    {
      "cell_type": "markdown",
      "metadata": {
        "id": "Nij1ClvBeI4M",
        "colab_type": "text"
      },
      "source": [
        "# Data Cleaning"
      ]
    },
    {
      "cell_type": "code",
      "metadata": {
        "id": "mVZQyTMYeAF6",
        "colab_type": "code",
        "colab": {
          "base_uri": "https://localhost:8080/",
          "height": 34
        },
        "outputId": "702219d7-92c8-4979-fce9-d382e13555de"
      },
      "source": [
        "#Checking for duplicated rows in our dataset\n",
        "df.duplicated().any()\n",
        "#There are dupliacted rows in our dataset"
      ],
      "execution_count": 3,
      "outputs": [
        {
          "output_type": "execute_result",
          "data": {
            "text/plain": [
              "True"
            ]
          },
          "metadata": {
            "tags": []
          },
          "execution_count": 3
        }
      ]
    },
    {
      "cell_type": "code",
      "metadata": {
        "id": "8z3ADXFFelF1",
        "colab_type": "code",
        "colab": {}
      },
      "source": [
        "#Dropping dupliactes in our dataset\n",
        "df = df.drop_duplicates()"
      ],
      "execution_count": 4,
      "outputs": []
    },
    {
      "cell_type": "code",
      "metadata": {
        "id": "MXtL7iDEe4ZE",
        "colab_type": "code",
        "colab": {
          "base_uri": "https://localhost:8080/",
          "height": 34
        },
        "outputId": "3aebb892-60e0-4eb2-97a8-dd5db7b6fbdb"
      },
      "source": [
        "#Confirming for presence of duplicated rows\n",
        "df.duplicated().any()\n",
        "#No duplicated rows"
      ],
      "execution_count": 5,
      "outputs": [
        {
          "output_type": "execute_result",
          "data": {
            "text/plain": [
              "False"
            ]
          },
          "metadata": {
            "tags": []
          },
          "execution_count": 5
        }
      ]
    },
    {
      "cell_type": "code",
      "metadata": {
        "id": "ei6SPeeefRJN",
        "colab_type": "code",
        "colab": {
          "base_uri": "https://localhost:8080/",
          "height": 374
        },
        "outputId": "63822e34-a64b-410b-a6c0-f15d2ad70a52"
      },
      "source": [
        "#Checking for null values in the dataset.\n",
        "df.isnull().any()\n",
        "#There are no null values in the dataset."
      ],
      "execution_count": null,
      "outputs": [
        {
          "output_type": "execute_result",
          "data": {
            "text/plain": [
              "id               False\n",
              "price            False\n",
              "bedrooms         False\n",
              "bathrooms        False\n",
              "sqft_living      False\n",
              "sqft_lot         False\n",
              "floors           False\n",
              "waterfront       False\n",
              "view             False\n",
              "condition        False\n",
              "grade            False\n",
              "sqft_above       False\n",
              "sqft_basement    False\n",
              "yr_built         False\n",
              "yr_renovated     False\n",
              "zipcode          False\n",
              "lat              False\n",
              "long             False\n",
              "sqft_living15    False\n",
              "sqft_lot15       False\n",
              "dtype: bool"
            ]
          },
          "metadata": {
            "tags": []
          },
          "execution_count": 7
        }
      ]
    },
    {
      "cell_type": "code",
      "metadata": {
        "id": "-yIDUDjqpNzk",
        "colab_type": "code",
        "colab": {}
      },
      "source": [
        "#I dropped the id column since it won't be useful in our analysis\n",
        "df = df.drop(['id'],axis=1)\n",
        "#I reset the inde to start correctly for easier analysis.\n",
        "df = df.reset_index(drop=True)"
      ],
      "execution_count": 6,
      "outputs": []
    },
    {
      "cell_type": "code",
      "metadata": {
        "id": "a0k3e3hJKLdE",
        "colab_type": "code",
        "colab": {
          "base_uri": "https://localhost:8080/",
          "height": 357
        },
        "outputId": "6c2f2375-d424-47cf-bc75-40bff156f6c7"
      },
      "source": [
        "df.dtypes"
      ],
      "execution_count": null,
      "outputs": [
        {
          "output_type": "execute_result",
          "data": {
            "text/plain": [
              "price            float64\n",
              "bedrooms           int64\n",
              "bathrooms        float64\n",
              "sqft_living        int64\n",
              "sqft_lot           int64\n",
              "floors           float64\n",
              "waterfront         int64\n",
              "view               int64\n",
              "condition          int64\n",
              "grade              int64\n",
              "sqft_above         int64\n",
              "sqft_basement      int64\n",
              "yr_built           int64\n",
              "yr_renovated       int64\n",
              "zipcode            int64\n",
              "lat              float64\n",
              "long             float64\n",
              "sqft_living15      int64\n",
              "sqft_lot15         int64\n",
              "dtype: object"
            ]
          },
          "metadata": {
            "tags": []
          },
          "execution_count": 11
        }
      ]
    },
    {
      "cell_type": "code",
      "metadata": {
        "id": "ImhanJ-fpqK6",
        "colab_type": "code",
        "colab": {
          "base_uri": "https://localhost:8080/",
          "height": 224
        },
        "outputId": "3d918bd9-c58b-4d81-ae94-91cc1598977f"
      },
      "source": [
        "#Previewing the dataset\n",
        "df.head()"
      ],
      "execution_count": null,
      "outputs": [
        {
          "output_type": "execute_result",
          "data": {
            "text/html": [
              "<div>\n",
              "<style scoped>\n",
              "    .dataframe tbody tr th:only-of-type {\n",
              "        vertical-align: middle;\n",
              "    }\n",
              "\n",
              "    .dataframe tbody tr th {\n",
              "        vertical-align: top;\n",
              "    }\n",
              "\n",
              "    .dataframe thead th {\n",
              "        text-align: right;\n",
              "    }\n",
              "</style>\n",
              "<table border=\"1\" class=\"dataframe\">\n",
              "  <thead>\n",
              "    <tr style=\"text-align: right;\">\n",
              "      <th></th>\n",
              "      <th>price</th>\n",
              "      <th>bedrooms</th>\n",
              "      <th>bathrooms</th>\n",
              "      <th>sqft_living</th>\n",
              "      <th>sqft_lot</th>\n",
              "      <th>floors</th>\n",
              "      <th>waterfront</th>\n",
              "      <th>view</th>\n",
              "      <th>condition</th>\n",
              "      <th>grade</th>\n",
              "      <th>sqft_above</th>\n",
              "      <th>sqft_basement</th>\n",
              "      <th>yr_built</th>\n",
              "      <th>yr_renovated</th>\n",
              "      <th>zipcode</th>\n",
              "      <th>lat</th>\n",
              "      <th>long</th>\n",
              "      <th>sqft_living15</th>\n",
              "      <th>sqft_lot15</th>\n",
              "    </tr>\n",
              "  </thead>\n",
              "  <tbody>\n",
              "    <tr>\n",
              "      <th>0</th>\n",
              "      <td>221900.0</td>\n",
              "      <td>3</td>\n",
              "      <td>1.00</td>\n",
              "      <td>1180</td>\n",
              "      <td>5650</td>\n",
              "      <td>1.0</td>\n",
              "      <td>0</td>\n",
              "      <td>0</td>\n",
              "      <td>3</td>\n",
              "      <td>7</td>\n",
              "      <td>1180</td>\n",
              "      <td>0</td>\n",
              "      <td>1955</td>\n",
              "      <td>0</td>\n",
              "      <td>98178</td>\n",
              "      <td>47.5112</td>\n",
              "      <td>-122.257</td>\n",
              "      <td>1340</td>\n",
              "      <td>5650</td>\n",
              "    </tr>\n",
              "    <tr>\n",
              "      <th>1</th>\n",
              "      <td>538000.0</td>\n",
              "      <td>3</td>\n",
              "      <td>2.25</td>\n",
              "      <td>2570</td>\n",
              "      <td>7242</td>\n",
              "      <td>2.0</td>\n",
              "      <td>0</td>\n",
              "      <td>0</td>\n",
              "      <td>3</td>\n",
              "      <td>7</td>\n",
              "      <td>2170</td>\n",
              "      <td>400</td>\n",
              "      <td>1951</td>\n",
              "      <td>1991</td>\n",
              "      <td>98125</td>\n",
              "      <td>47.7210</td>\n",
              "      <td>-122.319</td>\n",
              "      <td>1690</td>\n",
              "      <td>7639</td>\n",
              "    </tr>\n",
              "    <tr>\n",
              "      <th>2</th>\n",
              "      <td>180000.0</td>\n",
              "      <td>2</td>\n",
              "      <td>1.00</td>\n",
              "      <td>770</td>\n",
              "      <td>10000</td>\n",
              "      <td>1.0</td>\n",
              "      <td>0</td>\n",
              "      <td>0</td>\n",
              "      <td>3</td>\n",
              "      <td>6</td>\n",
              "      <td>770</td>\n",
              "      <td>0</td>\n",
              "      <td>1933</td>\n",
              "      <td>0</td>\n",
              "      <td>98028</td>\n",
              "      <td>47.7379</td>\n",
              "      <td>-122.233</td>\n",
              "      <td>2720</td>\n",
              "      <td>8062</td>\n",
              "    </tr>\n",
              "    <tr>\n",
              "      <th>3</th>\n",
              "      <td>604000.0</td>\n",
              "      <td>4</td>\n",
              "      <td>3.00</td>\n",
              "      <td>1960</td>\n",
              "      <td>5000</td>\n",
              "      <td>1.0</td>\n",
              "      <td>0</td>\n",
              "      <td>0</td>\n",
              "      <td>5</td>\n",
              "      <td>7</td>\n",
              "      <td>1050</td>\n",
              "      <td>910</td>\n",
              "      <td>1965</td>\n",
              "      <td>0</td>\n",
              "      <td>98136</td>\n",
              "      <td>47.5208</td>\n",
              "      <td>-122.393</td>\n",
              "      <td>1360</td>\n",
              "      <td>5000</td>\n",
              "    </tr>\n",
              "    <tr>\n",
              "      <th>4</th>\n",
              "      <td>510000.0</td>\n",
              "      <td>3</td>\n",
              "      <td>2.00</td>\n",
              "      <td>1680</td>\n",
              "      <td>8080</td>\n",
              "      <td>1.0</td>\n",
              "      <td>0</td>\n",
              "      <td>0</td>\n",
              "      <td>3</td>\n",
              "      <td>8</td>\n",
              "      <td>1680</td>\n",
              "      <td>0</td>\n",
              "      <td>1987</td>\n",
              "      <td>0</td>\n",
              "      <td>98074</td>\n",
              "      <td>47.6168</td>\n",
              "      <td>-122.045</td>\n",
              "      <td>1800</td>\n",
              "      <td>7503</td>\n",
              "    </tr>\n",
              "  </tbody>\n",
              "</table>\n",
              "</div>"
            ],
            "text/plain": [
              "      price  bedrooms  bathrooms  ...     long  sqft_living15  sqft_lot15\n",
              "0  221900.0         3       1.00  ... -122.257           1340        5650\n",
              "1  538000.0         3       2.25  ... -122.319           1690        7639\n",
              "2  180000.0         2       1.00  ... -122.233           2720        8062\n",
              "3  604000.0         4       3.00  ... -122.393           1360        5000\n",
              "4  510000.0         3       2.00  ... -122.045           1800        7503\n",
              "\n",
              "[5 rows x 19 columns]"
            ]
          },
          "metadata": {
            "tags": []
          },
          "execution_count": 9
        }
      ]
    },
    {
      "cell_type": "code",
      "metadata": {
        "id": "-XQkaMzyKsii",
        "colab_type": "code",
        "colab": {
          "base_uri": "https://localhost:8080/",
          "height": 34
        },
        "outputId": "8133a010-af6f-4050-8057-0463d43dcbdc"
      },
      "source": [
        "df['lat'].nunique()"
      ],
      "execution_count": null,
      "outputs": [
        {
          "output_type": "execute_result",
          "data": {
            "text/plain": [
              "5034"
            ]
          },
          "metadata": {
            "tags": []
          },
          "execution_count": 171
        }
      ]
    },
    {
      "cell_type": "code",
      "metadata": {
        "id": "mOAq8Z3lyNgn",
        "colab_type": "code",
        "colab": {
          "base_uri": "https://localhost:8080/",
          "height": 34
        },
        "outputId": "5ee5faf5-e204-40d5-b5eb-3a774c6dc7b4"
      },
      "source": [
        "df['long'].nunique()"
      ],
      "execution_count": null,
      "outputs": [
        {
          "output_type": "execute_result",
          "data": {
            "text/plain": [
              "752"
            ]
          },
          "metadata": {
            "tags": []
          },
          "execution_count": 11
        }
      ]
    },
    {
      "cell_type": "markdown",
      "metadata": {
        "id": "FOeW-b3l55A8",
        "colab_type": "text"
      },
      "source": [
        "I found that there was a funny pattern in the renoavtion year in the dataset. Where some rows had years while had 0. So I decided to investigate the number of rows that had years."
      ]
    },
    {
      "cell_type": "code",
      "metadata": {
        "id": "oMaWedR03-94",
        "colab_type": "code",
        "colab": {
          "base_uri": "https://localhost:8080/",
          "height": 34
        },
        "outputId": "ef5b9c33-e7ed-40e9-8dfd-c6de74e7a3bc"
      },
      "source": [
        "#Printing out the shape of the rows that had years\n",
        "df0 = df[df['yr_renovated'] != 0]\n",
        "df0.shape"
      ],
      "execution_count": null,
      "outputs": [
        {
          "output_type": "execute_result",
          "data": {
            "text/plain": [
              "(913, 19)"
            ]
          },
          "metadata": {
            "tags": []
          },
          "execution_count": 150
        }
      ]
    },
    {
      "cell_type": "markdown",
      "metadata": {
        "id": "gvDO6nZ9wDzI",
        "colab_type": "text"
      },
      "source": [
        "This showed that 913 houses in our dataset had been renovated. So I decided to use the data to show which houses had actually been renovated instead of the years that they had been renovated."
      ]
    },
    {
      "cell_type": "code",
      "metadata": {
        "id": "Xa3Ye6Vmvamz",
        "colab_type": "code",
        "colab": {
          "base_uri": "https://localhost:8080/",
          "height": 224
        },
        "outputId": "7142c42f-7002-4838-f7f9-9120e09e4571"
      },
      "source": [
        "#Changing the years to 1 to make it a binary result.\n",
        "df.loc[(df.yr_renovated != 0),'yr_renovated']='1'\n",
        "df.head()"
      ],
      "execution_count": 7,
      "outputs": [
        {
          "output_type": "execute_result",
          "data": {
            "text/html": [
              "<div>\n",
              "<style scoped>\n",
              "    .dataframe tbody tr th:only-of-type {\n",
              "        vertical-align: middle;\n",
              "    }\n",
              "\n",
              "    .dataframe tbody tr th {\n",
              "        vertical-align: top;\n",
              "    }\n",
              "\n",
              "    .dataframe thead th {\n",
              "        text-align: right;\n",
              "    }\n",
              "</style>\n",
              "<table border=\"1\" class=\"dataframe\">\n",
              "  <thead>\n",
              "    <tr style=\"text-align: right;\">\n",
              "      <th></th>\n",
              "      <th>price</th>\n",
              "      <th>bedrooms</th>\n",
              "      <th>bathrooms</th>\n",
              "      <th>sqft_living</th>\n",
              "      <th>sqft_lot</th>\n",
              "      <th>floors</th>\n",
              "      <th>waterfront</th>\n",
              "      <th>view</th>\n",
              "      <th>condition</th>\n",
              "      <th>grade</th>\n",
              "      <th>sqft_above</th>\n",
              "      <th>sqft_basement</th>\n",
              "      <th>yr_built</th>\n",
              "      <th>yr_renovated</th>\n",
              "      <th>zipcode</th>\n",
              "      <th>lat</th>\n",
              "      <th>long</th>\n",
              "      <th>sqft_living15</th>\n",
              "      <th>sqft_lot15</th>\n",
              "    </tr>\n",
              "  </thead>\n",
              "  <tbody>\n",
              "    <tr>\n",
              "      <th>0</th>\n",
              "      <td>221900.0</td>\n",
              "      <td>3</td>\n",
              "      <td>1.00</td>\n",
              "      <td>1180</td>\n",
              "      <td>5650</td>\n",
              "      <td>1.0</td>\n",
              "      <td>0</td>\n",
              "      <td>0</td>\n",
              "      <td>3</td>\n",
              "      <td>7</td>\n",
              "      <td>1180</td>\n",
              "      <td>0</td>\n",
              "      <td>1955</td>\n",
              "      <td>0</td>\n",
              "      <td>98178</td>\n",
              "      <td>47.5112</td>\n",
              "      <td>-122.257</td>\n",
              "      <td>1340</td>\n",
              "      <td>5650</td>\n",
              "    </tr>\n",
              "    <tr>\n",
              "      <th>1</th>\n",
              "      <td>538000.0</td>\n",
              "      <td>3</td>\n",
              "      <td>2.25</td>\n",
              "      <td>2570</td>\n",
              "      <td>7242</td>\n",
              "      <td>2.0</td>\n",
              "      <td>0</td>\n",
              "      <td>0</td>\n",
              "      <td>3</td>\n",
              "      <td>7</td>\n",
              "      <td>2170</td>\n",
              "      <td>400</td>\n",
              "      <td>1951</td>\n",
              "      <td>1</td>\n",
              "      <td>98125</td>\n",
              "      <td>47.7210</td>\n",
              "      <td>-122.319</td>\n",
              "      <td>1690</td>\n",
              "      <td>7639</td>\n",
              "    </tr>\n",
              "    <tr>\n",
              "      <th>2</th>\n",
              "      <td>180000.0</td>\n",
              "      <td>2</td>\n",
              "      <td>1.00</td>\n",
              "      <td>770</td>\n",
              "      <td>10000</td>\n",
              "      <td>1.0</td>\n",
              "      <td>0</td>\n",
              "      <td>0</td>\n",
              "      <td>3</td>\n",
              "      <td>6</td>\n",
              "      <td>770</td>\n",
              "      <td>0</td>\n",
              "      <td>1933</td>\n",
              "      <td>0</td>\n",
              "      <td>98028</td>\n",
              "      <td>47.7379</td>\n",
              "      <td>-122.233</td>\n",
              "      <td>2720</td>\n",
              "      <td>8062</td>\n",
              "    </tr>\n",
              "    <tr>\n",
              "      <th>3</th>\n",
              "      <td>604000.0</td>\n",
              "      <td>4</td>\n",
              "      <td>3.00</td>\n",
              "      <td>1960</td>\n",
              "      <td>5000</td>\n",
              "      <td>1.0</td>\n",
              "      <td>0</td>\n",
              "      <td>0</td>\n",
              "      <td>5</td>\n",
              "      <td>7</td>\n",
              "      <td>1050</td>\n",
              "      <td>910</td>\n",
              "      <td>1965</td>\n",
              "      <td>0</td>\n",
              "      <td>98136</td>\n",
              "      <td>47.5208</td>\n",
              "      <td>-122.393</td>\n",
              "      <td>1360</td>\n",
              "      <td>5000</td>\n",
              "    </tr>\n",
              "    <tr>\n",
              "      <th>4</th>\n",
              "      <td>510000.0</td>\n",
              "      <td>3</td>\n",
              "      <td>2.00</td>\n",
              "      <td>1680</td>\n",
              "      <td>8080</td>\n",
              "      <td>1.0</td>\n",
              "      <td>0</td>\n",
              "      <td>0</td>\n",
              "      <td>3</td>\n",
              "      <td>8</td>\n",
              "      <td>1680</td>\n",
              "      <td>0</td>\n",
              "      <td>1987</td>\n",
              "      <td>0</td>\n",
              "      <td>98074</td>\n",
              "      <td>47.6168</td>\n",
              "      <td>-122.045</td>\n",
              "      <td>1800</td>\n",
              "      <td>7503</td>\n",
              "    </tr>\n",
              "  </tbody>\n",
              "</table>\n",
              "</div>"
            ],
            "text/plain": [
              "      price  bedrooms  bathrooms  ...     long  sqft_living15  sqft_lot15\n",
              "0  221900.0         3       1.00  ... -122.257           1340        5650\n",
              "1  538000.0         3       2.25  ... -122.319           1690        7639\n",
              "2  180000.0         2       1.00  ... -122.233           2720        8062\n",
              "3  604000.0         4       3.00  ... -122.393           1360        5000\n",
              "4  510000.0         3       2.00  ... -122.045           1800        7503\n",
              "\n",
              "[5 rows x 19 columns]"
            ]
          },
          "metadata": {
            "tags": []
          },
          "execution_count": 7
        }
      ]
    },
    {
      "cell_type": "code",
      "metadata": {
        "id": "Zs3duK3d1yFl",
        "colab_type": "code",
        "colab": {}
      },
      "source": [
        "#Changing the column name from year renovated to renovated to display whether a house was renovated or not.\n",
        "df = df.rename(columns = {'yr_renovated' : 'renovated'})"
      ],
      "execution_count": 8,
      "outputs": []
    },
    {
      "cell_type": "code",
      "metadata": {
        "id": "ErwAaIEpDM-D",
        "colab_type": "code",
        "colab": {}
      },
      "source": [
        "#I decided to drop the latitude and longitude since the zipcode provides that information\n",
        "\n",
        "df = df.drop(['lat','long'],axis=1)"
      ],
      "execution_count": 9,
      "outputs": []
    },
    {
      "cell_type": "code",
      "metadata": {
        "id": "9x4kxVIOLKnw",
        "colab_type": "code",
        "colab": {
          "base_uri": "https://localhost:8080/",
          "height": 224
        },
        "outputId": "c143c66b-370e-4c64-f8e1-8eea14bb9527"
      },
      "source": [
        "#Previewing the dataset\n",
        "df.head()"
      ],
      "execution_count": 10,
      "outputs": [
        {
          "output_type": "execute_result",
          "data": {
            "text/html": [
              "<div>\n",
              "<style scoped>\n",
              "    .dataframe tbody tr th:only-of-type {\n",
              "        vertical-align: middle;\n",
              "    }\n",
              "\n",
              "    .dataframe tbody tr th {\n",
              "        vertical-align: top;\n",
              "    }\n",
              "\n",
              "    .dataframe thead th {\n",
              "        text-align: right;\n",
              "    }\n",
              "</style>\n",
              "<table border=\"1\" class=\"dataframe\">\n",
              "  <thead>\n",
              "    <tr style=\"text-align: right;\">\n",
              "      <th></th>\n",
              "      <th>price</th>\n",
              "      <th>bedrooms</th>\n",
              "      <th>bathrooms</th>\n",
              "      <th>sqft_living</th>\n",
              "      <th>sqft_lot</th>\n",
              "      <th>floors</th>\n",
              "      <th>waterfront</th>\n",
              "      <th>view</th>\n",
              "      <th>condition</th>\n",
              "      <th>grade</th>\n",
              "      <th>sqft_above</th>\n",
              "      <th>sqft_basement</th>\n",
              "      <th>yr_built</th>\n",
              "      <th>renovated</th>\n",
              "      <th>zipcode</th>\n",
              "      <th>sqft_living15</th>\n",
              "      <th>sqft_lot15</th>\n",
              "    </tr>\n",
              "  </thead>\n",
              "  <tbody>\n",
              "    <tr>\n",
              "      <th>0</th>\n",
              "      <td>221900.0</td>\n",
              "      <td>3</td>\n",
              "      <td>1.00</td>\n",
              "      <td>1180</td>\n",
              "      <td>5650</td>\n",
              "      <td>1.0</td>\n",
              "      <td>0</td>\n",
              "      <td>0</td>\n",
              "      <td>3</td>\n",
              "      <td>7</td>\n",
              "      <td>1180</td>\n",
              "      <td>0</td>\n",
              "      <td>1955</td>\n",
              "      <td>0</td>\n",
              "      <td>98178</td>\n",
              "      <td>1340</td>\n",
              "      <td>5650</td>\n",
              "    </tr>\n",
              "    <tr>\n",
              "      <th>1</th>\n",
              "      <td>538000.0</td>\n",
              "      <td>3</td>\n",
              "      <td>2.25</td>\n",
              "      <td>2570</td>\n",
              "      <td>7242</td>\n",
              "      <td>2.0</td>\n",
              "      <td>0</td>\n",
              "      <td>0</td>\n",
              "      <td>3</td>\n",
              "      <td>7</td>\n",
              "      <td>2170</td>\n",
              "      <td>400</td>\n",
              "      <td>1951</td>\n",
              "      <td>1</td>\n",
              "      <td>98125</td>\n",
              "      <td>1690</td>\n",
              "      <td>7639</td>\n",
              "    </tr>\n",
              "    <tr>\n",
              "      <th>2</th>\n",
              "      <td>180000.0</td>\n",
              "      <td>2</td>\n",
              "      <td>1.00</td>\n",
              "      <td>770</td>\n",
              "      <td>10000</td>\n",
              "      <td>1.0</td>\n",
              "      <td>0</td>\n",
              "      <td>0</td>\n",
              "      <td>3</td>\n",
              "      <td>6</td>\n",
              "      <td>770</td>\n",
              "      <td>0</td>\n",
              "      <td>1933</td>\n",
              "      <td>0</td>\n",
              "      <td>98028</td>\n",
              "      <td>2720</td>\n",
              "      <td>8062</td>\n",
              "    </tr>\n",
              "    <tr>\n",
              "      <th>3</th>\n",
              "      <td>604000.0</td>\n",
              "      <td>4</td>\n",
              "      <td>3.00</td>\n",
              "      <td>1960</td>\n",
              "      <td>5000</td>\n",
              "      <td>1.0</td>\n",
              "      <td>0</td>\n",
              "      <td>0</td>\n",
              "      <td>5</td>\n",
              "      <td>7</td>\n",
              "      <td>1050</td>\n",
              "      <td>910</td>\n",
              "      <td>1965</td>\n",
              "      <td>0</td>\n",
              "      <td>98136</td>\n",
              "      <td>1360</td>\n",
              "      <td>5000</td>\n",
              "    </tr>\n",
              "    <tr>\n",
              "      <th>4</th>\n",
              "      <td>510000.0</td>\n",
              "      <td>3</td>\n",
              "      <td>2.00</td>\n",
              "      <td>1680</td>\n",
              "      <td>8080</td>\n",
              "      <td>1.0</td>\n",
              "      <td>0</td>\n",
              "      <td>0</td>\n",
              "      <td>3</td>\n",
              "      <td>8</td>\n",
              "      <td>1680</td>\n",
              "      <td>0</td>\n",
              "      <td>1987</td>\n",
              "      <td>0</td>\n",
              "      <td>98074</td>\n",
              "      <td>1800</td>\n",
              "      <td>7503</td>\n",
              "    </tr>\n",
              "  </tbody>\n",
              "</table>\n",
              "</div>"
            ],
            "text/plain": [
              "      price  bedrooms  bathrooms  ...  zipcode  sqft_living15  sqft_lot15\n",
              "0  221900.0         3       1.00  ...    98178           1340        5650\n",
              "1  538000.0         3       2.25  ...    98125           1690        7639\n",
              "2  180000.0         2       1.00  ...    98028           2720        8062\n",
              "3  604000.0         4       3.00  ...    98136           1360        5000\n",
              "4  510000.0         3       2.00  ...    98074           1800        7503\n",
              "\n",
              "[5 rows x 17 columns]"
            ]
          },
          "metadata": {
            "tags": []
          },
          "execution_count": 10
        }
      ]
    },
    {
      "cell_type": "markdown",
      "metadata": {
        "id": "ppTlQRpTnNsZ",
        "colab_type": "text"
      },
      "source": [
        "An **outlier** is a data point that differs significantly from other observations."
      ]
    },
    {
      "cell_type": "code",
      "metadata": {
        "id": "kbBm4qRiiIo3",
        "colab_type": "code",
        "colab": {
          "base_uri": "https://localhost:8080/",
          "height": 689
        },
        "outputId": "30a394bb-131b-4de7-86ff-037b4d5e7f6b"
      },
      "source": [
        "#Checking for outliers\n",
        "#Importing the necessary libraries\n",
        "import matplotlib.pyplot as plt\n",
        "import seaborn as sns\n",
        "#Defining the columns to check for outliers.\n",
        "cols = ['price','sqft_living','sqft_lot','floors','sqft_above','sqft_basement','sqft_living15','sqft_lot15']\n",
        "#Defining the colors to be used in the boxplots\n",
        "colors = ['red','black','green','darkturquoise','mediumpurple','darkorange','fuchsia','blueviolet']\n",
        "#Used a for loop to plot boxplots for each of the selected columns.\n",
        "fig, axes = plt.subplots(nrows=2,ncols=4,figsize=(15,10))\n",
        "plt.suptitle('Checking for outliers',fontsize=15,y=0.92,color='white')\n",
        "for ax,data,column,color in zip(axes.flatten(),df,cols,colors):\n",
        "  sns.boxplot(df[column], ax=ax, color=color)\n",
        "  ax.set_facecolor('white')"
      ],
      "execution_count": null,
      "outputs": [
        {
          "output_type": "stream",
          "text": [
            "/usr/local/lib/python3.6/dist-packages/statsmodels/tools/_testing.py:19: FutureWarning: pandas.util.testing is deprecated. Use the functions in the public API at pandas.testing instead.\n",
            "  import pandas.util.testing as tm\n"
          ],
          "name": "stderr"
        },
        {
          "output_type": "display_data",
          "data": {
            "image/png": "[encoded data removed]",
            "text/plain": [
              "<Figure size 1080x720 with 8 Axes>"
            ]
          },
          "metadata": {
            "tags": [],
            "needs_background": "light"
          }
        }
      ]
    },
    {
      "cell_type": "markdown",
      "metadata": {
        "id": "9hgscna-ndr7",
        "colab_type": "text"
      },
      "source": [
        "In our dataset there are presence of outliers but I chose not to drop them since they will be of importance to the prediction of house prices. Since the outliers are in every column selected except the floors one, it seems to be data that will be very useful for the modelling hence won't be dropped."
      ]
    },
    {
      "cell_type": "markdown",
      "metadata": {
        "id": "iGJxy-ttoonA",
        "colab_type": "text"
      },
      "source": [
        "# Data Exploration"
      ]
    },
    {
      "cell_type": "code",
      "metadata": {
        "id": "Yul6C-q_8YJ4",
        "colab_type": "code",
        "colab": {
          "base_uri": "https://localhost:8080/",
          "height": 374
        },
        "outputId": "33894a46-582b-49c3-8f1a-5131c6617bf7"
      },
      "source": [
        "# creating a list of columns of interest\n",
        "columns = ['price', 'bedrooms', 'bathrooms', 'sqft_living','floors','waterfront','view','condition','grade','yr_built']\n",
        "\n",
        "#Obtaining the mode of the columns mentioned\n",
        "\n",
        "for column in columns:\n",
        "  print(column +':' + str(df[column].mode()))"
      ],
      "execution_count": null,
      "outputs": [
        {
          "output_type": "stream",
          "text": [
            "price:0    350000.0\n",
            "1    450000.0\n",
            "dtype: float64\n",
            "bedrooms:0    3\n",
            "dtype: int64\n",
            "bathrooms:0    2.5\n",
            "dtype: float64\n",
            "sqft_living:0    1300\n",
            "dtype: int64\n",
            "floors:0    1.0\n",
            "dtype: float64\n",
            "waterfront:0    0\n",
            "dtype: int64\n",
            "view:0    0\n",
            "dtype: int64\n",
            "condition:0    3\n",
            "dtype: int64\n",
            "grade:0    7\n",
            "dtype: int64\n",
            "yr_built:0    2014\n",
            "dtype: int64\n"
          ],
          "name": "stdout"
        }
      ]
    },
    {
      "cell_type": "markdown",
      "metadata": {
        "id": "iQNJFLTj9hre",
        "colab_type": "text"
      },
      "source": [
        "I found that most houses were not viewed. This shows Hass Consulting Limited should work on advertising their houses since this shows a lack of customer interest in this homes. "
      ]
    },
    {
      "cell_type": "code",
      "metadata": {
        "id": "g7n1uoRmFocW",
        "colab_type": "code",
        "colab": {
          "base_uri": "https://localhost:8080/",
          "height": 295
        },
        "outputId": "ddda1c01-cdf1-42e4-8d1d-3f3f1880a86f"
      },
      "source": [
        "#Importing the necessary libraries\n",
        "import seaborn as sns\n",
        "import matplotlib.pyplot as plt\n",
        "#Creating the dataframe with the sum of prices.\n",
        "df_1 = df.groupby('price').sum()\n",
        "df_1 = df_1.reset_index(inplace=True)\n",
        "#Plotting the graphs using the seaborn barplot\n",
        "sns.barplot(x = df['view'], y = df['price'], data=df_1)\n",
        "plt.xlabel('Number of views')\n",
        "plt.ylabel('The price of homes')\n",
        "plt.title('The prices of houses per the number of views')\n",
        "plt.show()"
      ],
      "execution_count": null,
      "outputs": [
        {
          "output_type": "display_data",
          "data": {
            "image/png": "[encoded data removed]",
            "text/plain": [
              "<Figure size 432x288 with 1 Axes>"
            ]
          },
          "metadata": {
            "tags": []
          }
        }
      ]
    },
    {
      "cell_type": "markdown",
      "metadata": {
        "id": "OrTm8yJRMIQw",
        "colab_type": "text"
      },
      "source": [
        "It was noted that the houses that received the highest number of views were also the most expensive ones. The highest number of views that a house got was 4 views. There were also a number of houses that received no views at all but they were the houses that were least priced."
      ]
    },
    {
      "cell_type": "code",
      "metadata": {
        "id": "KeEBgyy2Lh4Q",
        "colab_type": "code",
        "colab": {
          "base_uri": "https://localhost:8080/",
          "height": 295
        },
        "outputId": "9b946d4a-d059-4c18-af10-9aa5fe6b2913"
      },
      "source": [
        "#Importing the necessary libraries\n",
        "import seaborn as sns\n",
        "import matplotlib.pyplot as plt\n",
        "#Creating the dataframe with the sum of prices.\n",
        "df_2 = df.groupby('price').sum()\n",
        "df_2 = df_2.reset_index(inplace=True)\n",
        "#Plotting the graphs using the seaborn barplot\n",
        "sns.barplot(x = df['bedrooms'], y = df['price'], data=df_2)\n",
        "plt.xlabel('Number of bedrooms')\n",
        "plt.ylabel('The price of homes')\n",
        "plt.title('The prices of houses per the number of bedrooms')\n",
        "plt.show()"
      ],
      "execution_count": null,
      "outputs": [
        {
          "output_type": "display_data",
          "data": {
            "image/png": "[encoded data removed]",
            "text/plain": [
              "<Figure size 432x288 with 1 Axes>"
            ]
          },
          "metadata": {
            "tags": [],
            "needs_background": "light"
          }
        }
      ]
    },
    {
      "cell_type": "markdown",
      "metadata": {
        "id": "t9NJXosLNewc",
        "colab_type": "text"
      },
      "source": [
        "The graph shows that 8 bedroom houses tend to be more expensive than any other followed by the 7 bedroom houses then the 9 bedroom houses.\n",
        "The one bedroom houses tend to be the least expensive."
      ]
    },
    {
      "cell_type": "code",
      "metadata": {
        "id": "VYz6D9zoOIcV",
        "colab_type": "code",
        "colab": {
          "base_uri": "https://localhost:8080/",
          "height": 295
        },
        "outputId": "7f4ab46f-5389-4c4b-cbc9-e5f5ddf62759"
      },
      "source": [
        "#Importing the necessary libraries\n",
        "import seaborn as sns\n",
        "import matplotlib.pyplot as plt\n",
        "#Creating the dataframe with the sum of prices.\n",
        "df_2 = df.groupby('price').sum()\n",
        "df_2 = df_2.reset_index(inplace=True)\n",
        "#Plotting the graphs using the seaborn barplot\n",
        "sns.barplot(x = df['floors'], y = df['price'], data=df_2)\n",
        "plt.xlabel('Number of floors')\n",
        "plt.ylabel('The price of homes')\n",
        "plt.title('The prices of houses per the number of bedrooms')\n",
        "plt.show()"
      ],
      "execution_count": null,
      "outputs": [
        {
          "output_type": "display_data",
          "data": {
            "image/png": "[encoded data removed]",
            "text/plain": [
              "<Figure size 432x288 with 1 Axes>"
            ]
          },
          "metadata": {
            "tags": [],
            "needs_background": "light"
          }
        }
      ]
    },
    {
      "cell_type": "markdown",
      "metadata": {
        "id": "uIwjvsDLOUiH",
        "colab_type": "text"
      },
      "source": [
        "I also noted that the houses that had 2 and a half floors were the most expensive houses followed by the ones that had 3 and a half floors. The one floor houses were the least valued priced houses."
      ]
    },
    {
      "cell_type": "code",
      "metadata": {
        "id": "X3PaUxtkOQ40",
        "colab_type": "code",
        "colab": {
          "base_uri": "https://localhost:8080/",
          "height": 295
        },
        "outputId": "9109659f-e390-4b50-f714-a3d276d2c0d7"
      },
      "source": [
        "#Importing the necessary libraries\n",
        "import seaborn as sns\n",
        "import matplotlib.pyplot as plt\n",
        "#Creating the dataframe with the sum of prices.\n",
        "df_2 = df.groupby('price').sum()\n",
        "df_2 = df_2.reset_index(inplace=True)\n",
        "#Plotting the graphs using the seaborn barplot\n",
        "sns.barplot(x = df['waterfront'], y = df['price'], data=df_2)\n",
        "plt.xlabel('Number of waterfront')\n",
        "plt.ylabel('The price of homes')\n",
        "plt.title('The prices of houses per the number of bedrooms')\n",
        "plt.show()"
      ],
      "execution_count": null,
      "outputs": [
        {
          "output_type": "display_data",
          "data": {
            "image/png": "[encoded data removed]",
            "text/plain": [
              "<Figure size 432x288 with 1 Axes>"
            ]
          },
          "metadata": {
            "tags": [],
            "needs_background": "light"
          }
        }
      ]
    },
    {
      "cell_type": "markdown",
      "metadata": {
        "id": "7nwyC216O90G",
        "colab_type": "text"
      },
      "source": [
        "It is also seen that houses that had waterfronts were highly valued than the houses that had no waterfronts. Waterfronts therefore increase the value of a house."
      ]
    },
    {
      "cell_type": "code",
      "metadata": {
        "id": "bO7406grO62R",
        "colab_type": "code",
        "colab": {
          "base_uri": "https://localhost:8080/",
          "height": 602
        },
        "outputId": "79c6b035-32fa-4e0a-db4a-ceb316d56445"
      },
      "source": [
        "# Plotting a histogram for the price and the living room area.\n",
        "columns = ['price','sqft_living']\n",
        "sns.set_style('darkgrid')\n",
        "fig, axes = plt.subplots(len(columns), figsize = (7, 8))\n",
        "fig.suptitle('Distributions of price and the living room area', y= 1.01, color = 'black', fontsize = 15)\n",
        "\n",
        "for ax, data, col in zip(axes.flatten(), df, columns):\n",
        "  sns.distplot(df[col], ax = ax, kde = True, color = 'blue')\n",
        "plt.tight_layout()"
      ],
      "execution_count": null,
      "outputs": [
        {
          "output_type": "display_data",
          "data": {
            "image/png": "[encoded data removed]",
            "text/plain": [
              "<Figure size 504x576 with 2 Axes>"
            ]
          },
          "metadata": {
            "tags": []
          }
        }
      ]
    },
    {
      "cell_type": "markdown",
      "metadata": {
        "id": "aaeJlvG9RDQr",
        "colab_type": "text"
      },
      "source": [
        "Both the price and living room assume a normal distribution."
      ]
    },
    {
      "cell_type": "code",
      "metadata": {
        "id": "k2Lvcu-tQIll",
        "colab_type": "code",
        "colab": {
          "base_uri": "https://localhost:8080/",
          "height": 295
        },
        "outputId": "3f0fc925-d4f5-4be2-ad81-4daf1f1a88ed"
      },
      "source": [
        "#Plotting the graphs using the seaborn countplot\n",
        "sns.countplot(x = 'condition', hue = 'grade', data=df)\n",
        "plt.xlabel('The Condition')\n",
        "plt.ylabel('Conditional Level')\n",
        "plt.title('The Relation between the Grade and Condition')\n",
        "plt.show()"
      ],
      "execution_count": null,
      "outputs": [
        {
          "output_type": "display_data",
          "data": {
            "image/png": "[encoded data removed]",
            "text/plain": [
              "<Figure size 432x288 with 1 Axes>"
            ]
          },
          "metadata": {
            "tags": []
          }
        }
      ]
    },
    {
      "cell_type": "markdown",
      "metadata": {
        "id": "co3M9E-BW41l",
        "colab_type": "text"
      },
      "source": [
        "It is noted that most houses fall in the 3rd and 4 th Condition. For the 3rd condition the houses fell within the 7th grade with slightly over 5000 houses followed by the 8th grade with slightly over 4000 houses. The houses in the 4th condition had most of them falling in the 7th grade followed by the 8th grade. This shows that most houses have an average performance in terms of quality."
      ]
    },
    {
      "cell_type": "code",
      "metadata": {
        "id": "jVbIsGaiWVlc",
        "colab_type": "code",
        "colab": {
          "base_uri": "https://localhost:8080/",
          "height": 478
        },
        "outputId": "1db2e193-e8a1-4cdf-8747-aa258bc2e185"
      },
      "source": [
        "prices = df.groupby('yr_built')['price'].mean().reset_index()\n",
        "# Changing the datatype of the year column to int\n",
        "prices.yr_built = prices.yr_built.astype(int) \n",
        "# Setting the figure size of the plot to 19 by 7\n",
        "plt.figure(figsize=(19,7))\n",
        "# Plotting a pointplot to show the trend of average price across the years\n",
        "ax = sns.pointplot(prices.yr_built,prices.price,color=\"w\") \n",
        "# setting the background color to black, for contrast\n",
        "ax.set_facecolor(\"k\") \n",
        "plt.grid(True,color=\"grey\",alpha=.3)\n",
        "plt.title(\"Average price per year\",color='b', y = 1.05) \n",
        "plt.show()"
      ],
      "execution_count": null,
      "outputs": [
        {
          "output_type": "display_data",
          "data": {
            "image/png": "[encoded data removed]",
            "text/plain": [
              "<Figure size 1368x504 with 1 Axes>"
            ]
          },
          "metadata": {
            "tags": []
          }
        }
      ]
    },
    {
      "cell_type": "markdown",
      "metadata": {
        "id": "e0l42qSratCl",
        "colab_type": "text"
      },
      "source": [
        "The price of the houses over the years seem to be have been the same except for a deep that occurred in between probably through economic recessions, political instability or wars. But upscaled and increased and had its high notch in 2015 the last year in our dataset."
      ]
    },
    {
      "cell_type": "code",
      "metadata": {
        "id": "JJ395FradEAf",
        "colab_type": "code",
        "colab": {
          "base_uri": "https://localhost:8080/",
          "height": 295
        },
        "outputId": "11b27fff-d87c-468c-a2f0-d1ad93afb3c9"
      },
      "source": [
        "#Importing the necessary libraries\n",
        "import seaborn as sns\n",
        "import matplotlib.pyplot as plt\n",
        "#Creating the dataframe with the sum of prices.\n",
        "df_1 = df.groupby('price').sum()\n",
        "df_1 = df_1.reset_index(inplace=True)\n",
        "#Plotting the graphs using the seaborn barplot\n",
        "sns.barplot(x = df['grade'], y = df['price'], data=df_1)\n",
        "plt.xlabel('Grade of Homes')\n",
        "plt.ylabel('The price of homes')\n",
        "plt.title('The prices of houses per the grade')\n",
        "plt.show()"
      ],
      "execution_count": null,
      "outputs": [
        {
          "output_type": "display_data",
          "data": {
            "image/png": "[encoded data removed]",
            "text/plain": [
              "<Figure size 432x288 with 1 Axes>"
            ]
          },
          "metadata": {
            "tags": []
          }
        }
      ]
    },
    {
      "cell_type": "markdown",
      "metadata": {
        "id": "-BiSzt7UeDkT",
        "colab_type": "text"
      },
      "source": [
        "The homes that had a higher grade were most expensive compared to the ones that had lower grade. In this case Grade 13 had the most expensive houses compared to grade 1 that had the least price."
      ]
    },
    {
      "cell_type": "code",
      "metadata": {
        "id": "_DAiR800dd9M",
        "colab_type": "code",
        "colab": {
          "base_uri": "https://localhost:8080/",
          "height": 295
        },
        "outputId": "85036740-5744-459e-9a7f-012144f58629"
      },
      "source": [
        "#Importing the necessary libraries\n",
        "import seaborn as sns\n",
        "import matplotlib.pyplot as plt\n",
        "#Creating the dataframe with the sum of prices.\n",
        "df_1 = df.groupby('price').sum()\n",
        "df_1 = df_1.reset_index(inplace=True)\n",
        "#Plotting the graphs using the seaborn barplot\n",
        "sns.barplot(x = df['condition'], y = df['price'], data=df_1)\n",
        "plt.xlabel('Condition of Homes')\n",
        "plt.ylabel('The price of homes')\n",
        "plt.title('The prices of houses per the condition')\n",
        "plt.show()"
      ],
      "execution_count": null,
      "outputs": [
        {
          "output_type": "display_data",
          "data": {
            "image/png": "[encoded data removed]",
            "text/plain": [
              "<Figure size 432x288 with 1 Axes>"
            ]
          },
          "metadata": {
            "tags": []
          }
        }
      ]
    },
    {
      "cell_type": "markdown",
      "metadata": {
        "id": "jmVX3UP_eoQ4",
        "colab_type": "text"
      },
      "source": [
        "It was observed that houses that had condition 5 were the most expensive houses followed by the ones that had condition 3. Followed by the ones that had condition 4. This is particularly intriguing given the fact that condition 4 stands a better chance to have more expensive house since its in a better condition than houses that have the condition 3."
      ]
    },
    {
      "cell_type": "markdown",
      "metadata": {
        "id": "tY6P1Wq9gWqu",
        "colab_type": "text"
      },
      "source": [
        "This intrigued me to do a hypothesis test to confirm if indeed the two means were equal. \n",
        "My null hypothesis was that the mean price of houses in condition 4 were greater or equal to the ones in condition 3. The alternative hypothesis is that condition 3 houses prices mean was less that of condition 4. This is summarized as follows:\n",
        "\n",
        " H₀ :μ(Condition 4) >= μ(Condition 3)    \n",
        " H₁ :μ(Condition 4) < μ(Condition 3)\n",
        "\n",
        "This hypothesis is proved in the following "
      ]
    },
    {
      "cell_type": "code",
      "metadata": {
        "id": "F_RLbo_KecMn",
        "colab_type": "code",
        "colab": {}
      },
      "source": [
        "#I created a new dataframe that had condition 3 \n",
        "df3 = df[df['condition'] == 3]\n",
        "\n",
        "#I created a new dataframe that had condition 4\n",
        "df4 = df[df['condition'] == 4]"
      ],
      "execution_count": null,
      "outputs": []
    },
    {
      "cell_type": "code",
      "metadata": {
        "id": "Nife7KmYiJC0",
        "colab_type": "code",
        "colab": {
          "base_uri": "https://localhost:8080/",
          "height": 34
        },
        "outputId": "98cf2312-64d5-4e48-8263-6afab51a62b3"
      },
      "source": [
        "#I found the mean price of the houses that had condition 3\n",
        "df3['price'].mean()"
      ],
      "execution_count": null,
      "outputs": [
        {
          "output_type": "execute_result",
          "data": {
            "text/plain": [
              "542093.1081331527"
            ]
          },
          "metadata": {
            "tags": []
          },
          "execution_count": 57
        }
      ]
    },
    {
      "cell_type": "code",
      "metadata": {
        "id": "Y2ZUqvJbiKTI",
        "colab_type": "code",
        "colab": {
          "base_uri": "https://localhost:8080/",
          "height": 34
        },
        "outputId": "9aa91108-1421-45cf-8bbe-cf4b78c052d3"
      },
      "source": [
        "#I found the mean price of the houses that had condition 4\n",
        "df4['price'].mean()"
      ],
      "execution_count": null,
      "outputs": [
        {
          "output_type": "execute_result",
          "data": {
            "text/plain": [
              "521295.65075730893"
            ]
          },
          "metadata": {
            "tags": []
          },
          "execution_count": 58
        }
      ]
    },
    {
      "cell_type": "code",
      "metadata": {
        "id": "4OocYOn8iSXe",
        "colab_type": "code",
        "colab": {
          "base_uri": "https://localhost:8080/",
          "height": 307
        },
        "outputId": "5c904a6c-3dfb-48ca-82f1-e172c90eeee6"
      },
      "source": [
        "#Finding out the distribution of the prices that had condition 3 \n",
        "sns.distplot(df3['price'])\n",
        "#The data seems to follow a normal distribution"
      ],
      "execution_count": null,
      "outputs": [
        {
          "output_type": "execute_result",
          "data": {
            "text/plain": [
              "<matplotlib.axes._subplots.AxesSubplot at 0x7faaa80d45f8>"
            ]
          },
          "metadata": {
            "tags": []
          },
          "execution_count": 59
        },
        {
          "output_type": "display_data",
          "data": {
            "image/png": "[encoded data removed]",
            "text/plain": [
              "<Figure size 432x288 with 1 Axes>"
            ]
          },
          "metadata": {
            "tags": []
          }
        }
      ]
    },
    {
      "cell_type": "code",
      "metadata": {
        "id": "ph0Aqicpi9yz",
        "colab_type": "code",
        "colab": {
          "base_uri": "https://localhost:8080/",
          "height": 307
        },
        "outputId": "6c74414a-fe4e-4bfc-c703-6a02e4bd6a92"
      },
      "source": [
        "#Finding out the distribution of the houses that had condition 4\n",
        "sns.distplot(df4['price'])\n",
        "#The data seems to take a normal distribution"
      ],
      "execution_count": null,
      "outputs": [
        {
          "output_type": "execute_result",
          "data": {
            "text/plain": [
              "<matplotlib.axes._subplots.AxesSubplot at 0x7faaa7e9b748>"
            ]
          },
          "metadata": {
            "tags": []
          },
          "execution_count": 60
        },
        {
          "output_type": "display_data",
          "data": {
            "image/png": "[encoded data removed]",
            "text/plain": [
              "<Figure size 432x288 with 1 Axes>"
            ]
          },
          "metadata": {
            "tags": []
          }
        }
      ]
    },
    {
      "cell_type": "markdown",
      "metadata": {
        "id": "qDclPa6tjxlV",
        "colab_type": "text"
      },
      "source": [
        "I decided to use a z-test for our hypothesis test. This is because some of the assumptions are satisfied such as:\n",
        "1. I assumed the data that we had was a population and the standard deviation was known.\n",
        "2. The data followed a normal probability distribution.\n",
        "3. The samples from the population must be independent of one another.(This is to be satisfied later where we will pick the samples using random sampling)."
      ]
    },
    {
      "cell_type": "code",
      "metadata": {
        "id": "A-xKG70SjB8s",
        "colab_type": "code",
        "colab": {
          "base_uri": "https://localhost:8080/",
          "height": 34
        },
        "outputId": "38ee3417-adec-46e7-da85-802bd0fdf695"
      },
      "source": [
        "#Finding out the sample size of the houses with condition 3\n",
        "from scipy.stats import norm\n",
        "condition3 = df3.shape[0]\n",
        "condition3_size = int(0.1 * condition3)\n",
        "condition3_size"
      ],
      "execution_count": null,
      "outputs": [
        {
          "output_type": "execute_result",
          "data": {
            "text/plain": [
              "1402"
            ]
          },
          "metadata": {
            "tags": []
          },
          "execution_count": 62
        }
      ]
    },
    {
      "cell_type": "code",
      "metadata": {
        "id": "J-YRke7rmJKy",
        "colab_type": "code",
        "colab": {
          "base_uri": "https://localhost:8080/",
          "height": 34
        },
        "outputId": "0fd41613-3770-413f-bb63-12331f1d5c9e"
      },
      "source": [
        "#Finding out the sample size of the houses with condition 4\n",
        "condition4 = df4.shape[0]\n",
        "condition4_size = int(0.1 * condition4)\n",
        "condition4_size"
      ],
      "execution_count": null,
      "outputs": [
        {
          "output_type": "execute_result",
          "data": {
            "text/plain": [
              "567"
            ]
          },
          "metadata": {
            "tags": []
          },
          "execution_count": 63
        }
      ]
    },
    {
      "cell_type": "code",
      "metadata": {
        "id": "c9zNWp3fmR_E",
        "colab_type": "code",
        "colab": {}
      },
      "source": [
        "#Sampling our data using random sampling for the houses that have condition3 and condition 4 \n",
        "condition3_sample_data = df3.sample(n = condition3_size, replace='False')\n",
        "condition4_sample_data = df4.sample(n = condition4_size, replace='False')"
      ],
      "execution_count": null,
      "outputs": []
    },
    {
      "cell_type": "code",
      "metadata": {
        "id": "4UFW4Ct2mm_J",
        "colab_type": "code",
        "colab": {
          "base_uri": "https://localhost:8080/",
          "height": 51
        },
        "outputId": "1a833750-44dd-4e02-bfc0-033a0af4638f"
      },
      "source": [
        "#Importing the necssary library for the z test\n",
        "from statsmodels.stats import weightstats as stests\n",
        "#Calculating the pvalue using the mean prices for the condition 3 and condition 4.\n",
        "ztest, pval1 = stests.ztest(condition4_sample_data['price'], x2 = condition3_sample_data['price'], value=0, alternative='two-sided')\n",
        "alpha=0.05\n",
        "\n",
        "print('The p-value is at : ',(pval1))\n",
        "\n",
        "if pval1 < alpha:\n",
        "  print('Reject the null hypothesis.')\n",
        "if pval1 > alpha:\n",
        "  print('Fail to reject the null hypothesis.')  "
      ],
      "execution_count": null,
      "outputs": [
        {
          "output_type": "stream",
          "text": [
            "The p-value is at :  0.16041681252447348\n",
            "Fail to reject the null hypothesis.\n"
          ],
          "name": "stdout"
        }
      ]
    },
    {
      "cell_type": "markdown",
      "metadata": {
        "id": "Lk2TYlPLsvHr",
        "colab_type": "text"
      },
      "source": [
        "I found there was sufficient evidence at 95% confidence level to reject the alternative hypothesis. The condition 4 prices mean is actually greater than or equal to the condition 3 prices mean. This will help in defining price tags for the condition 4 houses and very insightful for Hass consulting Limited. That our earlier visualization has been challenged statistically to show that condition 4 houses have higher prices or equal to the condition 3 houses."
      ]
    },
    {
      "cell_type": "markdown",
      "metadata": {
        "id": "obx49jHtwy6g",
        "colab_type": "text"
      },
      "source": [
        "# Multi-Variate Analysis"
      ]
    },
    {
      "cell_type": "markdown",
      "metadata": {
        "id": "8CjQcw-GzSTF",
        "colab_type": "text"
      },
      "source": [
        "This is normally based on the principles of multivariate statistics, which involves observation and analysis of more than one statistical outcomes variables at a time.\n",
        "Multi-variate analysis enables:\n",
        "1. The exploration of data structures and patterns.\n",
        "2. Probability computations of multi-dimensional regions.\n",
        "3. The study and measurement of relationships.\n",
        "4. Normal and general multivariate models and distribution theory.\n",
        "\n",
        "There are three multivariate techniques namely : Principal Component Analysis, Factor Analysis and Linear Discriminant Analysis. \n",
        "\n",
        "Linear Discriminant Analysis is a linear transformation technique while the Principal Component Analysis is an unsupervised linear transformation technique since it ignores class labels.\n",
        "\n",
        "We are doing the Supervised Learning Algorithm therefore I will perform the Linear Discriminant Analysis."
      ]
    },
    {
      "cell_type": "code",
      "metadata": {
        "id": "TFGj5_LXLUVm",
        "colab_type": "code",
        "colab": {}
      },
      "source": [
        "#I decided to encode the zipcode column to be able to provide an accurate analysis\n",
        "from sklearn.preprocessing import LabelEncoder\n",
        "\n",
        "le = LabelEncoder()\n",
        "df['zipcode'] = le.fit_transform(df['zipcode'])"
      ],
      "execution_count": null,
      "outputs": []
    },
    {
      "cell_type": "code",
      "metadata": {
        "id": "C8jfCi-TP0oD",
        "colab_type": "code",
        "colab": {
          "base_uri": "https://localhost:8080/",
          "height": 224
        },
        "outputId": "8653ea5c-aa3b-41e9-dcc6-bfbaf1b7f805"
      },
      "source": [
        "df.head()"
      ],
      "execution_count": null,
      "outputs": [
        {
          "output_type": "execute_result",
          "data": {
            "text/html": [
              "<div>\n",
              "<style scoped>\n",
              "    .dataframe tbody tr th:only-of-type {\n",
              "        vertical-align: middle;\n",
              "    }\n",
              "\n",
              "    .dataframe tbody tr th {\n",
              "        vertical-align: top;\n",
              "    }\n",
              "\n",
              "    .dataframe thead th {\n",
              "        text-align: right;\n",
              "    }\n",
              "</style>\n",
              "<table border=\"1\" class=\"dataframe\">\n",
              "  <thead>\n",
              "    <tr style=\"text-align: right;\">\n",
              "      <th></th>\n",
              "      <th>price</th>\n",
              "      <th>bedrooms</th>\n",
              "      <th>bathrooms</th>\n",
              "      <th>sqft_living</th>\n",
              "      <th>sqft_lot</th>\n",
              "      <th>floors</th>\n",
              "      <th>waterfront</th>\n",
              "      <th>view</th>\n",
              "      <th>condition</th>\n",
              "      <th>grade</th>\n",
              "      <th>sqft_above</th>\n",
              "      <th>sqft_basement</th>\n",
              "      <th>yr_built</th>\n",
              "      <th>renovated</th>\n",
              "      <th>zipcode</th>\n",
              "      <th>sqft_living15</th>\n",
              "      <th>sqft_lot15</th>\n",
              "    </tr>\n",
              "  </thead>\n",
              "  <tbody>\n",
              "    <tr>\n",
              "      <th>0</th>\n",
              "      <td>221900.0</td>\n",
              "      <td>3</td>\n",
              "      <td>1.00</td>\n",
              "      <td>1180</td>\n",
              "      <td>5650</td>\n",
              "      <td>1.0</td>\n",
              "      <td>0</td>\n",
              "      <td>0</td>\n",
              "      <td>3</td>\n",
              "      <td>7</td>\n",
              "      <td>1180</td>\n",
              "      <td>0</td>\n",
              "      <td>1955</td>\n",
              "      <td>0</td>\n",
              "      <td>66</td>\n",
              "      <td>1340</td>\n",
              "      <td>5650</td>\n",
              "    </tr>\n",
              "    <tr>\n",
              "      <th>1</th>\n",
              "      <td>538000.0</td>\n",
              "      <td>3</td>\n",
              "      <td>2.25</td>\n",
              "      <td>2570</td>\n",
              "      <td>7242</td>\n",
              "      <td>2.0</td>\n",
              "      <td>0</td>\n",
              "      <td>0</td>\n",
              "      <td>3</td>\n",
              "      <td>7</td>\n",
              "      <td>2170</td>\n",
              "      <td>400</td>\n",
              "      <td>1951</td>\n",
              "      <td>1</td>\n",
              "      <td>55</td>\n",
              "      <td>1690</td>\n",
              "      <td>7639</td>\n",
              "    </tr>\n",
              "    <tr>\n",
              "      <th>2</th>\n",
              "      <td>180000.0</td>\n",
              "      <td>2</td>\n",
              "      <td>1.00</td>\n",
              "      <td>770</td>\n",
              "      <td>10000</td>\n",
              "      <td>1.0</td>\n",
              "      <td>0</td>\n",
              "      <td>0</td>\n",
              "      <td>3</td>\n",
              "      <td>6</td>\n",
              "      <td>770</td>\n",
              "      <td>0</td>\n",
              "      <td>1933</td>\n",
              "      <td>0</td>\n",
              "      <td>16</td>\n",
              "      <td>2720</td>\n",
              "      <td>8062</td>\n",
              "    </tr>\n",
              "    <tr>\n",
              "      <th>3</th>\n",
              "      <td>604000.0</td>\n",
              "      <td>4</td>\n",
              "      <td>3.00</td>\n",
              "      <td>1960</td>\n",
              "      <td>5000</td>\n",
              "      <td>1.0</td>\n",
              "      <td>0</td>\n",
              "      <td>0</td>\n",
              "      <td>5</td>\n",
              "      <td>7</td>\n",
              "      <td>1050</td>\n",
              "      <td>910</td>\n",
              "      <td>1965</td>\n",
              "      <td>0</td>\n",
              "      <td>58</td>\n",
              "      <td>1360</td>\n",
              "      <td>5000</td>\n",
              "    </tr>\n",
              "    <tr>\n",
              "      <th>4</th>\n",
              "      <td>510000.0</td>\n",
              "      <td>3</td>\n",
              "      <td>2.00</td>\n",
              "      <td>1680</td>\n",
              "      <td>8080</td>\n",
              "      <td>1.0</td>\n",
              "      <td>0</td>\n",
              "      <td>0</td>\n",
              "      <td>3</td>\n",
              "      <td>8</td>\n",
              "      <td>1680</td>\n",
              "      <td>0</td>\n",
              "      <td>1987</td>\n",
              "      <td>0</td>\n",
              "      <td>37</td>\n",
              "      <td>1800</td>\n",
              "      <td>7503</td>\n",
              "    </tr>\n",
              "  </tbody>\n",
              "</table>\n",
              "</div>"
            ],
            "text/plain": [
              "      price  bedrooms  bathrooms  ...  zipcode  sqft_living15  sqft_lot15\n",
              "0  221900.0         3       1.00  ...       66           1340        5650\n",
              "1  538000.0         3       2.25  ...       55           1690        7639\n",
              "2  180000.0         2       1.00  ...       16           2720        8062\n",
              "3  604000.0         4       3.00  ...       58           1360        5000\n",
              "4  510000.0         3       2.00  ...       37           1800        7503\n",
              "\n",
              "[5 rows x 17 columns]"
            ]
          },
          "metadata": {
            "tags": []
          },
          "execution_count": 19
        }
      ]
    },
    {
      "cell_type": "code",
      "metadata": {
        "id": "vUZAMi_d7jmh",
        "colab_type": "code",
        "colab": {}
      },
      "source": [
        "#Defining the X and y target variable\n",
        "X = df.drop(['price'],axis=1)\n",
        "y = df['price']"
      ],
      "execution_count": null,
      "outputs": []
    },
    {
      "cell_type": "code",
      "metadata": {
        "id": "X5-ZWOUA9SMg",
        "colab_type": "code",
        "colab": {}
      },
      "source": [
        "#Fitting our data into a linear discriminant Analysis\n",
        "from sklearn.discriminant_analysis import LinearDiscriminantAnalysis as LDA\n",
        "lda = LDA()\n",
        "\n",
        "lda_ = lda.fit(X,y)\n",
        "lda_factors = lda_.transform(X)"
      ],
      "execution_count": null,
      "outputs": []
    },
    {
      "cell_type": "code",
      "metadata": {
        "id": "ZUc38Ufg95t5",
        "colab_type": "code",
        "colab": {
          "base_uri": "https://localhost:8080/",
          "height": 545
        },
        "outputId": "10189fd2-69c7-4c96-f92a-6047a6a38676"
      },
      "source": [
        "#Printing the co-efficients weights of the respectie columns\n",
        "factors = pd.DataFrame(index = X.columns.values, data = lda_.coef_[0].T)\n",
        "pd.options.display.float_format = '{:.8f}'.format\n",
        "factors.sort_values(0, ascending=False)"
      ],
      "execution_count": null,
      "outputs": [
        {
          "output_type": "execute_result",
          "data": {
            "text/html": [
              "<div>\n",
              "<style scoped>\n",
              "    .dataframe tbody tr th:only-of-type {\n",
              "        vertical-align: middle;\n",
              "    }\n",
              "\n",
              "    .dataframe tbody tr th {\n",
              "        vertical-align: top;\n",
              "    }\n",
              "\n",
              "    .dataframe thead th {\n",
              "        text-align: right;\n",
              "    }\n",
              "</style>\n",
              "<table border=\"1\" class=\"dataframe\">\n",
              "  <thead>\n",
              "    <tr style=\"text-align: right;\">\n",
              "      <th></th>\n",
              "      <th>0</th>\n",
              "    </tr>\n",
              "  </thead>\n",
              "  <tbody>\n",
              "    <tr>\n",
              "      <th>floors</th>\n",
              "      <td>1.24136833</td>\n",
              "    </tr>\n",
              "    <tr>\n",
              "      <th>renovated</th>\n",
              "      <td>0.48873182</td>\n",
              "    </tr>\n",
              "    <tr>\n",
              "      <th>yr_built</th>\n",
              "      <td>0.16114613</td>\n",
              "    </tr>\n",
              "    <tr>\n",
              "      <th>view</th>\n",
              "      <td>0.12076805</td>\n",
              "    </tr>\n",
              "    <tr>\n",
              "      <th>sqft_living</th>\n",
              "      <td>0.00296298</td>\n",
              "    </tr>\n",
              "    <tr>\n",
              "      <th>sqft_above</th>\n",
              "      <td>0.00213880</td>\n",
              "    </tr>\n",
              "    <tr>\n",
              "      <th>sqft_basement</th>\n",
              "      <td>0.00176410</td>\n",
              "    </tr>\n",
              "    <tr>\n",
              "      <th>sqft_living15</th>\n",
              "      <td>0.00008521</td>\n",
              "    </tr>\n",
              "    <tr>\n",
              "      <th>sqft_lot15</th>\n",
              "      <td>0.00003451</td>\n",
              "    </tr>\n",
              "    <tr>\n",
              "      <th>sqft_lot</th>\n",
              "      <td>-0.00000679</td>\n",
              "    </tr>\n",
              "    <tr>\n",
              "      <th>zipcode</th>\n",
              "      <td>-0.09289010</td>\n",
              "    </tr>\n",
              "    <tr>\n",
              "      <th>condition</th>\n",
              "      <td>-1.73555542</td>\n",
              "    </tr>\n",
              "    <tr>\n",
              "      <th>bedrooms</th>\n",
              "      <td>-2.57384917</td>\n",
              "    </tr>\n",
              "    <tr>\n",
              "      <th>bathrooms</th>\n",
              "      <td>-5.84935730</td>\n",
              "    </tr>\n",
              "    <tr>\n",
              "      <th>waterfront</th>\n",
              "      <td>-8.70959229</td>\n",
              "    </tr>\n",
              "    <tr>\n",
              "      <th>grade</th>\n",
              "      <td>-10.93959664</td>\n",
              "    </tr>\n",
              "  </tbody>\n",
              "</table>\n",
              "</div>"
            ],
            "text/plain": [
              "                         0\n",
              "floors          1.24136833\n",
              "renovated       0.48873182\n",
              "yr_built        0.16114613\n",
              "view            0.12076805\n",
              "sqft_living     0.00296298\n",
              "sqft_above      0.00213880\n",
              "sqft_basement   0.00176410\n",
              "sqft_living15   0.00008521\n",
              "sqft_lot15      0.00003451\n",
              "sqft_lot       -0.00000679\n",
              "zipcode        -0.09289010\n",
              "condition      -1.73555542\n",
              "bedrooms       -2.57384917\n",
              "bathrooms      -5.84935730\n",
              "waterfront     -8.70959229\n",
              "grade         -10.93959664"
            ]
          },
          "metadata": {
            "tags": []
          },
          "execution_count": 22
        }
      ]
    },
    {
      "cell_type": "markdown",
      "metadata": {
        "id": "3EtozWau_t0H",
        "colab_type": "text"
      },
      "source": [
        "The number of floors, whether the house was renovated, the year the house was built, whether the house was viewed and the square feet of the living area impacted more on the overall price of a house."
      ]
    },
    {
      "cell_type": "code",
      "metadata": {
        "id": "dpma8b1jYwyV",
        "colab_type": "code",
        "colab": {}
      },
      "source": [
        "#Maintaining an original dataset of my cleaned dataset\n",
        "original_copy = df.copy()"
      ],
      "execution_count": null,
      "outputs": []
    },
    {
      "cell_type": "markdown",
      "metadata": {
        "id": "t8-UQ2EDTB3R",
        "colab_type": "text"
      },
      "source": [
        "# Multiple Linear Regression"
      ]
    },
    {
      "cell_type": "markdown",
      "metadata": {
        "id": "wz5ikyl811sJ",
        "colab_type": "text"
      },
      "source": [
        "This is a statistical technique that uses several explanatory variables to predict the outcome of a response variable. This is an extension of linear (Ordinary Least Squares) regression that uses only one explanatory variable.\n",
        "There are assumptions taken during a multiple linear regression which are :\n",
        "1. Linearity : There must be a linear relationship between the outcome variable and the independent variables.\n",
        "2. No multicollinearity : Multiple regression assumes that the independent variables are not highly correlated with each other.\n",
        "3. Homoscedasticity : This assumption states that the variance of error terms are similar across the values of the independent variables.\n",
        "4. Normality : For any fixed value of X,Y is normally distributed.\n",
        "\n",
        "We will do this checks for our multiple regression model and find out whether the assumptions have been fulfilled."
      ]
    },
    {
      "cell_type": "markdown",
      "metadata": {
        "id": "Ks980Hy8BgRq",
        "colab_type": "text"
      },
      "source": [
        "# Baseline model for the Linear Regression"
      ]
    },
    {
      "cell_type": "code",
      "metadata": {
        "id": "rwOEhbBN-9dK",
        "colab_type": "code",
        "colab": {}
      },
      "source": [
        "X = df.drop(['price'],axis=1)\n",
        "y = df['price']"
      ],
      "execution_count": 11,
      "outputs": []
    },
    {
      "cell_type": "code",
      "metadata": {
        "id": "hnexL3i2SFjr",
        "colab_type": "code",
        "colab": {
          "base_uri": "https://localhost:8080/",
          "height": 102
        },
        "outputId": "0e4776e5-b6b7-4f7a-b378-51f116edab4f"
      },
      "source": [
        "from sklearn.linear_model import LinearRegression\n",
        "\n",
        "regressor = LinearRegression()\n",
        "regressor.fit(X,y)\n",
        "print(regressor.intercept_)\n",
        "print(regressor.coef_)"
      ],
      "execution_count": 12,
      "outputs": [
        {
          "output_type": "stream",
          "text": [
            "6907343.0835506655\n",
            "[-3.93405355e+04  4.57206053e+04  1.09352225e+02 -2.52802164e-03\n",
            "  2.71071709e+04  5.78740860e+05  4.34473360e+04  1.94660635e+04\n",
            "  1.19863874e+05  5.14890832e+01  5.78631420e+01 -3.57888547e+03\n",
            "  2.01163614e+04 -7.09374318e+00  2.47378378e+01 -5.50716672e-01]\n"
          ],
          "name": "stdout"
        }
      ]
    },
    {
      "cell_type": "markdown",
      "metadata": {
        "id": "voms_nsDTZHw",
        "colab_type": "text"
      },
      "source": [
        "# Checking for Multi-collinearity"
      ]
    },
    {
      "cell_type": "markdown",
      "metadata": {
        "id": "gj1Ip355YZsn",
        "colab_type": "text"
      },
      "source": [
        "The key goal of regression analysis is to isolate the relationship between each independent variables and the independent variable. The coefficient estimates can swing wildly based on which other independent variables are in the model.\n",
        "Multi-collinearity reduces the precision of the estimate co-efficients which weakens the statistical power of the regression model and that is why it is important for us to remove the multicollinear variables to be able to build an efficient model."
      ]
    },
    {
      "cell_type": "code",
      "metadata": {
        "id": "9rGEc2OPSWNa",
        "colab_type": "code",
        "colab": {
          "base_uri": "https://localhost:8080/",
          "height": 596
        },
        "outputId": "461c160d-e64f-4dbc-b493-8b895bdc6dc9"
      },
      "source": [
        "#Creating a dataframe for the correlations in our dataset.\n",
        "correlations = df.corr()\n",
        "correlations"
      ],
      "execution_count": null,
      "outputs": [
        {
          "output_type": "execute_result",
          "data": {
            "text/html": [
              "<div>\n",
              "<style scoped>\n",
              "    .dataframe tbody tr th:only-of-type {\n",
              "        vertical-align: middle;\n",
              "    }\n",
              "\n",
              "    .dataframe tbody tr th {\n",
              "        vertical-align: top;\n",
              "    }\n",
              "\n",
              "    .dataframe thead th {\n",
              "        text-align: right;\n",
              "    }\n",
              "</style>\n",
              "<table border=\"1\" class=\"dataframe\">\n",
              "  <thead>\n",
              "    <tr style=\"text-align: right;\">\n",
              "      <th></th>\n",
              "      <th>price</th>\n",
              "      <th>bedrooms</th>\n",
              "      <th>bathrooms</th>\n",
              "      <th>sqft_living</th>\n",
              "      <th>sqft_lot</th>\n",
              "      <th>floors</th>\n",
              "      <th>waterfront</th>\n",
              "      <th>view</th>\n",
              "      <th>condition</th>\n",
              "      <th>grade</th>\n",
              "      <th>sqft_above</th>\n",
              "      <th>sqft_basement</th>\n",
              "      <th>yr_built</th>\n",
              "      <th>zipcode</th>\n",
              "      <th>sqft_living15</th>\n",
              "      <th>sqft_lot15</th>\n",
              "      <th>location</th>\n",
              "    </tr>\n",
              "  </thead>\n",
              "  <tbody>\n",
              "    <tr>\n",
              "      <th>price</th>\n",
              "      <td>1.00000000</td>\n",
              "      <td>0.30834618</td>\n",
              "      <td>0.51009585</td>\n",
              "      <td>0.70204587</td>\n",
              "      <td>0.08965769</td>\n",
              "      <td>0.23721526</td>\n",
              "      <td>0.26633152</td>\n",
              "      <td>0.39746598</td>\n",
              "      <td>0.03639690</td>\n",
              "      <td>0.66747845</td>\n",
              "      <td>0.60556870</td>\n",
              "      <td>0.32384890</td>\n",
              "      <td>0.05398031</td>\n",
              "      <td>-0.05316211</td>\n",
              "      <td>0.58538225</td>\n",
              "      <td>0.08245745</td>\n",
              "      <td>0.28199831</td>\n",
              "    </tr>\n",
              "    <tr>\n",
              "      <th>bedrooms</th>\n",
              "      <td>0.30834618</td>\n",
              "      <td>1.00000000</td>\n",
              "      <td>0.46751880</td>\n",
              "      <td>0.57667393</td>\n",
              "      <td>0.03169921</td>\n",
              "      <td>0.15566262</td>\n",
              "      <td>-0.00658309</td>\n",
              "      <td>0.07943331</td>\n",
              "      <td>0.02842205</td>\n",
              "      <td>0.35700265</td>\n",
              "      <td>0.47761863</td>\n",
              "      <td>0.30307658</td>\n",
              "      <td>0.15427561</td>\n",
              "      <td>-0.15272090</td>\n",
              "      <td>0.39163297</td>\n",
              "      <td>0.02923276</td>\n",
              "      <td>-0.01195246</td>\n",
              "    </tr>\n",
              "    <tr>\n",
              "      <th>bathrooms</th>\n",
              "      <td>0.51009585</td>\n",
              "      <td>0.46751880</td>\n",
              "      <td>1.00000000</td>\n",
              "      <td>0.69791415</td>\n",
              "      <td>0.08531324</td>\n",
              "      <td>0.48488551</td>\n",
              "      <td>0.05879885</td>\n",
              "      <td>0.17749674</td>\n",
              "      <td>-0.12596188</td>\n",
              "      <td>0.60666069</td>\n",
              "      <td>0.63996283</td>\n",
              "      <td>0.25091997</td>\n",
              "      <td>0.43360806</td>\n",
              "      <td>-0.15975521</td>\n",
              "      <td>0.51010561</td>\n",
              "      <td>0.08079385</td>\n",
              "      <td>0.02525511</td>\n",
              "    </tr>\n",
              "    <tr>\n",
              "      <th>sqft_living</th>\n",
              "      <td>0.70204587</td>\n",
              "      <td>0.57667393</td>\n",
              "      <td>0.69791415</td>\n",
              "      <td>1.00000000</td>\n",
              "      <td>0.17283036</td>\n",
              "      <td>0.35332673</td>\n",
              "      <td>0.10382012</td>\n",
              "      <td>0.28464062</td>\n",
              "      <td>-0.05876793</td>\n",
              "      <td>0.76271924</td>\n",
              "      <td>0.87660048</td>\n",
              "      <td>0.43505408</td>\n",
              "      <td>0.31809884</td>\n",
              "      <td>-0.19943479</td>\n",
              "      <td>0.75641957</td>\n",
              "      <td>0.18328523</td>\n",
              "      <td>0.04364045</td>\n",
              "    </tr>\n",
              "    <tr>\n",
              "      <th>sqft_lot</th>\n",
              "      <td>0.08965769</td>\n",
              "      <td>0.03169921</td>\n",
              "      <td>0.08531324</td>\n",
              "      <td>0.17283036</td>\n",
              "      <td>1.00000000</td>\n",
              "      <td>-0.00891924</td>\n",
              "      <td>0.02160100</td>\n",
              "      <td>0.07475262</td>\n",
              "      <td>-0.00896727</td>\n",
              "      <td>0.11364428</td>\n",
              "      <td>0.18352680</td>\n",
              "      <td>0.01527143</td>\n",
              "      <td>0.05310541</td>\n",
              "      <td>-0.12961139</td>\n",
              "      <td>0.14462018</td>\n",
              "      <td>0.71855609</td>\n",
              "      <td>-0.07190988</td>\n",
              "    </tr>\n",
              "    <tr>\n",
              "      <th>floors</th>\n",
              "      <td>0.23721526</td>\n",
              "      <td>0.15566262</td>\n",
              "      <td>0.48488551</td>\n",
              "      <td>0.35332673</td>\n",
              "      <td>-0.00891924</td>\n",
              "      <td>1.00000000</td>\n",
              "      <td>0.01965360</td>\n",
              "      <td>0.02452768</td>\n",
              "      <td>-0.29318841</td>\n",
              "      <td>0.47257728</td>\n",
              "      <td>0.51790344</td>\n",
              "      <td>-0.23580200</td>\n",
              "      <td>0.57866305</td>\n",
              "      <td>-0.09664545</td>\n",
              "      <td>0.29653749</td>\n",
              "      <td>-0.01323164</td>\n",
              "      <td>0.02518920</td>\n",
              "    </tr>\n",
              "    <tr>\n",
              "      <th>waterfront</th>\n",
              "      <td>0.26633152</td>\n",
              "      <td>-0.00658309</td>\n",
              "      <td>0.05879885</td>\n",
              "      <td>0.10382012</td>\n",
              "      <td>0.02160100</td>\n",
              "      <td>0.01965360</td>\n",
              "      <td>1.00000000</td>\n",
              "      <td>0.40199256</td>\n",
              "      <td>0.01665237</td>\n",
              "      <td>0.08278475</td>\n",
              "      <td>0.07207998</td>\n",
              "      <td>0.08058485</td>\n",
              "      <td>-0.02615907</td>\n",
              "      <td>0.03027709</td>\n",
              "      <td>0.08646913</td>\n",
              "      <td>0.03070157</td>\n",
              "      <td>-0.01897666</td>\n",
              "    </tr>\n",
              "    <tr>\n",
              "      <th>view</th>\n",
              "      <td>0.39746598</td>\n",
              "      <td>0.07943331</td>\n",
              "      <td>0.17749674</td>\n",
              "      <td>0.28464062</td>\n",
              "      <td>0.07475262</td>\n",
              "      <td>0.02452768</td>\n",
              "      <td>0.40199256</td>\n",
              "      <td>1.00000000</td>\n",
              "      <td>0.04583611</td>\n",
              "      <td>0.25137756</td>\n",
              "      <td>0.16765895</td>\n",
              "      <td>0.27699624</td>\n",
              "      <td>-0.05322947</td>\n",
              "      <td>0.08483801</td>\n",
              "      <td>0.28040425</td>\n",
              "      <td>0.07257717</td>\n",
              "      <td>-0.00149767</td>\n",
              "    </tr>\n",
              "    <tr>\n",
              "      <th>condition</th>\n",
              "      <td>0.03639690</td>\n",
              "      <td>0.02842205</td>\n",
              "      <td>-0.12596188</td>\n",
              "      <td>-0.05876793</td>\n",
              "      <td>-0.00896727</td>\n",
              "      <td>-0.29318841</td>\n",
              "      <td>0.01665237</td>\n",
              "      <td>0.04583611</td>\n",
              "      <td>1.00000000</td>\n",
              "      <td>-0.14465451</td>\n",
              "      <td>-0.15821220</td>\n",
              "      <td>0.17407108</td>\n",
              "      <td>-0.36134722</td>\n",
              "      <td>0.00296205</td>\n",
              "      <td>-0.09285383</td>\n",
              "      <td>-0.00342421</td>\n",
              "      <td>-0.01137229</td>\n",
              "    </tr>\n",
              "    <tr>\n",
              "      <th>grade</th>\n",
              "      <td>0.66747845</td>\n",
              "      <td>0.35700265</td>\n",
              "      <td>0.60666069</td>\n",
              "      <td>0.76271924</td>\n",
              "      <td>0.11364428</td>\n",
              "      <td>0.47257728</td>\n",
              "      <td>0.08278475</td>\n",
              "      <td>0.25137756</td>\n",
              "      <td>-0.14465451</td>\n",
              "      <td>1.00000000</td>\n",
              "      <td>0.75591871</td>\n",
              "      <td>0.16844297</td>\n",
              "      <td>0.44696587</td>\n",
              "      <td>-0.18479508</td>\n",
              "      <td>0.71320826</td>\n",
              "      <td>0.11926548</td>\n",
              "      <td>0.10669499</td>\n",
              "    </tr>\n",
              "    <tr>\n",
              "      <th>sqft_above</th>\n",
              "      <td>0.60556870</td>\n",
              "      <td>0.47761863</td>\n",
              "      <td>0.63996283</td>\n",
              "      <td>0.87660048</td>\n",
              "      <td>0.18352680</td>\n",
              "      <td>0.51790344</td>\n",
              "      <td>0.07207998</td>\n",
              "      <td>0.16765895</td>\n",
              "      <td>-0.15821220</td>\n",
              "      <td>0.75591871</td>\n",
              "      <td>1.00000000</td>\n",
              "      <td>-0.05192294</td>\n",
              "      <td>0.42392241</td>\n",
              "      <td>-0.26116261</td>\n",
              "      <td>0.73186997</td>\n",
              "      <td>0.19405967</td>\n",
              "      <td>-0.00318634</td>\n",
              "    </tr>\n",
              "    <tr>\n",
              "      <th>sqft_basement</th>\n",
              "      <td>0.32384890</td>\n",
              "      <td>0.30307658</td>\n",
              "      <td>0.25091997</td>\n",
              "      <td>0.43505408</td>\n",
              "      <td>0.01527143</td>\n",
              "      <td>-0.23580200</td>\n",
              "      <td>0.08058485</td>\n",
              "      <td>0.27699624</td>\n",
              "      <td>0.17407108</td>\n",
              "      <td>0.16844297</td>\n",
              "      <td>-0.05192294</td>\n",
              "      <td>1.00000000</td>\n",
              "      <td>-0.13306172</td>\n",
              "      <td>0.07478130</td>\n",
              "      <td>0.20036691</td>\n",
              "      <td>0.01725999</td>\n",
              "      <td>0.09652691</td>\n",
              "    </tr>\n",
              "    <tr>\n",
              "      <th>yr_built</th>\n",
              "      <td>0.05398031</td>\n",
              "      <td>0.15427561</td>\n",
              "      <td>0.43360806</td>\n",
              "      <td>0.31809884</td>\n",
              "      <td>0.05310541</td>\n",
              "      <td>0.57866305</td>\n",
              "      <td>-0.02615907</td>\n",
              "      <td>-0.05322947</td>\n",
              "      <td>-0.36134722</td>\n",
              "      <td>0.44696587</td>\n",
              "      <td>0.42392241</td>\n",
              "      <td>-0.13306172</td>\n",
              "      <td>1.00000000</td>\n",
              "      <td>-0.34680773</td>\n",
              "      <td>0.32629766</td>\n",
              "      <td>0.07099859</td>\n",
              "      <td>-0.13259612</td>\n",
              "    </tr>\n",
              "    <tr>\n",
              "      <th>zipcode</th>\n",
              "      <td>-0.05316211</td>\n",
              "      <td>-0.15272090</td>\n",
              "      <td>-0.15975521</td>\n",
              "      <td>-0.19943479</td>\n",
              "      <td>-0.12961139</td>\n",
              "      <td>-0.09664545</td>\n",
              "      <td>0.03027709</td>\n",
              "      <td>0.08483801</td>\n",
              "      <td>0.00296205</td>\n",
              "      <td>-0.18479508</td>\n",
              "      <td>-0.26116261</td>\n",
              "      <td>0.07478130</td>\n",
              "      <td>-0.34680773</td>\n",
              "      <td>1.00000000</td>\n",
              "      <td>-0.27903254</td>\n",
              "      <td>-0.14725717</td>\n",
              "      <td>0.22726880</td>\n",
              "    </tr>\n",
              "    <tr>\n",
              "      <th>sqft_living15</th>\n",
              "      <td>0.58538225</td>\n",
              "      <td>0.39163297</td>\n",
              "      <td>0.51010561</td>\n",
              "      <td>0.75641957</td>\n",
              "      <td>0.14462018</td>\n",
              "      <td>0.29653749</td>\n",
              "      <td>0.08646913</td>\n",
              "      <td>0.28040425</td>\n",
              "      <td>-0.09285383</td>\n",
              "      <td>0.71320826</td>\n",
              "      <td>0.73186997</td>\n",
              "      <td>0.20036691</td>\n",
              "      <td>0.32629766</td>\n",
              "      <td>-0.27903254</td>\n",
              "      <td>1.00000000</td>\n",
              "      <td>0.18319431</td>\n",
              "      <td>0.04047047</td>\n",
              "    </tr>\n",
              "    <tr>\n",
              "      <th>sqft_lot15</th>\n",
              "      <td>0.08245745</td>\n",
              "      <td>0.02923276</td>\n",
              "      <td>0.08079385</td>\n",
              "      <td>0.18328523</td>\n",
              "      <td>0.71855609</td>\n",
              "      <td>-0.01323164</td>\n",
              "      <td>0.03070157</td>\n",
              "      <td>0.07257717</td>\n",
              "      <td>-0.00342421</td>\n",
              "      <td>0.11926548</td>\n",
              "      <td>0.19405967</td>\n",
              "      <td>0.01725999</td>\n",
              "      <td>0.07099859</td>\n",
              "      <td>-0.14725717</td>\n",
              "      <td>0.18319431</td>\n",
              "      <td>1.00000000</td>\n",
              "      <td>-0.07113463</td>\n",
              "    </tr>\n",
              "    <tr>\n",
              "      <th>location</th>\n",
              "      <td>0.28199831</td>\n",
              "      <td>-0.01195246</td>\n",
              "      <td>0.02525511</td>\n",
              "      <td>0.04364045</td>\n",
              "      <td>-0.07190988</td>\n",
              "      <td>0.02518920</td>\n",
              "      <td>-0.01897666</td>\n",
              "      <td>-0.00149767</td>\n",
              "      <td>-0.01137229</td>\n",
              "      <td>0.10669499</td>\n",
              "      <td>-0.00318634</td>\n",
              "      <td>0.09652691</td>\n",
              "      <td>-0.13259612</td>\n",
              "      <td>0.22726880</td>\n",
              "      <td>0.04047047</td>\n",
              "      <td>-0.07113463</td>\n",
              "      <td>1.00000000</td>\n",
              "    </tr>\n",
              "  </tbody>\n",
              "</table>\n",
              "</div>"
            ],
            "text/plain": [
              "                    price    bedrooms  ...  sqft_lot15    location\n",
              "price          1.00000000  0.30834618  ...  0.08245745  0.28199831\n",
              "bedrooms       0.30834618  1.00000000  ...  0.02923276 -0.01195246\n",
              "bathrooms      0.51009585  0.46751880  ...  0.08079385  0.02525511\n",
              "sqft_living    0.70204587  0.57667393  ...  0.18328523  0.04364045\n",
              "sqft_lot       0.08965769  0.03169921  ...  0.71855609 -0.07190988\n",
              "floors         0.23721526  0.15566262  ... -0.01323164  0.02518920\n",
              "waterfront     0.26633152 -0.00658309  ...  0.03070157 -0.01897666\n",
              "view           0.39746598  0.07943331  ...  0.07257717 -0.00149767\n",
              "condition      0.03639690  0.02842205  ... -0.00342421 -0.01137229\n",
              "grade          0.66747845  0.35700265  ...  0.11926548  0.10669499\n",
              "sqft_above     0.60556870  0.47761863  ...  0.19405967 -0.00318634\n",
              "sqft_basement  0.32384890  0.30307658  ...  0.01725999  0.09652691\n",
              "yr_built       0.05398031  0.15427561  ...  0.07099859 -0.13259612\n",
              "zipcode       -0.05316211 -0.15272090  ... -0.14725717  0.22726880\n",
              "sqft_living15  0.58538225  0.39163297  ...  0.18319431  0.04047047\n",
              "sqft_lot15     0.08245745  0.02923276  ...  1.00000000 -0.07113463\n",
              "location       0.28199831 -0.01195246  ... -0.07113463  1.00000000\n",
              "\n",
              "[17 rows x 17 columns]"
            ]
          },
          "metadata": {
            "tags": []
          },
          "execution_count": 206
        }
      ]
    },
    {
      "cell_type": "code",
      "metadata": {
        "id": "RnhXIFkRVJmd",
        "colab_type": "code",
        "colab": {
          "base_uri": "https://localhost:8080/",
          "height": 513
        },
        "outputId": "5f919c85-04e4-42ff-d734-699ef3195f95"
      },
      "source": [
        "#A heatmap showing the correlations in our dataset \n",
        "plt.figure(figsize = (16,7))\n",
        "sns.heatmap(correlations)"
      ],
      "execution_count": null,
      "outputs": [
        {
          "output_type": "execute_result",
          "data": {
            "text/plain": [
              "<matplotlib.axes._subplots.AxesSubplot at 0x7faaa987de48>"
            ]
          },
          "metadata": {
            "tags": []
          },
          "execution_count": 192
        },
        {
          "output_type": "display_data",
          "data": {
            "image/png": "[encoded data removed]",
            "text/plain": [
              "<Figure size 1152x504 with 2 Axes>"
            ]
          },
          "metadata": {
            "tags": []
          }
        }
      ]
    },
    {
      "cell_type": "markdown",
      "metadata": {
        "id": "ggcSB5TpavDY",
        "colab_type": "text"
      },
      "source": [
        "The whiter areas show the areas that are highly correlated while the darker areas show the least correlated variables."
      ]
    },
    {
      "cell_type": "markdown",
      "metadata": {
        "id": "AILWkaWPe15o",
        "colab_type": "text"
      },
      "source": [
        "The Variance Inflation Factor (VIF) is the quotient of the variance in a model with multiple terms by the variance of a model with one term. It quantifies the severity of multi-collinearity in an ordinary least squares least squares regression analysis. It provides an index that measures how much the variance of an estimated regression coefficient is increased based on the collinearity.\n",
        "Generally a VIF Score of more than 4 signals a high multi-collinearity between one predictor and the other predictors in a model. High values signifies a difficulty to assess accurately the contribution of predictors to a model."
      ]
    },
    {
      "cell_type": "code",
      "metadata": {
        "id": "pSfuLYFCVcJj",
        "colab_type": "code",
        "colab": {
          "base_uri": "https://localhost:8080/",
          "height": 596
        },
        "outputId": "fc5a6d7a-6496-49d7-b6ad-9adcadddb39f"
      },
      "source": [
        "#Checking the VIF\n",
        "pd.DataFrame(np.linalg.inv(correlations.values),index=correlations.index,columns=correlations.columns)"
      ],
      "execution_count": null,
      "outputs": [
        {
          "output_type": "execute_result",
          "data": {
            "text/html": [
              "<div>\n",
              "<style scoped>\n",
              "    .dataframe tbody tr th:only-of-type {\n",
              "        vertical-align: middle;\n",
              "    }\n",
              "\n",
              "    .dataframe tbody tr th {\n",
              "        vertical-align: top;\n",
              "    }\n",
              "\n",
              "    .dataframe thead th {\n",
              "        text-align: right;\n",
              "    }\n",
              "</style>\n",
              "<table border=\"1\" class=\"dataframe\">\n",
              "  <thead>\n",
              "    <tr style=\"text-align: right;\">\n",
              "      <th></th>\n",
              "      <th>price</th>\n",
              "      <th>bedrooms</th>\n",
              "      <th>bathrooms</th>\n",
              "      <th>sqft_living</th>\n",
              "      <th>sqft_lot</th>\n",
              "      <th>floors</th>\n",
              "      <th>waterfront</th>\n",
              "      <th>view</th>\n",
              "      <th>condition</th>\n",
              "      <th>grade</th>\n",
              "      <th>sqft_above</th>\n",
              "      <th>sqft_basement</th>\n",
              "      <th>yr_built</th>\n",
              "      <th>zipcode</th>\n",
              "      <th>sqft_living15</th>\n",
              "      <th>sqft_lot15</th>\n",
              "      <th>location</th>\n",
              "    </tr>\n",
              "  </thead>\n",
              "  <tbody>\n",
              "    <tr>\n",
              "      <th>price</th>\n",
              "      <td>3.24317601</td>\n",
              "      <td>0.29369225</td>\n",
              "      <td>-0.34999197</td>\n",
              "      <td>-0.65837443</td>\n",
              "      <td>-0.01897449</td>\n",
              "      <td>-0.05770207</td>\n",
              "      <td>-0.45534603</td>\n",
              "      <td>-0.35863849</td>\n",
              "      <td>-0.13917706</td>\n",
              "      <td>-1.07870520</td>\n",
              "      <td>-0.64669708</td>\n",
              "      <td>-0.29255915</td>\n",
              "      <td>0.79823412</td>\n",
              "      <td>0.13328261</td>\n",
              "      <td>-0.10472494</td>\n",
              "      <td>0.12095226</td>\n",
              "      <td>-0.65457332</td>\n",
              "    </tr>\n",
              "    <tr>\n",
              "      <th>bedrooms</th>\n",
              "      <td>0.29369225</td>\n",
              "      <td>1.64754752</td>\n",
              "      <td>-0.31635577</td>\n",
              "      <td>-0.86690266</td>\n",
              "      <td>0.05027045</td>\n",
              "      <td>0.07121985</td>\n",
              "      <td>0.02236056</td>\n",
              "      <td>0.07824007</td>\n",
              "      <td>-0.08008447</td>\n",
              "      <td>0.18009797</td>\n",
              "      <td>-0.27620701</td>\n",
              "      <td>-0.17203645</td>\n",
              "      <td>0.10162414</td>\n",
              "      <td>0.08484278</td>\n",
              "      <td>0.02295284</td>\n",
              "      <td>0.10574363</td>\n",
              "      <td>-0.01840482</td>\n",
              "    </tr>\n",
              "    <tr>\n",
              "      <th>bathrooms</th>\n",
              "      <td>-0.34999197</td>\n",
              "      <td>-0.31635577</td>\n",
              "      <td>2.42591955</td>\n",
              "      <td>-1.55091700</td>\n",
              "      <td>-0.02239775</td>\n",
              "      <td>-0.53108017</td>\n",
              "      <td>0.05583960</td>\n",
              "      <td>-0.00438905</td>\n",
              "      <td>0.00151595</td>\n",
              "      <td>-0.06341213</td>\n",
              "      <td>0.53495845</td>\n",
              "      <td>0.08787502</td>\n",
              "      <td>-0.43153857</td>\n",
              "      <td>-0.03020201</td>\n",
              "      <td>0.18283986</td>\n",
              "      <td>0.03343874</td>\n",
              "      <td>0.05884607</td>\n",
              "    </tr>\n",
              "    <tr>\n",
              "      <th>sqft_living</th>\n",
              "      <td>-0.65891755</td>\n",
              "      <td>-0.87043165</td>\n",
              "      <td>-1.55332219</td>\n",
              "      <td>18051201393817.73437500</td>\n",
              "      <td>-0.13828046</td>\n",
              "      <td>-0.04878198</td>\n",
              "      <td>0.03079505</td>\n",
              "      <td>0.11858272</td>\n",
              "      <td>-0.36535768</td>\n",
              "      <td>-1.48099075</td>\n",
              "      <td>-16275333716200.39453125</td>\n",
              "      <td>-8698311972428.11914062</td>\n",
              "      <td>0.57802848</td>\n",
              "      <td>-0.13142383</td>\n",
              "      <td>-1.44709031</td>\n",
              "      <td>-0.15585151</td>\n",
              "      <td>0.22349159</td>\n",
              "    </tr>\n",
              "    <tr>\n",
              "      <th>sqft_lot</th>\n",
              "      <td>-0.01897449</td>\n",
              "      <td>0.05027045</td>\n",
              "      <td>-0.02239775</td>\n",
              "      <td>-0.13864583</td>\n",
              "      <td>2.09268595</td>\n",
              "      <td>0.06899335</td>\n",
              "      <td>0.03297942</td>\n",
              "      <td>-0.05223430</td>\n",
              "      <td>0.02728172</td>\n",
              "      <td>-0.01617727</td>\n",
              "      <td>-0.08831253</td>\n",
              "      <td>0.04125379</td>\n",
              "      <td>0.03772830</td>\n",
              "      <td>0.05255955</td>\n",
              "      <td>0.13691687</td>\n",
              "      <td>-1.47127850</td>\n",
              "      <td>0.04248717</td>\n",
              "    </tr>\n",
              "    <tr>\n",
              "      <th>floors</th>\n",
              "      <td>-0.05770207</td>\n",
              "      <td>0.07121985</td>\n",
              "      <td>-0.53108017</td>\n",
              "      <td>-0.04620314</td>\n",
              "      <td>0.06899335</td>\n",
              "      <td>2.14169783</td>\n",
              "      <td>-0.00541535</td>\n",
              "      <td>-0.04953192</td>\n",
              "      <td>0.10173644</td>\n",
              "      <td>-0.28149028</td>\n",
              "      <td>-0.41599308</td>\n",
              "      <td>0.54410732</td>\n",
              "      <td>-0.78218801</td>\n",
              "      <td>-0.22839380</td>\n",
              "      <td>0.26182742</td>\n",
              "      <td>0.10905514</td>\n",
              "      <td>-0.09394385</td>\n",
              "    </tr>\n",
              "    <tr>\n",
              "      <th>waterfront</th>\n",
              "      <td>-0.45534603</td>\n",
              "      <td>0.02236056</td>\n",
              "      <td>0.05583960</td>\n",
              "      <td>0.03146554</td>\n",
              "      <td>0.03297942</td>\n",
              "      <td>-0.00541535</td>\n",
              "      <td>1.26387612</td>\n",
              "      <td>-0.44571113</td>\n",
              "      <td>0.01843923</td>\n",
              "      <td>0.18933379</td>\n",
              "      <td>0.03307781</td>\n",
              "      <td>0.06070032</td>\n",
              "      <td>-0.09729183</td>\n",
              "      <td>-0.00412413</td>\n",
              "      <td>0.08083361</td>\n",
              "      <td>-0.03440503</td>\n",
              "      <td>0.10828430</td>\n",
              "    </tr>\n",
              "    <tr>\n",
              "      <th>view</th>\n",
              "      <td>-0.35863849</td>\n",
              "      <td>0.07824007</td>\n",
              "      <td>-0.00438905</td>\n",
              "      <td>0.11798527</td>\n",
              "      <td>-0.05223430</td>\n",
              "      <td>-0.04953192</td>\n",
              "      <td>-0.44571113</td>\n",
              "      <td>1.46934201</td>\n",
              "      <td>-0.00158575</td>\n",
              "      <td>-0.08118228</td>\n",
              "      <td>0.07974385</td>\n",
              "      <td>-0.25400883</td>\n",
              "      <td>0.09893176</td>\n",
              "      <td>-0.17449213</td>\n",
              "      <td>-0.29380968</td>\n",
              "      <td>-0.01716675</td>\n",
              "      <td>0.18514240</td>\n",
              "    </tr>\n",
              "    <tr>\n",
              "      <th>condition</th>\n",
              "      <td>-0.13917706</td>\n",
              "      <td>-0.08008447</td>\n",
              "      <td>0.00151595</td>\n",
              "      <td>-0.36503780</td>\n",
              "      <td>0.02728172</td>\n",
              "      <td>0.10173644</td>\n",
              "      <td>0.01843923</td>\n",
              "      <td>-0.00158575</td>\n",
              "      <td>1.21575839</td>\n",
              "      <td>-0.00125774</td>\n",
              "      <td>0.40973172</td>\n",
              "      <td>0.08153685</td>\n",
              "      <td>0.39562660</td>\n",
              "      <td>0.15250384</td>\n",
              "      <td>0.06600775</td>\n",
              "      <td>-0.02711366</td>\n",
              "      <td>0.07453265</td>\n",
              "    </tr>\n",
              "    <tr>\n",
              "      <th>grade</th>\n",
              "      <td>-1.07870520</td>\n",
              "      <td>0.18009797</td>\n",
              "      <td>-0.06341213</td>\n",
              "      <td>-1.47958491</td>\n",
              "      <td>-0.01617727</td>\n",
              "      <td>-0.28149028</td>\n",
              "      <td>0.18933379</td>\n",
              "      <td>-0.08118228</td>\n",
              "      <td>-0.00125774</td>\n",
              "      <td>3.66715831</td>\n",
              "      <td>0.15915555</td>\n",
              "      <td>0.35950431</td>\n",
              "      <td>-0.76755092</td>\n",
              "      <td>-0.13086179</td>\n",
              "      <td>-0.79517029</td>\n",
              "      <td>0.06875180</td>\n",
              "      <td>-0.07853428</td>\n",
              "    </tr>\n",
              "    <tr>\n",
              "      <th>sqft_above</th>\n",
              "      <td>-0.65057473</td>\n",
              "      <td>-0.27615679</td>\n",
              "      <td>0.53574969</td>\n",
              "      <td>-16275333716200.39648438</td>\n",
              "      <td>-0.08852514</td>\n",
              "      <td>-0.41353450</td>\n",
              "      <td>0.03370865</td>\n",
              "      <td>0.07903365</td>\n",
              "      <td>0.40991239</td>\n",
              "      <td>0.16075879</td>\n",
              "      <td>14674174964581.75390625</td>\n",
              "      <td>7842576625808.47070312</td>\n",
              "      <td>-0.49821446</td>\n",
              "      <td>0.14224731</td>\n",
              "      <td>-0.24768253</td>\n",
              "      <td>-0.10757355</td>\n",
              "      <td>0.19587470</td>\n",
              "    </tr>\n",
              "    <tr>\n",
              "      <th>sqft_basement</th>\n",
              "      <td>-0.29163216</td>\n",
              "      <td>-0.17203286</td>\n",
              "      <td>0.08830022</td>\n",
              "      <td>-8698311972428.12011719</td>\n",
              "      <td>0.04113883</td>\n",
              "      <td>0.54566098</td>\n",
              "      <td>0.06106427</td>\n",
              "      <td>-0.25446145</td>\n",
              "      <td>0.08159385</td>\n",
              "      <td>0.36031046</td>\n",
              "      <td>7842576625808.46777344</td>\n",
              "      <td>4191445739209.04443359</td>\n",
              "      <td>-0.32615299</td>\n",
              "      <td>-0.08471299</td>\n",
              "      <td>0.24550688</td>\n",
              "      <td>0.01619410</td>\n",
              "      <td>-0.04639073</td>\n",
              "    </tr>\n",
              "    <tr>\n",
              "      <th>yr_built</th>\n",
              "      <td>0.79823412</td>\n",
              "      <td>0.10162414</td>\n",
              "      <td>-0.43153857</td>\n",
              "      <td>0.57697726</td>\n",
              "      <td>0.03772830</td>\n",
              "      <td>-0.78218801</td>\n",
              "      <td>-0.09729183</td>\n",
              "      <td>0.09893176</td>\n",
              "      <td>0.39562660</td>\n",
              "      <td>-0.76755092</td>\n",
              "      <td>-0.49726666</td>\n",
              "      <td>-0.32564644</td>\n",
              "      <td>2.27653850</td>\n",
              "      <td>0.51587614</td>\n",
              "      <td>-0.09628766</td>\n",
              "      <td>-0.04837188</td>\n",
              "      <td>0.08386633</td>\n",
              "    </tr>\n",
              "    <tr>\n",
              "      <th>zipcode</th>\n",
              "      <td>0.13328261</td>\n",
              "      <td>0.08484278</td>\n",
              "      <td>-0.03020201</td>\n",
              "      <td>-0.13247573</td>\n",
              "      <td>0.05255955</td>\n",
              "      <td>-0.22839380</td>\n",
              "      <td>-0.00412413</td>\n",
              "      <td>-0.17449213</td>\n",
              "      <td>0.15250384</td>\n",
              "      <td>-0.13086179</td>\n",
              "      <td>0.14319572</td>\n",
              "      <td>-0.08420612</td>\n",
              "      <td>0.51587614</td>\n",
              "      <td>1.34495447</td>\n",
              "      <td>0.33972514</td>\n",
              "      <td>0.05691634</td>\n",
              "      <td>-0.24351640</td>\n",
              "    </tr>\n",
              "    <tr>\n",
              "      <th>sqft_living15</th>\n",
              "      <td>-0.10472494</td>\n",
              "      <td>0.02295284</td>\n",
              "      <td>0.18283986</td>\n",
              "      <td>-1.44764689</td>\n",
              "      <td>0.13691687</td>\n",
              "      <td>0.26182742</td>\n",
              "      <td>0.08083361</td>\n",
              "      <td>-0.29380968</td>\n",
              "      <td>0.06600775</td>\n",
              "      <td>-0.79517029</td>\n",
              "      <td>-0.24718071</td>\n",
              "      <td>0.24577508</td>\n",
              "      <td>-0.09628766</td>\n",
              "      <td>0.33972514</td>\n",
              "      <td>2.89447491</td>\n",
              "      <td>-0.15673810</td>\n",
              "      <td>-0.06447743</td>\n",
              "    </tr>\n",
              "    <tr>\n",
              "      <th>sqft_lot15</th>\n",
              "      <td>0.12095226</td>\n",
              "      <td>0.10574363</td>\n",
              "      <td>0.03343874</td>\n",
              "      <td>-0.15499720</td>\n",
              "      <td>-1.47127850</td>\n",
              "      <td>0.10905514</td>\n",
              "      <td>-0.03440503</td>\n",
              "      <td>-0.01716675</td>\n",
              "      <td>-0.02711366</td>\n",
              "      <td>0.06875180</td>\n",
              "      <td>-0.10834381</td>\n",
              "      <td>0.01578244</td>\n",
              "      <td>-0.04837188</td>\n",
              "      <td>0.05691634</td>\n",
              "      <td>-0.15673810</td>\n",
              "      <td>2.12604444</td>\n",
              "      <td>-0.00743290</td>\n",
              "    </tr>\n",
              "    <tr>\n",
              "      <th>location</th>\n",
              "      <td>-0.65457332</td>\n",
              "      <td>-0.01840482</td>\n",
              "      <td>0.05884607</td>\n",
              "      <td>0.22323711</td>\n",
              "      <td>0.04248717</td>\n",
              "      <td>-0.09394385</td>\n",
              "      <td>0.10828430</td>\n",
              "      <td>0.18514240</td>\n",
              "      <td>0.07453265</td>\n",
              "      <td>-0.07853428</td>\n",
              "      <td>0.19610415</td>\n",
              "      <td>-0.04626810</td>\n",
              "      <td>0.08386633</td>\n",
              "      <td>-0.24351640</td>\n",
              "      <td>-0.06447743</td>\n",
              "      <td>-0.00743290</td>\n",
              "      <td>1.26375655</td>\n",
              "    </tr>\n",
              "  </tbody>\n",
              "</table>\n",
              "</div>"
            ],
            "text/plain": [
              "                    price    bedrooms  ...  sqft_lot15    location\n",
              "price          3.24317601  0.29369225  ...  0.12095226 -0.65457332\n",
              "bedrooms       0.29369225  1.64754752  ...  0.10574363 -0.01840482\n",
              "bathrooms     -0.34999197 -0.31635577  ...  0.03343874  0.05884607\n",
              "sqft_living   -0.65891755 -0.87043165  ... -0.15585151  0.22349159\n",
              "sqft_lot      -0.01897449  0.05027045  ... -1.47127850  0.04248717\n",
              "floors        -0.05770207  0.07121985  ...  0.10905514 -0.09394385\n",
              "waterfront    -0.45534603  0.02236056  ... -0.03440503  0.10828430\n",
              "view          -0.35863849  0.07824007  ... -0.01716675  0.18514240\n",
              "condition     -0.13917706 -0.08008447  ... -0.02711366  0.07453265\n",
              "grade         -1.07870520  0.18009797  ...  0.06875180 -0.07853428\n",
              "sqft_above    -0.65057473 -0.27615679  ... -0.10757355  0.19587470\n",
              "sqft_basement -0.29163216 -0.17203286  ...  0.01619410 -0.04639073\n",
              "yr_built       0.79823412  0.10162414  ... -0.04837188  0.08386633\n",
              "zipcode        0.13328261  0.08484278  ...  0.05691634 -0.24351640\n",
              "sqft_living15 -0.10472494  0.02295284  ... -0.15673810 -0.06447743\n",
              "sqft_lot15     0.12095226  0.10574363  ...  2.12604444 -0.00743290\n",
              "location      -0.65457332 -0.01840482  ... -0.00743290  1.26375655\n",
              "\n",
              "[17 rows x 17 columns]"
            ]
          },
          "metadata": {
            "tags": []
          },
          "execution_count": 193
        }
      ]
    },
    {
      "cell_type": "code",
      "metadata": {
        "id": "u8IQCt2cWGXY",
        "colab_type": "code",
        "colab": {}
      },
      "source": [
        "#Removing the sqft_above\n",
        "revision = correlations.drop(['sqft_above'],axis=1)\n",
        "correlations = revision.corr()\n"
      ],
      "execution_count": null,
      "outputs": []
    },
    {
      "cell_type": "code",
      "metadata": {
        "id": "0RwK2vLogiXS",
        "colab_type": "code",
        "colab": {
          "base_uri": "https://localhost:8080/",
          "height": 565
        },
        "outputId": "bd35a03b-a071-4402-dc63-9340cfbdd9df"
      },
      "source": [
        "#Getting the VIF Score of the new dataset\n",
        "pd.DataFrame(np.linalg.inv(correlations.values),index=correlations.index,columns=correlations.columns)"
      ],
      "execution_count": null,
      "outputs": [
        {
          "output_type": "execute_result",
          "data": {
            "text/html": [
              "<div>\n",
              "<style scoped>\n",
              "    .dataframe tbody tr th:only-of-type {\n",
              "        vertical-align: middle;\n",
              "    }\n",
              "\n",
              "    .dataframe tbody tr th {\n",
              "        vertical-align: top;\n",
              "    }\n",
              "\n",
              "    .dataframe thead th {\n",
              "        text-align: right;\n",
              "    }\n",
              "</style>\n",
              "<table border=\"1\" class=\"dataframe\">\n",
              "  <thead>\n",
              "    <tr style=\"text-align: right;\">\n",
              "      <th></th>\n",
              "      <th>price</th>\n",
              "      <th>bedrooms</th>\n",
              "      <th>bathrooms</th>\n",
              "      <th>sqft_living</th>\n",
              "      <th>sqft_lot</th>\n",
              "      <th>floors</th>\n",
              "      <th>waterfront</th>\n",
              "      <th>view</th>\n",
              "      <th>condition</th>\n",
              "      <th>grade</th>\n",
              "      <th>sqft_basement</th>\n",
              "      <th>yr_built</th>\n",
              "      <th>zipcode</th>\n",
              "      <th>sqft_living15</th>\n",
              "      <th>sqft_lot15</th>\n",
              "      <th>location</th>\n",
              "    </tr>\n",
              "  </thead>\n",
              "  <tbody>\n",
              "    <tr>\n",
              "      <th>price</th>\n",
              "      <td>19.57639619</td>\n",
              "      <td>-0.29721771</td>\n",
              "      <td>-1.09937084</td>\n",
              "      <td>-9.96479998</td>\n",
              "      <td>-3.13133422</td>\n",
              "      <td>-4.17363270</td>\n",
              "      <td>-5.56506121</td>\n",
              "      <td>-2.75659038</td>\n",
              "      <td>-7.62321746</td>\n",
              "      <td>-8.82320608</td>\n",
              "      <td>-1.81065651</td>\n",
              "      <td>-1.26020267</td>\n",
              "      <td>-5.40559420</td>\n",
              "      <td>-1.61954548</td>\n",
              "      <td>-1.31161675</td>\n",
              "      <td>-7.47250794</td>\n",
              "    </tr>\n",
              "    <tr>\n",
              "      <th>bedrooms</th>\n",
              "      <td>-0.29721771</td>\n",
              "      <td>17.03152512</td>\n",
              "      <td>-6.40228376</td>\n",
              "      <td>-16.09370152</td>\n",
              "      <td>11.50562363</td>\n",
              "      <td>14.80737805</td>\n",
              "      <td>10.83508017</td>\n",
              "      <td>4.25540457</td>\n",
              "      <td>26.51029341</td>\n",
              "      <td>-6.76296285</td>\n",
              "      <td>9.67115917</td>\n",
              "      <td>38.67768240</td>\n",
              "      <td>28.35148057</td>\n",
              "      <td>14.79013713</td>\n",
              "      <td>9.58997758</td>\n",
              "      <td>13.32268158</td>\n",
              "    </tr>\n",
              "    <tr>\n",
              "      <th>bathrooms</th>\n",
              "      <td>-1.09937084</td>\n",
              "      <td>-6.40228376</td>\n",
              "      <td>14.02835541</td>\n",
              "      <td>-4.84472833</td>\n",
              "      <td>-4.91863294</td>\n",
              "      <td>-9.55056696</td>\n",
              "      <td>-4.20536556</td>\n",
              "      <td>-1.75125448</td>\n",
              "      <td>-11.53468489</td>\n",
              "      <td>5.22207732</td>\n",
              "      <td>-4.97746392</td>\n",
              "      <td>-19.39664023</td>\n",
              "      <td>-12.08421326</td>\n",
              "      <td>-2.79431198</td>\n",
              "      <td>-3.55378449</td>\n",
              "      <td>-5.50533807</td>\n",
              "    </tr>\n",
              "    <tr>\n",
              "      <th>sqft_living</th>\n",
              "      <td>-9.96479998</td>\n",
              "      <td>-16.09370152</td>\n",
              "      <td>-4.84472833</td>\n",
              "      <td>58.72789973</td>\n",
              "      <td>-7.85507478</td>\n",
              "      <td>-11.75873660</td>\n",
              "      <td>-5.49925508</td>\n",
              "      <td>0.35146787</td>\n",
              "      <td>-13.99490800</td>\n",
              "      <td>-6.28401976</td>\n",
              "      <td>-12.88456958</td>\n",
              "      <td>-18.93181369</td>\n",
              "      <td>-16.47301313</td>\n",
              "      <td>-24.74998319</td>\n",
              "      <td>-6.91314808</td>\n",
              "      <td>-3.40778620</td>\n",
              "    </tr>\n",
              "    <tr>\n",
              "      <th>sqft_lot</th>\n",
              "      <td>-3.13133422</td>\n",
              "      <td>11.50562363</td>\n",
              "      <td>-4.91863294</td>\n",
              "      <td>-7.85507478</td>\n",
              "      <td>19.01530237</td>\n",
              "      <td>13.50168918</td>\n",
              "      <td>10.39364268</td>\n",
              "      <td>3.61419332</td>\n",
              "      <td>24.97083339</td>\n",
              "      <td>-8.33708302</td>\n",
              "      <td>8.86716646</td>\n",
              "      <td>35.19646448</td>\n",
              "      <td>25.95784815</td>\n",
              "      <td>14.29095518</td>\n",
              "      <td>0.18310421</td>\n",
              "      <td>12.95836000</td>\n",
              "    </tr>\n",
              "    <tr>\n",
              "      <th>floors</th>\n",
              "      <td>-4.17363270</td>\n",
              "      <td>14.80737805</td>\n",
              "      <td>-9.55056696</td>\n",
              "      <td>-11.75873660</td>\n",
              "      <td>13.50168918</td>\n",
              "      <td>27.64844804</td>\n",
              "      <td>12.90899349</td>\n",
              "      <td>4.30573391</td>\n",
              "      <td>31.12919664</td>\n",
              "      <td>-11.68061312</td>\n",
              "      <td>15.01903930</td>\n",
              "      <td>37.99100047</td>\n",
              "      <td>30.71580498</td>\n",
              "      <td>19.05803607</td>\n",
              "      <td>10.97166735</td>\n",
              "      <td>15.62192534</td>\n",
              "    </tr>\n",
              "    <tr>\n",
              "      <th>waterfront</th>\n",
              "      <td>-5.56506121</td>\n",
              "      <td>10.83508017</td>\n",
              "      <td>-4.20536556</td>\n",
              "      <td>-5.49925508</td>\n",
              "      <td>10.39364268</td>\n",
              "      <td>12.90899349</td>\n",
              "      <td>11.96252993</td>\n",
              "      <td>2.71338043</td>\n",
              "      <td>24.21852801</td>\n",
              "      <td>-5.90696158</td>\n",
              "      <td>8.47885931</td>\n",
              "      <td>32.70124507</td>\n",
              "      <td>25.00622775</td>\n",
              "      <td>12.63996665</td>\n",
              "      <td>7.79014823</td>\n",
              "      <td>13.01406459</td>\n",
              "    </tr>\n",
              "    <tr>\n",
              "      <th>view</th>\n",
              "      <td>-2.75659038</td>\n",
              "      <td>4.25540457</td>\n",
              "      <td>-1.75125448</td>\n",
              "      <td>0.35146787</td>\n",
              "      <td>3.61419332</td>\n",
              "      <td>4.30573391</td>\n",
              "      <td>2.71338043</td>\n",
              "      <td>4.06645974</td>\n",
              "      <td>9.26049911</td>\n",
              "      <td>-3.02102300</td>\n",
              "      <td>1.94422936</td>\n",
              "      <td>13.21553533</td>\n",
              "      <td>8.87312130</td>\n",
              "      <td>2.72893602</td>\n",
              "      <td>3.04614736</td>\n",
              "      <td>5.59011377</td>\n",
              "    </tr>\n",
              "    <tr>\n",
              "      <th>condition</th>\n",
              "      <td>-7.62321746</td>\n",
              "      <td>26.51029341</td>\n",
              "      <td>-11.53468489</td>\n",
              "      <td>-13.99490800</td>\n",
              "      <td>24.97083339</td>\n",
              "      <td>31.12919664</td>\n",
              "      <td>24.21852801</td>\n",
              "      <td>9.26049911</td>\n",
              "      <td>61.01463020</td>\n",
              "      <td>-19.60625811</td>\n",
              "      <td>19.55825687</td>\n",
              "      <td>84.73849694</td>\n",
              "      <td>61.87907801</td>\n",
              "      <td>30.11975888</td>\n",
              "      <td>19.32079232</td>\n",
              "      <td>30.82690056</td>\n",
              "    </tr>\n",
              "    <tr>\n",
              "      <th>grade</th>\n",
              "      <td>-8.82320608</td>\n",
              "      <td>-6.76296285</td>\n",
              "      <td>5.22207732</td>\n",
              "      <td>-6.28401976</td>\n",
              "      <td>-8.33708302</td>\n",
              "      <td>-11.68061312</td>\n",
              "      <td>-5.90696158</td>\n",
              "      <td>-3.02102300</td>\n",
              "      <td>-19.60625811</td>\n",
              "      <td>37.87548465</td>\n",
              "      <td>-4.56429166</td>\n",
              "      <td>-36.90161556</td>\n",
              "      <td>-22.12351808</td>\n",
              "      <td>-17.24931395</td>\n",
              "      <td>-5.43311252</td>\n",
              "      <td>-9.76320846</td>\n",
              "    </tr>\n",
              "    <tr>\n",
              "      <th>sqft_basement</th>\n",
              "      <td>-1.81065651</td>\n",
              "      <td>9.67115917</td>\n",
              "      <td>-4.97746392</td>\n",
              "      <td>-12.88456958</td>\n",
              "      <td>8.86716646</td>\n",
              "      <td>15.01903930</td>\n",
              "      <td>8.47885931</td>\n",
              "      <td>1.94422936</td>\n",
              "      <td>19.55825687</td>\n",
              "      <td>-4.56429166</td>\n",
              "      <td>11.32825238</td>\n",
              "      <td>26.39875926</td>\n",
              "      <td>20.16614103</td>\n",
              "      <td>13.13387712</td>\n",
              "      <td>6.95630340</td>\n",
              "      <td>9.58390971</td>\n",
              "    </tr>\n",
              "    <tr>\n",
              "      <th>yr_built</th>\n",
              "      <td>-1.26020267</td>\n",
              "      <td>38.67768240</td>\n",
              "      <td>-19.39664023</td>\n",
              "      <td>-18.93181369</td>\n",
              "      <td>35.19646448</td>\n",
              "      <td>37.99100047</td>\n",
              "      <td>32.70124507</td>\n",
              "      <td>13.21553533</td>\n",
              "      <td>84.73849694</td>\n",
              "      <td>-36.90161556</td>\n",
              "      <td>26.39875926</td>\n",
              "      <td>131.55265953</td>\n",
              "      <td>89.88348374</td>\n",
              "      <td>41.63378018</td>\n",
              "      <td>27.07783651</td>\n",
              "      <td>42.65137045</td>\n",
              "    </tr>\n",
              "    <tr>\n",
              "      <th>zipcode</th>\n",
              "      <td>-5.40559420</td>\n",
              "      <td>28.35148057</td>\n",
              "      <td>-12.08421326</td>\n",
              "      <td>-16.47301313</td>\n",
              "      <td>25.95784815</td>\n",
              "      <td>30.71580498</td>\n",
              "      <td>25.00622775</td>\n",
              "      <td>8.87312130</td>\n",
              "      <td>61.87907801</td>\n",
              "      <td>-22.12351808</td>\n",
              "      <td>20.16614103</td>\n",
              "      <td>89.88348374</td>\n",
              "      <td>67.12878490</td>\n",
              "      <td>33.31814941</td>\n",
              "      <td>20.37867011</td>\n",
              "      <td>30.86052361</td>\n",
              "    </tr>\n",
              "    <tr>\n",
              "      <th>sqft_living15</th>\n",
              "      <td>-1.61954548</td>\n",
              "      <td>14.79013713</td>\n",
              "      <td>-2.79431198</td>\n",
              "      <td>-24.74998319</td>\n",
              "      <td>14.29095518</td>\n",
              "      <td>19.05803607</td>\n",
              "      <td>12.63996665</td>\n",
              "      <td>2.72893602</td>\n",
              "      <td>30.11975888</td>\n",
              "      <td>-17.24931395</td>\n",
              "      <td>13.13387712</td>\n",
              "      <td>41.63378018</td>\n",
              "      <td>33.31814941</td>\n",
              "      <td>34.39106814</td>\n",
              "      <td>8.68929276</td>\n",
              "      <td>14.57560750</td>\n",
              "    </tr>\n",
              "    <tr>\n",
              "      <th>sqft_lot15</th>\n",
              "      <td>-1.31161675</td>\n",
              "      <td>9.58997758</td>\n",
              "      <td>-3.55378449</td>\n",
              "      <td>-6.91314808</td>\n",
              "      <td>0.18310421</td>\n",
              "      <td>10.97166735</td>\n",
              "      <td>7.79014823</td>\n",
              "      <td>3.04614736</td>\n",
              "      <td>19.32079232</td>\n",
              "      <td>-5.43311252</td>\n",
              "      <td>6.95630340</td>\n",
              "      <td>27.07783651</td>\n",
              "      <td>20.37867011</td>\n",
              "      <td>8.68929276</td>\n",
              "      <td>15.38668062</td>\n",
              "      <td>9.85531731</td>\n",
              "    </tr>\n",
              "    <tr>\n",
              "      <th>location</th>\n",
              "      <td>-7.47250794</td>\n",
              "      <td>13.32268158</td>\n",
              "      <td>-5.50533807</td>\n",
              "      <td>-3.40778620</td>\n",
              "      <td>12.95836000</td>\n",
              "      <td>15.62192534</td>\n",
              "      <td>13.01406459</td>\n",
              "      <td>5.59011377</td>\n",
              "      <td>30.82690056</td>\n",
              "      <td>-9.76320846</td>\n",
              "      <td>9.58390971</td>\n",
              "      <td>42.65137045</td>\n",
              "      <td>30.86052361</td>\n",
              "      <td>14.57560750</td>\n",
              "      <td>9.85531731</td>\n",
              "      <td>18.19595667</td>\n",
              "    </tr>\n",
              "  </tbody>\n",
              "</table>\n",
              "</div>"
            ],
            "text/plain": [
              "                    price     bedrooms  ...  sqft_lot15    location\n",
              "price         19.57639619  -0.29721771  ... -1.31161675 -7.47250794\n",
              "bedrooms      -0.29721771  17.03152512  ...  9.58997758 13.32268158\n",
              "bathrooms     -1.09937084  -6.40228376  ... -3.55378449 -5.50533807\n",
              "sqft_living   -9.96479998 -16.09370152  ... -6.91314808 -3.40778620\n",
              "sqft_lot      -3.13133422  11.50562363  ...  0.18310421 12.95836000\n",
              "floors        -4.17363270  14.80737805  ... 10.97166735 15.62192534\n",
              "waterfront    -5.56506121  10.83508017  ...  7.79014823 13.01406459\n",
              "view          -2.75659038   4.25540457  ...  3.04614736  5.59011377\n",
              "condition     -7.62321746  26.51029341  ... 19.32079232 30.82690056\n",
              "grade         -8.82320608  -6.76296285  ... -5.43311252 -9.76320846\n",
              "sqft_basement -1.81065651   9.67115917  ...  6.95630340  9.58390971\n",
              "yr_built      -1.26020267  38.67768240  ... 27.07783651 42.65137045\n",
              "zipcode       -5.40559420  28.35148057  ... 20.37867011 30.86052361\n",
              "sqft_living15 -1.61954548  14.79013713  ...  8.68929276 14.57560750\n",
              "sqft_lot15    -1.31161675   9.58997758  ... 15.38668062  9.85531731\n",
              "location      -7.47250794  13.32268158  ...  9.85531731 18.19595667\n",
              "\n",
              "[16 rows x 16 columns]"
            ]
          },
          "metadata": {
            "tags": []
          },
          "execution_count": 208
        }
      ]
    },
    {
      "cell_type": "code",
      "metadata": {
        "id": "5J6SyuyzgvVJ",
        "colab_type": "code",
        "colab": {}
      },
      "source": [
        "#Removing the sqft_basement from the new dataset\n",
        "revision = correlations.drop(['sqft_basement'],axis=1)\n",
        "correlations = revision.corr()"
      ],
      "execution_count": null,
      "outputs": []
    },
    {
      "cell_type": "code",
      "metadata": {
        "id": "Kky2jwEjiBON",
        "colab_type": "code",
        "colab": {
          "base_uri": "https://localhost:8080/",
          "height": 534
        },
        "outputId": "24492922-b28e-431b-d2ad-0712a7ac3922"
      },
      "source": [
        "#Getting the VIF Score of the new dataframe\n",
        "pd.DataFrame(np.linalg.inv(correlations.values),index=correlations.index,columns=correlations.columns)"
      ],
      "execution_count": null,
      "outputs": [
        {
          "output_type": "execute_result",
          "data": {
            "text/html": [
              "<div>\n",
              "<style scoped>\n",
              "    .dataframe tbody tr th:only-of-type {\n",
              "        vertical-align: middle;\n",
              "    }\n",
              "\n",
              "    .dataframe tbody tr th {\n",
              "        vertical-align: top;\n",
              "    }\n",
              "\n",
              "    .dataframe thead th {\n",
              "        text-align: right;\n",
              "    }\n",
              "</style>\n",
              "<table border=\"1\" class=\"dataframe\">\n",
              "  <thead>\n",
              "    <tr style=\"text-align: right;\">\n",
              "      <th></th>\n",
              "      <th>price</th>\n",
              "      <th>bedrooms</th>\n",
              "      <th>bathrooms</th>\n",
              "      <th>sqft_living</th>\n",
              "      <th>sqft_lot</th>\n",
              "      <th>floors</th>\n",
              "      <th>waterfront</th>\n",
              "      <th>view</th>\n",
              "      <th>condition</th>\n",
              "      <th>grade</th>\n",
              "      <th>yr_built</th>\n",
              "      <th>zipcode</th>\n",
              "      <th>sqft_living15</th>\n",
              "      <th>sqft_lot15</th>\n",
              "      <th>location</th>\n",
              "    </tr>\n",
              "  </thead>\n",
              "  <tbody>\n",
              "    <tr>\n",
              "      <th>price</th>\n",
              "      <td>2129.29158319</td>\n",
              "      <td>119.00022043</td>\n",
              "      <td>204.73063055</td>\n",
              "      <td>-2925.26002260</td>\n",
              "      <td>-303.24758095</td>\n",
              "      <td>-421.00334776</td>\n",
              "      <td>-483.39475591</td>\n",
              "      <td>-266.20878481</td>\n",
              "      <td>-974.36393156</td>\n",
              "      <td>-1249.00800595</td>\n",
              "      <td>-477.04916697</td>\n",
              "      <td>-747.70055834</td>\n",
              "      <td>773.56323400</td>\n",
              "      <td>-158.19997182</td>\n",
              "      <td>-729.71075500</td>\n",
              "    </tr>\n",
              "    <tr>\n",
              "      <th>bedrooms</th>\n",
              "      <td>119.00022043</td>\n",
              "      <td>319.29253146</td>\n",
              "      <td>-199.78355989</td>\n",
              "      <td>260.38425845</td>\n",
              "      <td>195.95572262</td>\n",
              "      <td>-17.03461805</td>\n",
              "      <td>154.35673236</td>\n",
              "      <td>114.65063633</td>\n",
              "      <td>652.45702131</td>\n",
              "      <td>-510.46868888</td>\n",
              "      <td>1597.10828420</td>\n",
              "      <td>814.40274088</td>\n",
              "      <td>52.33185397</td>\n",
              "      <td>196.80682188</td>\n",
              "      <td>266.24230860</td>\n",
              "    </tr>\n",
              "    <tr>\n",
              "      <th>bathrooms</th>\n",
              "      <td>204.73063055</td>\n",
              "      <td>-199.78355989</td>\n",
              "      <td>1500.72631468</td>\n",
              "      <td>-3374.81788722</td>\n",
              "      <td>-372.07150626</td>\n",
              "      <td>-583.06021119</td>\n",
              "      <td>-315.92998818</td>\n",
              "      <td>-249.20653833</td>\n",
              "      <td>-1263.34749877</td>\n",
              "      <td>1717.66832447</td>\n",
              "      <td>-2907.87914785</td>\n",
              "      <td>-1396.96536781</td>\n",
              "      <td>630.20816609</td>\n",
              "      <td>-273.32492904</td>\n",
              "      <td>-609.61191170</td>\n",
              "    </tr>\n",
              "    <tr>\n",
              "      <th>sqft_living</th>\n",
              "      <td>-2925.26002260</td>\n",
              "      <td>260.38425846</td>\n",
              "      <td>-3374.81788722</td>\n",
              "      <td>12572.08052384</td>\n",
              "      <td>1480.21688128</td>\n",
              "      <td>2145.57663540</td>\n",
              "      <td>1521.30978295</td>\n",
              "      <td>1002.53601921</td>\n",
              "      <td>4947.07465685</td>\n",
              "      <td>-4963.68803416</td>\n",
              "      <td>9211.05955313</td>\n",
              "      <td>5161.07001793</td>\n",
              "      <td>-1637.72604314</td>\n",
              "      <td>1023.23195959</td>\n",
              "      <td>2685.92477995</td>\n",
              "    </tr>\n",
              "    <tr>\n",
              "      <th>sqft_lot</th>\n",
              "      <td>-303.24758095</td>\n",
              "      <td>195.95572262</td>\n",
              "      <td>-372.07150626</td>\n",
              "      <td>1480.21688127</td>\n",
              "      <td>615.68841868</td>\n",
              "      <td>190.78228040</td>\n",
              "      <td>285.59691222</td>\n",
              "      <td>175.18746519</td>\n",
              "      <td>995.31664796</td>\n",
              "      <td>-1005.24871918</td>\n",
              "      <td>2074.15275644</td>\n",
              "      <td>1131.72709397</td>\n",
              "      <td>101.77954421</td>\n",
              "      <td>-88.86208290</td>\n",
              "      <td>486.30352254</td>\n",
              "    </tr>\n",
              "    <tr>\n",
              "      <th>floors</th>\n",
              "      <td>-421.00334776</td>\n",
              "      <td>-17.03461805</td>\n",
              "      <td>-583.06021119</td>\n",
              "      <td>2145.57663540</td>\n",
              "      <td>190.78228040</td>\n",
              "      <td>565.06968330</td>\n",
              "      <td>200.67970849</td>\n",
              "      <td>151.72100005</td>\n",
              "      <td>680.68207000</td>\n",
              "      <td>-1149.52037038</td>\n",
              "      <td>1149.01258417</td>\n",
              "      <td>671.29169135</td>\n",
              "      <td>-151.47654959</td>\n",
              "      <td>146.65944711</td>\n",
              "      <td>387.01242437</td>\n",
              "    </tr>\n",
              "    <tr>\n",
              "      <th>waterfront</th>\n",
              "      <td>-483.39475591</td>\n",
              "      <td>154.35673236</td>\n",
              "      <td>-315.92998818</td>\n",
              "      <td>1521.30978295</td>\n",
              "      <td>285.59691222</td>\n",
              "      <td>200.67970849</td>\n",
              "      <td>287.69069674</td>\n",
              "      <td>169.08046440</td>\n",
              "      <td>906.30397351</td>\n",
              "      <td>-572.15203040</td>\n",
              "      <td>1693.28627991</td>\n",
              "      <td>992.26698517</td>\n",
              "      <td>-105.58424179</td>\n",
              "      <td>199.21680876</td>\n",
              "      <td>469.95421750</td>\n",
              "    </tr>\n",
              "    <tr>\n",
              "      <th>view</th>\n",
              "      <td>-266.20878481</td>\n",
              "      <td>114.65063633</td>\n",
              "      <td>-249.20653833</td>\n",
              "      <td>1002.53601921</td>\n",
              "      <td>175.18746519</td>\n",
              "      <td>151.72100005</td>\n",
              "      <td>169.08046440</td>\n",
              "      <td>126.72627581</td>\n",
              "      <td>589.53456882</td>\n",
              "      <td>-430.81694911</td>\n",
              "      <td>1144.65293779</td>\n",
              "      <td>637.33609996</td>\n",
              "      <td>-108.18017007</td>\n",
              "      <td>142.67160847</td>\n",
              "      <td>304.05041166</td>\n",
              "    </tr>\n",
              "    <tr>\n",
              "      <th>condition</th>\n",
              "      <td>-974.36393156</td>\n",
              "      <td>652.45702131</td>\n",
              "      <td>-1263.34749877</td>\n",
              "      <td>4947.07465684</td>\n",
              "      <td>995.31664796</td>\n",
              "      <td>680.68207000</td>\n",
              "      <td>906.30397351</td>\n",
              "      <td>589.53456882</td>\n",
              "      <td>3206.35325536</td>\n",
              "      <td>-2951.32704932</td>\n",
              "      <td>6598.97583352</td>\n",
              "      <td>3622.49997332</td>\n",
              "      <td>-137.49453745</td>\n",
              "      <td>735.17555006</td>\n",
              "      <td>1561.53276811</td>\n",
              "    </tr>\n",
              "    <tr>\n",
              "      <th>grade</th>\n",
              "      <td>-1249.00800595</td>\n",
              "      <td>-510.46868888</td>\n",
              "      <td>1717.66832447</td>\n",
              "      <td>-4963.68803416</td>\n",
              "      <td>-1005.24871918</td>\n",
              "      <td>-1149.52037038</td>\n",
              "      <td>-572.15203040</td>\n",
              "      <td>-430.81694911</td>\n",
              "      <td>-2951.32704932</td>\n",
              "      <td>8186.49413009</td>\n",
              "      <td>-7934.31997288</td>\n",
              "      <td>-3738.29671070</td>\n",
              "      <td>-1676.00414656</td>\n",
              "      <td>-556.63851855</td>\n",
              "      <td>-1232.91395424</td>\n",
              "    </tr>\n",
              "    <tr>\n",
              "      <th>yr_built</th>\n",
              "      <td>-477.04916697</td>\n",
              "      <td>1597.10828420</td>\n",
              "      <td>-2907.87914785</td>\n",
              "      <td>9211.05955312</td>\n",
              "      <td>2074.15275644</td>\n",
              "      <td>1149.01258417</td>\n",
              "      <td>1693.28627991</td>\n",
              "      <td>1144.65293779</td>\n",
              "      <td>6598.97583352</td>\n",
              "      <td>-7934.31997288</td>\n",
              "      <td>15038.53191901</td>\n",
              "      <td>7778.72742778</td>\n",
              "      <td>285.13911524</td>\n",
              "      <td>1528.31205707</td>\n",
              "      <td>3014.46517575</td>\n",
              "    </tr>\n",
              "    <tr>\n",
              "      <th>zipcode</th>\n",
              "      <td>-747.70055834</td>\n",
              "      <td>814.40274088</td>\n",
              "      <td>-1396.96536780</td>\n",
              "      <td>5161.07001793</td>\n",
              "      <td>1131.72709397</td>\n",
              "      <td>671.29169135</td>\n",
              "      <td>992.26698517</td>\n",
              "      <td>637.33609996</td>\n",
              "      <td>3622.49997332</td>\n",
              "      <td>-3738.29671070</td>\n",
              "      <td>7778.72742778</td>\n",
              "      <td>4211.35433229</td>\n",
              "      <td>119.78672271</td>\n",
              "      <td>841.47282239</td>\n",
              "      <td>1708.92500805</td>\n",
              "    </tr>\n",
              "    <tr>\n",
              "      <th>sqft_living15</th>\n",
              "      <td>773.56323400</td>\n",
              "      <td>52.33185397</td>\n",
              "      <td>630.20816609</td>\n",
              "      <td>-1637.72604314</td>\n",
              "      <td>101.77954421</td>\n",
              "      <td>-151.47654959</td>\n",
              "      <td>-105.58424180</td>\n",
              "      <td>-108.18017007</td>\n",
              "      <td>-137.49453745</td>\n",
              "      <td>-1676.00414656</td>\n",
              "      <td>285.13911523</td>\n",
              "      <td>119.78672271</td>\n",
              "      <td>1701.31753649</td>\n",
              "      <td>-173.35805227</td>\n",
              "      <td>-162.50532396</td>\n",
              "    </tr>\n",
              "    <tr>\n",
              "      <th>sqft_lot15</th>\n",
              "      <td>-158.19997182</td>\n",
              "      <td>196.80682188</td>\n",
              "      <td>-273.32492904</td>\n",
              "      <td>1023.23195959</td>\n",
              "      <td>-88.86208290</td>\n",
              "      <td>146.65944711</td>\n",
              "      <td>199.21680876</td>\n",
              "      <td>142.67160847</td>\n",
              "      <td>735.17555006</td>\n",
              "      <td>-556.63851855</td>\n",
              "      <td>1528.31205707</td>\n",
              "      <td>841.47282239</td>\n",
              "      <td>-173.35805227</td>\n",
              "      <td>511.39413806</td>\n",
              "      <td>347.62646712</td>\n",
              "    </tr>\n",
              "    <tr>\n",
              "      <th>location</th>\n",
              "      <td>-729.71075500</td>\n",
              "      <td>266.24230860</td>\n",
              "      <td>-609.61191170</td>\n",
              "      <td>2685.92477995</td>\n",
              "      <td>486.30352254</td>\n",
              "      <td>387.01242437</td>\n",
              "      <td>469.95421750</td>\n",
              "      <td>304.05041166</td>\n",
              "      <td>1561.53276811</td>\n",
              "      <td>-1232.91395424</td>\n",
              "      <td>3014.46517575</td>\n",
              "      <td>1708.92500805</td>\n",
              "      <td>-162.50532395</td>\n",
              "      <td>347.62646712</td>\n",
              "      <td>806.37948727</td>\n",
              "    </tr>\n",
              "  </tbody>\n",
              "</table>\n",
              "</div>"
            ],
            "text/plain": [
              "                       price      bedrooms  ...    sqft_lot15       location\n",
              "price          2129.29158319  119.00022043  ... -158.19997182  -729.71075500\n",
              "bedrooms        119.00022043  319.29253146  ...  196.80682188   266.24230860\n",
              "bathrooms       204.73063055 -199.78355989  ... -273.32492904  -609.61191170\n",
              "sqft_living   -2925.26002260  260.38425846  ... 1023.23195959  2685.92477995\n",
              "sqft_lot       -303.24758095  195.95572262  ...  -88.86208290   486.30352254\n",
              "floors         -421.00334776  -17.03461805  ...  146.65944711   387.01242437\n",
              "waterfront     -483.39475591  154.35673236  ...  199.21680876   469.95421750\n",
              "view           -266.20878481  114.65063633  ...  142.67160847   304.05041166\n",
              "condition      -974.36393156  652.45702131  ...  735.17555006  1561.53276811\n",
              "grade         -1249.00800595 -510.46868888  ... -556.63851855 -1232.91395424\n",
              "yr_built       -477.04916697 1597.10828420  ... 1528.31205707  3014.46517575\n",
              "zipcode        -747.70055834  814.40274088  ...  841.47282239  1708.92500805\n",
              "sqft_living15   773.56323400   52.33185397  ... -173.35805227  -162.50532396\n",
              "sqft_lot15     -158.19997182  196.80682188  ...  511.39413806   347.62646712\n",
              "location       -729.71075500  266.24230860  ...  347.62646712   806.37948727\n",
              "\n",
              "[15 rows x 15 columns]"
            ]
          },
          "metadata": {
            "tags": []
          },
          "execution_count": 210
        }
      ]
    },
    {
      "cell_type": "code",
      "metadata": {
        "id": "eteyNkfWiDw1",
        "colab_type": "code",
        "colab": {}
      },
      "source": [
        "#Removing the grade from the new dataset\n",
        "revision = correlations.drop(['grade'],axis=1)\n",
        "correlations = revision.corr()"
      ],
      "execution_count": null,
      "outputs": []
    },
    {
      "cell_type": "code",
      "metadata": {
        "id": "___pYwNHiLq-",
        "colab_type": "code",
        "colab": {
          "base_uri": "https://localhost:8080/",
          "height": 503
        },
        "outputId": "bf547a5e-8caa-4cd4-8e3f-e207d1241b92"
      },
      "source": [
        "#Checking the VIF Score of the new dataframe\n",
        "pd.DataFrame(np.linalg.inv(correlations.values),index=correlations.index,columns=correlations.columns)"
      ],
      "execution_count": null,
      "outputs": [
        {
          "output_type": "execute_result",
          "data": {
            "text/html": [
              "<div>\n",
              "<style scoped>\n",
              "    .dataframe tbody tr th:only-of-type {\n",
              "        vertical-align: middle;\n",
              "    }\n",
              "\n",
              "    .dataframe tbody tr th {\n",
              "        vertical-align: top;\n",
              "    }\n",
              "\n",
              "    .dataframe thead th {\n",
              "        text-align: right;\n",
              "    }\n",
              "</style>\n",
              "<table border=\"1\" class=\"dataframe\">\n",
              "  <thead>\n",
              "    <tr style=\"text-align: right;\">\n",
              "      <th></th>\n",
              "      <th>price</th>\n",
              "      <th>bedrooms</th>\n",
              "      <th>bathrooms</th>\n",
              "      <th>sqft_living</th>\n",
              "      <th>sqft_lot</th>\n",
              "      <th>floors</th>\n",
              "      <th>waterfront</th>\n",
              "      <th>view</th>\n",
              "      <th>condition</th>\n",
              "      <th>yr_built</th>\n",
              "      <th>zipcode</th>\n",
              "      <th>sqft_living15</th>\n",
              "      <th>sqft_lot15</th>\n",
              "      <th>location</th>\n",
              "    </tr>\n",
              "  </thead>\n",
              "  <tbody>\n",
              "    <tr>\n",
              "      <th>price</th>\n",
              "      <td>147507141.35222134</td>\n",
              "      <td>-27478664.02132099</td>\n",
              "      <td>76176986.85721043</td>\n",
              "      <td>-378520137.97503936</td>\n",
              "      <td>-36265665.58106057</td>\n",
              "      <td>-45308242.64747322</td>\n",
              "      <td>-44654612.90928635</td>\n",
              "      <td>-22970731.86397561</td>\n",
              "      <td>-181895755.83418751</td>\n",
              "      <td>-324801902.51189411</td>\n",
              "      <td>-200446367.42864901</td>\n",
              "      <td>87800411.45526576</td>\n",
              "      <td>-29846619.86457005</td>\n",
              "      <td>-77763265.17467010</td>\n",
              "    </tr>\n",
              "    <tr>\n",
              "      <th>bedrooms</th>\n",
              "      <td>-27478661.22213148</td>\n",
              "      <td>16927265.87765713</td>\n",
              "      <td>-10292156.08211038</td>\n",
              "      <td>61683414.04899820</td>\n",
              "      <td>11280537.92896668</td>\n",
              "      <td>1242188.45202276</td>\n",
              "      <td>12479368.98042829</td>\n",
              "      <td>6393735.65526594</td>\n",
              "      <td>55788984.74891336</td>\n",
              "      <td>115709884.11122526</td>\n",
              "      <td>67080534.10851391</td>\n",
              "      <td>-12259435.73174948</td>\n",
              "      <td>10241320.62757935</td>\n",
              "      <td>21273772.55476232</td>\n",
              "    </tr>\n",
              "    <tr>\n",
              "      <th>bathrooms</th>\n",
              "      <td>76176989.26172365</td>\n",
              "      <td>-10292158.29431961</td>\n",
              "      <td>56451974.91298772</td>\n",
              "      <td>-223943629.66575551</td>\n",
              "      <td>-16875191.57834290</td>\n",
              "      <td>-29344541.07365123</td>\n",
              "      <td>-21942910.96229078</td>\n",
              "      <td>-11734532.05742784</td>\n",
              "      <td>-89337812.79691823</td>\n",
              "      <td>-158534825.58230904</td>\n",
              "      <td>-95505053.33164036</td>\n",
              "      <td>63476989.90196350</td>\n",
              "      <td>-15035263.00309147</td>\n",
              "      <td>-38912406.99197863</td>\n",
              "    </tr>\n",
              "    <tr>\n",
              "      <th>sqft_living</th>\n",
              "      <td>-378520142.52424067</td>\n",
              "      <td>61683422.61352139</td>\n",
              "      <td>-223943625.90513369</td>\n",
              "      <td>1020200290.20665932</td>\n",
              "      <td>88869253.65555646</td>\n",
              "      <td>127453460.34273462</td>\n",
              "      <td>111950516.86871424</td>\n",
              "      <td>58339202.08703081</td>\n",
              "      <td>455005705.88018841</td>\n",
              "      <td>807606285.19249582</td>\n",
              "      <td>495387199.46219623</td>\n",
              "      <td>-256532782.51814926</td>\n",
              "      <td>75370903.65408128</td>\n",
              "      <td>196211719.49178678</td>\n",
              "    </tr>\n",
              "    <tr>\n",
              "      <th>sqft_lot</th>\n",
              "      <td>-36265664.43785301</td>\n",
              "      <td>11280538.39048937</td>\n",
              "      <td>-16875190.27763972</td>\n",
              "      <td>88869249.40642905</td>\n",
              "      <td>11171437.69402998</td>\n",
              "      <td>8130194.74297502</td>\n",
              "      <td>12575798.23289708</td>\n",
              "      <td>6430831.66857630</td>\n",
              "      <td>53063638.18563059</td>\n",
              "      <td>100967769.06793062</td>\n",
              "      <td>60674831.71825987</td>\n",
              "      <td>-19326738.15119373</td>\n",
              "      <td>8568388.69385349</td>\n",
              "      <td>21693631.14465483</td>\n",
              "    </tr>\n",
              "    <tr>\n",
              "      <th>floors</th>\n",
              "      <td>-45308244.73125248</td>\n",
              "      <td>1242189.77603674</td>\n",
              "      <td>-29344541.58367491</td>\n",
              "      <td>127453464.56723483</td>\n",
              "      <td>8130195.62744999</td>\n",
              "      <td>19375765.28037219</td>\n",
              "      <td>11211396.74706659</td>\n",
              "      <td>5901432.66886805</td>\n",
              "      <td>43007537.43684204</td>\n",
              "      <td>67656809.06483565</td>\n",
              "      <td>43654795.01311123</td>\n",
              "      <td>-33403235.32226145</td>\n",
              "      <td>6728087.71932796</td>\n",
              "      <td>19944467.95134476</td>\n",
              "    </tr>\n",
              "    <tr>\n",
              "      <th>waterfront</th>\n",
              "      <td>-44654611.94584227</td>\n",
              "      <td>12479369.65422382</td>\n",
              "      <td>-21942909.62209491</td>\n",
              "      <td>111950512.82587221</td>\n",
              "      <td>12575798.34924308</td>\n",
              "      <td>11211395.78976233</td>\n",
              "      <td>14995971.70412620</td>\n",
              "      <td>7710402.75988891</td>\n",
              "      <td>62862987.34552115</td>\n",
              "      <td>118034239.76790382</td>\n",
              "      <td>71236134.44298707</td>\n",
              "      <td>-25454768.71115449</td>\n",
              "      <td>10708734.35435599</td>\n",
              "      <td>25960384.80466647</td>\n",
              "    </tr>\n",
              "    <tr>\n",
              "      <th>view</th>\n",
              "      <td>-22970731.42052038</td>\n",
              "      <td>6393736.02118471</td>\n",
              "      <td>-11734531.39270160</td>\n",
              "      <td>58339200.13559311</td>\n",
              "      <td>6430831.74493293</td>\n",
              "      <td>5901432.18670971</td>\n",
              "      <td>7710402.77908961</td>\n",
              "      <td>3979956.70129413</td>\n",
              "      <td>32360527.17730153</td>\n",
              "      <td>60827366.61286447</td>\n",
              "      <td>36617992.54455842</td>\n",
              "      <td>-13605336.06211941</td>\n",
              "      <td>5550521.59409175</td>\n",
              "      <td>13367909.89137751</td>\n",
              "    </tr>\n",
              "    <tr>\n",
              "      <th>condition</th>\n",
              "      <td>-181895750.89138868</td>\n",
              "      <td>55788987.33829994</td>\n",
              "      <td>-89337806.66647865</td>\n",
              "      <td>455005686.54882240</td>\n",
              "      <td>53063638.42833243</td>\n",
              "      <td>43007533.17124529</td>\n",
              "      <td>62862987.04696939</td>\n",
              "      <td>32360526.94137586</td>\n",
              "      <td>265572243.24541771</td>\n",
              "      <td>504991548.03186828</td>\n",
              "      <td>302879656.84829319</td>\n",
              "      <td>-103786991.43787988</td>\n",
              "      <td>45749376.70565061</td>\n",
              "      <td>108713002.07239819</td>\n",
              "    </tr>\n",
              "    <tr>\n",
              "      <th>yr_built</th>\n",
              "      <td>-324801890.23949707</td>\n",
              "      <td>115709888.17953119</td>\n",
              "      <td>-158534812.38859382</td>\n",
              "      <td>807606241.03074694</td>\n",
              "      <td>100967768.70647244</td>\n",
              "      <td>67656800.23111612</td>\n",
              "      <td>118034238.21405326</td>\n",
              "      <td>60827365.65304822</td>\n",
              "      <td>504991543.86298686</td>\n",
              "      <td>980196868.66261816</td>\n",
              "      <td>582156791.59960222</td>\n",
              "      <td>-184392476.53933021</td>\n",
              "      <td>88302636.62201267</td>\n",
              "      <td>203706870.05975142</td>\n",
              "    </tr>\n",
              "    <tr>\n",
              "      <th>zipcode</th>\n",
              "      <td>-200446360.53379488</td>\n",
              "      <td>67080536.66780942</td>\n",
              "      <td>-95505045.68417034</td>\n",
              "      <td>495387174.20692712</td>\n",
              "      <td>60674831.62678057</td>\n",
              "      <td>43654789.84658779</td>\n",
              "      <td>71236133.66419461</td>\n",
              "      <td>36617992.04868394</td>\n",
              "      <td>302879654.98939025</td>\n",
              "      <td>582156792.79935670</td>\n",
              "      <td>347804005.65037167</td>\n",
              "      <td>-111156068.10833429</td>\n",
              "      <td>52525940.71288809</td>\n",
              "      <td>122951029.92965287</td>\n",
              "    </tr>\n",
              "    <tr>\n",
              "      <th>sqft_living15</th>\n",
              "      <td>87800414.08488162</td>\n",
              "      <td>-12259438.24779621</td>\n",
              "      <td>63476989.82018854</td>\n",
              "      <td>-256532786.47579256</td>\n",
              "      <td>-19326739.61315972</td>\n",
              "      <td>-33403234.69277101</td>\n",
              "      <td>-25454770.21013550</td>\n",
              "      <td>-13605336.80445108</td>\n",
              "      <td>-103786998.31329216</td>\n",
              "      <td>-184392491.39312315</td>\n",
              "      <td>-111156076.71018934</td>\n",
              "      <td>72662167.49798086</td>\n",
              "      <td>-17849172.43004881</td>\n",
              "      <td>-45111700.58415107</td>\n",
              "    </tr>\n",
              "    <tr>\n",
              "      <th>sqft_lot15</th>\n",
              "      <td>-29846618.90715871</td>\n",
              "      <td>10241321.04842418</td>\n",
              "      <td>-15035261.88584753</td>\n",
              "      <td>75370900.04221274</td>\n",
              "      <td>8568388.70791508</td>\n",
              "      <td>6728086.95335807</td>\n",
              "      <td>10708734.26876117</td>\n",
              "      <td>5550521.53563748</td>\n",
              "      <td>45749376.56327391</td>\n",
              "      <td>88302637.07616416</td>\n",
              "      <td>52525940.87424599</td>\n",
              "      <td>-17849171.17503438</td>\n",
              "      <td>8573281.24643641</td>\n",
              "      <td>18527518.98173354</td>\n",
              "    </tr>\n",
              "    <tr>\n",
              "      <th>location</th>\n",
              "      <td>-77763263.66207093</td>\n",
              "      <td>21273773.77081006</td>\n",
              "      <td>-38912404.75205235</td>\n",
              "      <td>196211712.88751823</td>\n",
              "      <td>21693631.39195433</td>\n",
              "      <td>19944466.33061383</td>\n",
              "      <td>25960384.85911560</td>\n",
              "      <td>13367909.88629393</td>\n",
              "      <td>108713002.82046542</td>\n",
              "      <td>203706873.19289047</td>\n",
              "      <td>122951031.54201651</td>\n",
              "      <td>-45111698.08216461</td>\n",
              "      <td>18527519.17019263</td>\n",
              "      <td>44981347.79628329</td>\n",
              "    </tr>\n",
              "  </tbody>\n",
              "</table>\n",
              "</div>"
            ],
            "text/plain": [
              "                            price  ...           location\n",
              "price          147507141.35222134  ... -77763265.17467010\n",
              "bedrooms       -27478661.22213148  ...  21273772.55476232\n",
              "bathrooms       76176989.26172365  ... -38912406.99197863\n",
              "sqft_living   -378520142.52424067  ... 196211719.49178678\n",
              "sqft_lot       -36265664.43785301  ...  21693631.14465483\n",
              "floors         -45308244.73125248  ...  19944467.95134476\n",
              "waterfront     -44654611.94584227  ...  25960384.80466647\n",
              "view           -22970731.42052038  ...  13367909.89137751\n",
              "condition     -181895750.89138868  ... 108713002.07239819\n",
              "yr_built      -324801890.23949707  ... 203706870.05975142\n",
              "zipcode       -200446360.53379488  ... 122951029.92965287\n",
              "sqft_living15   87800414.08488162  ... -45111700.58415107\n",
              "sqft_lot15     -29846618.90715871  ...  18527518.98173354\n",
              "location       -77763263.66207093  ...  44981347.79628329\n",
              "\n",
              "[14 rows x 14 columns]"
            ]
          },
          "metadata": {
            "tags": []
          },
          "execution_count": 212
        }
      ]
    },
    {
      "cell_type": "markdown",
      "metadata": {
        "id": "8TB8q0IVi5Th",
        "colab_type": "text"
      },
      "source": [
        "It is observed that multi-collinearity increases as we drop columns. This shows that multiple regression is not suited for this kind of data. Since one of the assumptions during a multiple regression model is that there should be no multi-collinearity."
      ]
    },
    {
      "cell_type": "markdown",
      "metadata": {
        "id": "b4bezJF2pcfI",
        "colab_type": "text"
      },
      "source": [
        "# Multiple Linear Regression Modelling"
      ]
    },
    {
      "cell_type": "code",
      "metadata": {
        "id": "iwT7wtuwiP16",
        "colab_type": "code",
        "colab": {}
      },
      "source": [
        "#Defining the predictor values and the independent variable defined as X and y respectively.\n",
        "X = df.drop(['price'],axis=1)\n",
        "y = df['price']"
      ],
      "execution_count": 13,
      "outputs": []
    },
    {
      "cell_type": "code",
      "metadata": {
        "id": "T1JfH31Qpq_C",
        "colab_type": "code",
        "colab": {
          "base_uri": "https://localhost:8080/",
          "height": 34
        },
        "outputId": "7d2f6569-b8bb-48ad-a47f-ee68680789e6"
      },
      "source": [
        "#Splitting the train and test values in our dataset\n",
        "from sklearn.model_selection import train_test_split\n",
        "\n",
        "X_train,X_test,y_train,y_test = train_test_split(X,y,test_size=0.2,random_state=101)\n",
        "#Fitting the data in a linear regression\n",
        "from sklearn.linear_model import LinearRegression\n",
        "regressor = LinearRegression()\n",
        "regressor.fit(X_train,y_train)"
      ],
      "execution_count": 14,
      "outputs": [
        {
          "output_type": "execute_result",
          "data": {
            "text/plain": [
              "LinearRegression(copy_X=True, fit_intercept=True, n_jobs=None, normalize=False)"
            ]
          },
          "metadata": {
            "tags": []
          },
          "execution_count": 14
        }
      ]
    },
    {
      "cell_type": "code",
      "metadata": {
        "id": "KdQOZiXRqKIR",
        "colab_type": "code",
        "colab": {
          "base_uri": "https://localhost:8080/",
          "height": 102
        },
        "outputId": "51ba4593-ac7d-4c00-c1be-52157ff1bf60"
      },
      "source": [
        "#Printing the regressor intercept and coefficients for our predictor variables.\n",
        "print(regressor.intercept_)\n",
        "print(regressor.coef_)"
      ],
      "execution_count": 15,
      "outputs": [
        {
          "output_type": "stream",
          "text": [
            "7755870.980742772\n",
            "[-3.95197052e+04  4.14227124e+04  1.11227497e+02 -6.81884445e-03\n",
            "  3.11370179e+04  5.44605342e+05  4.42799935e+04  1.89301428e+04\n",
            "  1.18935832e+05  4.87466456e+01  6.24808513e+01 -3.50240365e+03\n",
            "  2.25313593e+04 -1.71844306e+01  2.53855888e+01 -5.48154623e-01]\n"
          ],
          "name": "stdout"
        }
      ]
    },
    {
      "cell_type": "code",
      "metadata": {
        "id": "EiwUdHT-qREP",
        "colab_type": "code",
        "colab": {}
      },
      "source": [
        "#Predicting the prices using our using our test data\n",
        "y_predict = regressor.predict(X_test)"
      ],
      "execution_count": 16,
      "outputs": []
    },
    {
      "cell_type": "code",
      "metadata": {
        "id": "cn-k8gwkq2tq",
        "colab_type": "code",
        "colab": {
          "base_uri": "https://localhost:8080/",
          "height": 34
        },
        "outputId": "2fb7925a-2ca5-4ef6-b896-33988b19d292"
      },
      "source": [
        "#Calculating the root mean squared error in of our predicted value\n",
        "import numpy as np\n",
        "from sklearn import metrics\n",
        "\n",
        "print('Root Mean Squared Error:', np.sqrt(metrics.mean_squared_error(y_test, y_predict)))  "
      ],
      "execution_count": 17,
      "outputs": [
        {
          "output_type": "stream",
          "text": [
            "Root Mean Squared Error: 217057.24568469054\n"
          ],
          "name": "stdout"
        }
      ]
    },
    {
      "cell_type": "markdown",
      "metadata": {
        "id": "dLTl25MetNbO",
        "colab_type": "text"
      },
      "source": [
        "The RMSE of our linear regression model is **insane** therefore concurring with our earlier finding that it won't be a perfect fit for our data"
      ]
    },
    {
      "cell_type": "code",
      "metadata": {
        "id": "OFcqM6fcqm0C",
        "colab_type": "code",
        "colab": {
          "base_uri": "https://localhost:8080/",
          "height": 34
        },
        "outputId": "ea28cb19-8295-4305-a53f-bc158d3105ec"
      },
      "source": [
        "#Finding the mean bias of our model \n",
        "residuals = np.subtract(y_predict, y_test)\n",
        "pd.DataFrame(residuals).describe()\n",
        "\n",
        "residuals.mean()"
      ],
      "execution_count": 18,
      "outputs": [
        {
          "output_type": "execute_result",
          "data": {
            "text/plain": [
              "-6840.198258061635"
            ]
          },
          "metadata": {
            "tags": []
          },
          "execution_count": 18
        }
      ]
    },
    {
      "cell_type": "markdown",
      "metadata": {
        "id": "Fpx-dQ-Wtu_4",
        "colab_type": "text"
      },
      "source": [
        "The residuals is also so huge to work with as our model."
      ]
    },
    {
      "cell_type": "code",
      "metadata": {
        "id": "NvHoN3KPrZ5z",
        "colab_type": "code",
        "colab": {
          "base_uri": "https://localhost:8080/",
          "height": 290
        },
        "outputId": "ddbd49c8-f977-42aa-d338-da9f56d064a7"
      },
      "source": [
        "#Plotting the residuals for our linear regression model.\n",
        "import matplotlib.pyplot as plt\n",
        "\n",
        "plt.scatter(y_predict, residuals, color='black')\n",
        "plt.ylabel('residual')\n",
        "plt.xlabel('fitted values')\n",
        "plt.axhline(y = residuals.mean(), color='red', linewidth=1)\n",
        "plt.show()"
      ],
      "execution_count": null,
      "outputs": [
        {
          "output_type": "display_data",
          "data": {
            "image/png": "[encoded data removed]",
            "text/plain": [
              "<Figure size 432x288 with 1 Axes>"
            ]
          },
          "metadata": {
            "tags": [],
            "needs_background": "light"
          }
        }
      ]
    },
    {
      "cell_type": "markdown",
      "metadata": {
        "id": "KeoX8anwfV-L",
        "colab_type": "text"
      },
      "source": [
        "The residuals mean line cut across the residuals."
      ]
    },
    {
      "cell_type": "markdown",
      "metadata": {
        "id": "jJT_DXSUv-RO",
        "colab_type": "text"
      },
      "source": [
        "The Bartlett test of homogeinity of variances is a test which allows us to deterimine whether the variances of a continuous variable are equal across two or more groupings of the data by a categorical (independent variable).\n",
        "The bartlett test presumes that the distribution of the dependent variable is normal which our prices data assumed a normal distribution as shown in our data exploration therefore a Levene test won't be suitable. Therefore we will conduct a bartlett test."
      ]
    },
    {
      "cell_type": "code",
      "metadata": {
        "id": "zIEJvCm8rjvL",
        "colab_type": "code",
        "colab": {
          "base_uri": "https://localhost:8080/",
          "height": 51
        },
        "outputId": "fdce3df3-06b5-4eaa-f6dc-0a88fd65ff6f"
      },
      "source": [
        "#Calculating the bartlett test using the chi-sqaure disribution.\n",
        "import scipy as sp\n",
        "\n",
        "test_result, p_value = sp.stats.bartlett(y_predict, residuals)\n",
        "\n",
        "degree_of_freedom = len(y_predict)-1\n",
        "probability = 1 - p_value\n",
        "\n",
        "critical_value = sp.stats.chi2.ppf(probability, degree_of_freedom)\n",
        "print(critical_value)\n",
        "\n",
        "if (test_result > critical_value):\n",
        "  print('The variances are unequal, and the model should be reassessed')\n",
        "else:\n",
        "  print('The variances are homogeneous!')"
      ],
      "execution_count": null,
      "outputs": [
        {
          "output_type": "stream",
          "text": [
            "inf\n",
            "The variances are homogeneous!\n"
          ],
          "name": "stdout"
        }
      ]
    },
    {
      "cell_type": "markdown",
      "metadata": {
        "id": "YtpjhLCm3yfu",
        "colab_type": "text"
      },
      "source": [
        "The independent variables of the model were normally distributed.\n",
        "The variances of the error terms were similar across the values of the independent variables.\n",
        "The model had a linear relationship but had severe multicollinearity. This makes it biased and can't be used for our prediction.\n",
        "Therefore the multiple regression model is not suited for this task."
      ]
    },
    {
      "cell_type": "markdown",
      "metadata": {
        "id": "B08ueEY_yo3s",
        "colab_type": "text"
      },
      "source": [
        "# Quantile Regression"
      ]
    },
    {
      "cell_type": "markdown",
      "metadata": {
        "id": "DN_OL6SI6oFb",
        "colab_type": "text"
      },
      "source": [
        "This is a type of quantile regression which estimates the conditional median (or other quantiles) of the response variable.\n",
        "This an extension of the linear regression used when the conditions of the linear regression are not met such as the homoscedasticity. Our multiple regression met that assumption. One advantage of the quantile regression though is that its estimates are more robust against outliers in the response measurements. This might be particularly helpful in our research since we did not drop our outliers. Quantile regression takes the assumptions of the linear regression save for the homoscedasticity and since our model is heavily multi-collinear this model might not be a perfect fit for our data making it a limitation to work with."
      ]
    },
    {
      "cell_type": "code",
      "metadata": {
        "id": "q0lcg5Scrza6",
        "colab_type": "code",
        "colab": {}
      },
      "source": [
        "#defining the predictor variables and the target variable\n",
        "X = df.drop(['price'],axis=1).values\n",
        "y = df['price']"
      ],
      "execution_count": null,
      "outputs": []
    },
    {
      "cell_type": "code",
      "metadata": {
        "id": "UWhT_PAuNCip",
        "colab_type": "code",
        "colab": {
          "base_uri": "https://localhost:8080/",
          "height": 34
        },
        "outputId": "f26cbee9-2c2b-4e42-870d-ab17fb3c3cc7"
      },
      "source": [
        "#Finding the shape of the predictor variables\n",
        "X.shape"
      ],
      "execution_count": null,
      "outputs": [
        {
          "output_type": "execute_result",
          "data": {
            "text/plain": [
              "(21610, 17)"
            ]
          },
          "metadata": {
            "tags": []
          },
          "execution_count": 106
        }
      ]
    },
    {
      "cell_type": "code",
      "metadata": {
        "id": "HQLPxanMNo-o",
        "colab_type": "code",
        "colab": {}
      },
      "source": [
        "#Adding an extra array to our predictor variables to be able to perfrom a mathematical operation in the quantile regression\n",
        "#Defining the mean and standard deviation of our extra array to be a normal distribution of mean 0 and standard deviation\n",
        "#of 0.001 to reduce any manipulation of our data.\n",
        "mu ,sigma = 0, 0.001\n",
        "#Generating a normal random variables with the same shape as our dataset\n",
        "noise = np.random.normal(mu, sigma , [21610,17])"
      ],
      "execution_count": null,
      "outputs": []
    },
    {
      "cell_type": "code",
      "metadata": {
        "id": "U7MQhm3RLpQL",
        "colab_type": "code",
        "colab": {}
      },
      "source": [
        "#Adding the noise to our predictor variables\n",
        "X = X + noise"
      ],
      "execution_count": null,
      "outputs": []
    },
    {
      "cell_type": "code",
      "metadata": {
        "id": "o7Wzcmz496LP",
        "colab_type": "code",
        "colab": {
          "base_uri": "https://localhost:8080/",
          "height": 632
        },
        "outputId": "c328631b-26a4-49d7-ee93-355119853c52"
      },
      "source": [
        "#Performing a qauntile regression of the 50th percentile.\n",
        "import statsmodels.formula.api as smf \n",
        "mod =smf.quantreg('y ~ X',df)\n",
        "res = mod.fit(q=.5)\n",
        "\n",
        "print(res.summary())"
      ],
      "execution_count": null,
      "outputs": [
        {
          "output_type": "stream",
          "text": [
            "                         QuantReg Regression Results                          \n",
            "==============================================================================\n",
            "Dep. Variable:                      y   Pseudo R-squared:               0.4538\n",
            "Model:                       QuantReg   Bandwidth:                   2.034e+04\n",
            "Method:                 Least Squares   Sparsity:                    2.703e+05\n",
            "Date:                Thu, 30 Jul 2020   No. Observations:                21610\n",
            "Time:                        05:36:38   Df Residuals:                    21592\n",
            "                                        Df Model:                           17\n",
            "==============================================================================\n",
            "                 coef    std err          t      P>|t|      [0.025      0.975]\n",
            "------------------------------------------------------------------------------\n",
            "Intercept     -7.8168      0.804     -9.728      0.000      -9.392      -6.242\n",
            "X[0]       -1.923e+04   1241.723    -15.490      0.000   -2.17e+04   -1.68e+04\n",
            "X[1]        2.904e+04   1891.525     15.353      0.000    2.53e+04    3.27e+04\n",
            "X[2]        -572.6629   5328.002     -0.107      0.914    -1.1e+04    9870.615\n",
            "X[3]           0.2206      0.032      6.877      0.000       0.158       0.284\n",
            "X[4]        3.146e+04   2333.311     13.481      0.000    2.69e+04     3.6e+04\n",
            "X[5]        1648.2758   7189.671      0.229      0.819   -1.24e+04    1.57e+04\n",
            "X[6]        5.627e+04   1344.338     41.854      0.000    5.36e+04    5.89e+04\n",
            "X[7]        2.466e+04   1534.366     16.069      0.000    2.16e+04    2.77e+04\n",
            "X[8]        7.993e+04   1404.350     56.920      0.000    7.72e+04    8.27e+04\n",
            "X[9]         677.2343   5328.007      0.127      0.899   -9766.052    1.11e+04\n",
            "X[10]        677.2933   5327.972      0.127      0.899   -9765.926    1.11e+04\n",
            "X[11]      -2055.5236     43.983    -46.735      0.000   -2141.733   -1969.314\n",
            "X[12]       2278.0299   4288.633      0.531      0.595   -6128.008    1.07e+04\n",
            "X[13]         34.7171      0.872     39.827      0.000      33.009      36.426\n",
            "X[14]         39.8503      2.244     17.759      0.000      35.452      44.249\n",
            "X[15]         -0.2987      0.049     -6.093      0.000      -0.395      -0.203\n",
            "X[16]         11.4689      0.161     71.375      0.000      11.154      11.784\n",
            "==============================================================================\n",
            "\n",
            "The condition number is large, 2.18e+08. This might indicate that there are\n",
            "strong multicollinearity or other numerical problems.\n"
          ],
          "name": "stdout"
        },
        {
          "output_type": "stream",
          "text": [
            "/usr/local/lib/python3.6/dist-packages/statsmodels/regression/quantile_regression.py:192: IterationLimitWarning: Maximum number of iterations (1000) reached.\n",
            "  \") reached.\", IterationLimitWarning)\n"
          ],
          "name": "stderr"
        }
      ]
    },
    {
      "cell_type": "markdown",
      "metadata": {
        "id": "_O5aI4aFfPfQ",
        "colab_type": "text"
      },
      "source": [
        "A rule of thumb indicates that a pseudo r-squared of 0.2-0.4 indicates an excellent model fit. Our model has a pseudo r-squared of 0.4538 meaning its at par. The model also says that the sqft_living, waterfront, sqft_above and renovated columns are statistically insignificant since they crossed the 0.05 p-value mark. This model however cannot be trusted since it had serious multi-collinearity issues. And thus cannot trust the p-values as well."
      ]
    },
    {
      "cell_type": "markdown",
      "metadata": {
        "id": "LGaG1uB9w1Pt",
        "colab_type": "text"
      },
      "source": [
        "# Ridge Regression"
      ]
    },
    {
      "cell_type": "markdown",
      "metadata": {
        "id": "VsFFSvWG2mO8",
        "colab_type": "text"
      },
      "source": [
        "This is a technique for multiple regression data that suffer from multi-collinearity. It is an extension of linear regression and a regularization method which tries to avoid overfitting of data by penalizing large coefficients. This penalty factor penalizes high value of the tuning parameter called lambda which in turn shrinks the constants of the coefficients thereby reducing the mean squared error. The penalty parameter is only applied to the constants of the coefficients but not to the intercept since it is simply the mean value of the response variable. The penalty variable varies from 0 to infinity. We shall only select the lambda value such that it minimizes the mean sqaured error. We shall do cross validation to select lambda through a grid of values then compute cross validation error of each of that lambda value. We shall then finally select that value of lambda which gives the smallest cross validation predicted error. \n",
        "The higher the value of lambda the greater will be the shrinkage of the constant co-efficients and this in turn makes the co-efficients more robust to multi-collinearity. \n",
        "Ridge regression enforces the constants to converge to 0 but does not make their value 0. This means it will only reduce the impact of these variables on the model. The regression might make a good model of our data since it deals with multi-collinearity."
      ]
    },
    {
      "cell_type": "markdown",
      "metadata": {
        "id": "RrsKVFEmM79Y",
        "colab_type": "text"
      },
      "source": [
        "Baseline Model for the Ridge Regression."
      ]
    },
    {
      "cell_type": "code",
      "metadata": {
        "id": "Tw1N_toZ7MdN",
        "colab_type": "code",
        "colab": {}
      },
      "source": [
        "#I defined the predictor and target variables as X and y respectively\n",
        "X = df.drop(['price'],axis=1)\n",
        "y = df['price']"
      ],
      "execution_count": 19,
      "outputs": []
    },
    {
      "cell_type": "code",
      "metadata": {
        "id": "2-GEhHcbMWCb",
        "colab_type": "code",
        "colab": {
          "base_uri": "https://localhost:8080/",
          "height": 51
        },
        "outputId": "4d523c3e-d65b-4f93-963b-febcb777460b"
      },
      "source": [
        "#Fitting the X and y variables in a ridge regression.\n",
        "from sklearn.linear_model import Ridge\n",
        "\n",
        "ridge = Ridge(normalize=True)\n",
        "ridge.fit(X,y)"
      ],
      "execution_count": 20,
      "outputs": [
        {
          "output_type": "execute_result",
          "data": {
            "text/plain": [
              "Ridge(alpha=1.0, copy_X=True, fit_intercept=True, max_iter=None, normalize=True,\n",
              "      random_state=None, solver='auto', tol=0.001)"
            ]
          },
          "metadata": {
            "tags": []
          },
          "execution_count": 20
        }
      ]
    },
    {
      "cell_type": "code",
      "metadata": {
        "id": "amlv9ZWkMtWI",
        "colab_type": "code",
        "colab": {
          "base_uri": "https://localhost:8080/",
          "height": 34
        },
        "outputId": "4c963d45-2df0-48ca-af4d-4c8fe82ac37d"
      },
      "source": [
        "#Getting the mean sqaured error of the baseline model\n",
        "from sklearn.metrics import mean_squared_error\n",
        "baseline_model = (np.sqrt(mean_squared_error(y_true = y, y_pred = ridge.predict(X))))\n",
        "baseline_model"
      ],
      "execution_count": 22,
      "outputs": [
        {
          "output_type": "execute_result",
          "data": {
            "text/plain": [
              "236759.66143448788"
            ]
          },
          "metadata": {
            "tags": []
          },
          "execution_count": 22
        }
      ]
    },
    {
      "cell_type": "markdown",
      "metadata": {
        "id": "RtZJ9UbBNMRB",
        "colab_type": "text"
      },
      "source": [
        "Hyperparameter tuning."
      ]
    },
    {
      "cell_type": "code",
      "metadata": {
        "id": "ycmB2pnMcwAs",
        "colab_type": "code",
        "colab": {}
      },
      "source": [
        "from sklearn.model_selection import train_test_split\n",
        "\n",
        "X_train,X_test,y_train,y_test = train_test_split(X,y,test_size=0.25,random_state=101)"
      ],
      "execution_count": 23,
      "outputs": []
    },
    {
      "cell_type": "code",
      "metadata": {
        "id": "cFLn6edKNjKF",
        "colab_type": "code",
        "colab": {}
      },
      "source": [
        "#Standardizing our predictor variables\n",
        "from sklearn.preprocessing import StandardScaler\n",
        "scaler = StandardScaler()\n",
        "scaler.fit(X_train)\n",
        "X = scaler.transform(X_train)"
      ],
      "execution_count": 24,
      "outputs": []
    },
    {
      "cell_type": "code",
      "metadata": {
        "id": "sbEHlk7ivoR1",
        "colab_type": "code",
        "colab": {}
      },
      "source": [
        "#I defined the lambda variable as alpha adn grid searched between the -5 and 2 values and used the mean sqaured error\n",
        "#as the value to look at.\n",
        "from sklearn.linear_model import Ridge\n",
        "from sklearn.model_selection import GridSearchCV\n",
        "\n",
        "ridge = Ridge(normalize=True)\n",
        "search = GridSearchCV(estimator=ridge,param_grid = {'alpha':np.logspace(-5,2,8)},scoring='neg_mean_squared_error',n_jobs=1,refit=True,cv=10)"
      ],
      "execution_count": 25,
      "outputs": []
    },
    {
      "cell_type": "code",
      "metadata": {
        "id": "u1gQCLbt6dlR",
        "colab_type": "code",
        "colab": {
          "base_uri": "https://localhost:8080/",
          "height": 153
        },
        "outputId": "ba5c4cb6-efc9-4eea-e13e-c5d4c380c6e5"
      },
      "source": [
        "#Fitted our variables in the model.\n",
        "search.fit(X_train,y_train)"
      ],
      "execution_count": 26,
      "outputs": [
        {
          "output_type": "execute_result",
          "data": {
            "text/plain": [
              "GridSearchCV(cv=10, error_score=nan,\n",
              "             estimator=Ridge(alpha=1.0, copy_X=True, fit_intercept=True,\n",
              "                             max_iter=None, normalize=True, random_state=None,\n",
              "                             solver='auto', tol=0.001),\n",
              "             iid='deprecated', n_jobs=1,\n",
              "             param_grid={'alpha': array([1.e-05, 1.e-04, 1.e-03, 1.e-02, 1.e-01, 1.e+00, 1.e+01, 1.e+02])},\n",
              "             pre_dispatch='2*n_jobs', refit=True, return_train_score=False,\n",
              "             scoring='neg_mean_squared_error', verbose=0)"
            ]
          },
          "metadata": {
            "tags": []
          },
          "execution_count": 26
        }
      ]
    },
    {
      "cell_type": "code",
      "metadata": {
        "id": "GSqAAgue7VgR",
        "colab_type": "code",
        "colab": {
          "base_uri": "https://localhost:8080/",
          "height": 34
        },
        "outputId": "9a6bea47-33d0-4b0a-dda0-ce1dc6530ac9"
      },
      "source": [
        "#Searched for the best lamda score defined as alpha\n",
        "search.best_params_\n",
        "#I found the best scoring alpha value at 0.001"
      ],
      "execution_count": 27,
      "outputs": [
        {
          "output_type": "execute_result",
          "data": {
            "text/plain": [
              "{'alpha': 0.001}"
            ]
          },
          "metadata": {
            "tags": []
          },
          "execution_count": 27
        }
      ]
    },
    {
      "cell_type": "code",
      "metadata": {
        "id": "UYEEbi_87y0J",
        "colab_type": "code",
        "colab": {
          "base_uri": "https://localhost:8080/",
          "height": 51
        },
        "outputId": "bfc5fd70-d7f5-421c-cfcb-2ce829f750f6"
      },
      "source": [
        "#I created a second model with the alpha value at 0.01 to find the best score\n",
        "ridge = Ridge(normalize=True,alpha=0.001)\n",
        "ridge.fit(X_train,y_train)"
      ],
      "execution_count": 28,
      "outputs": [
        {
          "output_type": "execute_result",
          "data": {
            "text/plain": [
              "Ridge(alpha=0.001, copy_X=True, fit_intercept=True, max_iter=None,\n",
              "      normalize=True, random_state=None, solver='auto', tol=0.001)"
            ]
          },
          "metadata": {
            "tags": []
          },
          "execution_count": 28
        }
      ]
    },
    {
      "cell_type": "code",
      "metadata": {
        "id": "D2-3zeet8G8_",
        "colab_type": "code",
        "colab": {
          "base_uri": "https://localhost:8080/",
          "height": 34
        },
        "outputId": "d7fafd68-9d2b-4f3e-b59b-3b6083e9cf54"
      },
      "source": [
        "#Finding the mean squared error of the ridge model\n",
        "from sklearn.metrics import mean_squared_error\n",
        "second_model = (np.sqrt(mean_squared_error(y_true = y_test, y_pred = ridge.predict(X_test))))\n",
        "print(\"The RMSE of the ridge model is: \",second_model)"
      ],
      "execution_count": 29,
      "outputs": [
        {
          "output_type": "stream",
          "text": [
            "The RMSE of the ridge model is:  214547.7852723966\n"
          ],
          "name": "stdout"
        }
      ]
    },
    {
      "cell_type": "markdown",
      "metadata": {
        "id": "uYitS497PKCL",
        "colab_type": "text"
      },
      "source": [
        "The mean squared error of the model is also huge posing challenges as well to work with as our model."
      ]
    },
    {
      "cell_type": "code",
      "metadata": {
        "id": "mH3wQaVaPAMz",
        "colab_type": "code",
        "colab": {
          "base_uri": "https://localhost:8080/",
          "height": 34
        },
        "outputId": "9f30a63f-1f73-430b-a450-703bb66b8cf4"
      },
      "source": [
        "#Finding out the score of the ridge regression model\n",
        "ridge.score(X_test,y_test) \n",
        "#The lasso model had an r squared score of 66%"
      ],
      "execution_count": 30,
      "outputs": [
        {
          "output_type": "execute_result",
          "data": {
            "text/plain": [
              "0.6615187003535015"
            ]
          },
          "metadata": {
            "tags": []
          },
          "execution_count": 30
        }
      ]
    },
    {
      "cell_type": "markdown",
      "metadata": {
        "id": "qEbUqe8XBIIi",
        "colab_type": "text"
      },
      "source": [
        "Our ridge regression model had an r squared score of 66%."
      ]
    },
    {
      "cell_type": "code",
      "metadata": {
        "id": "cYO0jMAR8WHh",
        "colab_type": "code",
        "colab": {
          "base_uri": "https://localhost:8080/",
          "height": 289
        },
        "outputId": "8e04425f-0a9b-4fbc-eb72-18edf0941f61"
      },
      "source": [
        "#Printing out the variable coefficients of the ridge model.\n",
        "coef_dict_baseline = {}\n",
        "for coef,feat in zip(ridge.coef_,X.columns):\n",
        "  coef_dict_baseline[feat] = coef \n",
        "coef_dict_baseline  "
      ],
      "execution_count": null,
      "outputs": [
        {
          "output_type": "execute_result",
          "data": {
            "text/plain": [
              "{'bathrooms': 42241.28985654531,\n",
              " 'bedrooms': -40162.30129621821,\n",
              " 'condition': 17810.62492187686,\n",
              " 'floors': 30045.946979064138,\n",
              " 'grade': 119443.0862749503,\n",
              " 'renovated': 15484.841237963808,\n",
              " 'sqft_above': 78.50442260820313,\n",
              " 'sqft_basement': 90.49708870616406,\n",
              " 'sqft_living': 84.91669717303874,\n",
              " 'sqft_living15': 21.321565019679486,\n",
              " 'sqft_lot': -0.0020697229385314396,\n",
              " 'sqft_lot15': -0.542500925520877,\n",
              " 'view': 44904.860467726045,\n",
              " 'waterfront': 519817.25505477976,\n",
              " 'yr_built': -3538.5125850036006,\n",
              " 'zipcode': -44.867257484325684}"
            ]
          },
          "metadata": {
            "tags": []
          },
          "execution_count": 111
        }
      ]
    },
    {
      "cell_type": "markdown",
      "metadata": {
        "id": "ktyPDxkbBUCy",
        "colab_type": "text"
      },
      "source": [
        "Though the ridge regression had high mean sqaured errors it did a good job in penalizing the constants coefficients in comparison to the mutliple and quantile regressions. This has reduced overfitting of the prediction model. Though a limiting factor of the ridge regression is that it includes all the predictors in the final model. It does not perform feature selection unlike its Lasso counterpart."
      ]
    },
    {
      "cell_type": "markdown",
      "metadata": {
        "id": "RZGG037WCI9t",
        "colab_type": "text"
      },
      "source": [
        "# Lasso Regression"
      ]
    },
    {
      "cell_type": "markdown",
      "metadata": {
        "id": "7KUTvUPOVcQQ",
        "colab_type": "text"
      },
      "source": [
        "This a type of linear regression that uses shrinkage. Shrinkage is where data values are shrunk towards a central point like the mean. This particular type of regression is well suited for models showing high levels of multi-collinearity. Lasso performs L1 regularization which adds a penalty equal to the absolute value of the magnitude of the coefficients. Some coefficients can become 0 and be eliminated from the model. Larger penalties result in coefficients values closer to zero which is the ideal for producing simpler models. A tuning parameter lambda controls the strength of the L1 penalty. Though as lambda increases bias increases and as lambda decreases variance increases. Lasso might work well for our data which has high multi-collinearity and might help in feature selection and know which variables to drop for our model."
      ]
    },
    {
      "cell_type": "markdown",
      "metadata": {
        "id": "CCNoUnbsIl9e",
        "colab_type": "text"
      },
      "source": [
        "Baseline Model for the Lasso Regression Model."
      ]
    },
    {
      "cell_type": "code",
      "metadata": {
        "id": "dFhHZXpj8_q1",
        "colab_type": "code",
        "colab": {}
      },
      "source": [
        "#Defining the predictor variables and the target variable.\n",
        "X = df.drop(['price'],axis=1)\n",
        "y = df['price']"
      ],
      "execution_count": 62,
      "outputs": []
    },
    {
      "cell_type": "code",
      "metadata": {
        "id": "edX-i7zhXgUc",
        "colab_type": "code",
        "colab": {}
      },
      "source": [
        "#Impoerting the Lasso regression which is an extension of the linear model\n",
        "from sklearn import linear_model\n",
        "from sklearn.metrics import mean_squared_error\n",
        "\n",
        "lasso = linear_model.Lasso()"
      ],
      "execution_count": 63,
      "outputs": []
    },
    {
      "cell_type": "code",
      "metadata": {
        "id": "_rDVl2nrX9zZ",
        "colab_type": "code",
        "colab": {
          "base_uri": "https://localhost:8080/",
          "height": 68
        },
        "outputId": "0d7da7f0-3eb4-4da6-b807-86497bb51173"
      },
      "source": [
        "#Fitting our data in a lasso regression\n",
        "lasso.fit(X,y)"
      ],
      "execution_count": 64,
      "outputs": [
        {
          "output_type": "execute_result",
          "data": {
            "text/plain": [
              "Lasso(alpha=1.0, copy_X=True, fit_intercept=True, max_iter=1000,\n",
              "      normalize=False, positive=False, precompute=False, random_state=None,\n",
              "      selection='cyclic', tol=0.0001, warm_start=False)"
            ]
          },
          "metadata": {
            "tags": []
          },
          "execution_count": 64
        }
      ]
    },
    {
      "cell_type": "code",
      "metadata": {
        "id": "RHvTr7-vYAcE",
        "colab_type": "code",
        "colab": {
          "base_uri": "https://localhost:8080/",
          "height": 34
        },
        "outputId": "a377e563-7f14-4339-bc20-63bafb0e4cb9"
      },
      "source": [
        "#Calculating the mean squared error\n",
        "from sklearn.metrics import mean_squared_error\n",
        "\n",
        "print('lasso RMSE: ', np.sqrt(mean_squared_error(y, lasso.predict(X))))"
      ],
      "execution_count": 65,
      "outputs": [
        {
          "output_type": "stream",
          "text": [
            "lasso RMSE:  216155.0120489682\n"
          ],
          "name": "stdout"
        }
      ]
    },
    {
      "cell_type": "markdown",
      "metadata": {
        "id": "TQ7BeCe0OslW",
        "colab_type": "text"
      },
      "source": [
        "The MSE of the Lasso baseline model is also huge. I'll work with hyperparameters to see whether anything will change."
      ]
    },
    {
      "cell_type": "markdown",
      "metadata": {
        "id": "sl-mPEJoZdrB",
        "colab_type": "text"
      },
      "source": [
        "**Hyperparameter tuning**"
      ]
    },
    {
      "cell_type": "code",
      "metadata": {
        "id": "Wx8kXk4SYhGV",
        "colab_type": "code",
        "colab": {}
      },
      "source": [
        "#Importing the necessary data for tuning our data\n",
        "from sklearn.model_selection import train_test_split\n",
        "from sklearn.model_selection import GridSearchCV\n",
        "import warnings\n",
        "warnings.filterwarnings('ignore')"
      ],
      "execution_count": 35,
      "outputs": []
    },
    {
      "cell_type": "code",
      "metadata": {
        "id": "YlhpSPeqQy1i",
        "colab_type": "code",
        "colab": {}
      },
      "source": [
        "#I defined the predictor and target variables as X and y respectively\n",
        "X = df.drop(['price'],axis=1)\n",
        "y = df['price']"
      ],
      "execution_count": 36,
      "outputs": []
    },
    {
      "cell_type": "code",
      "metadata": {
        "id": "BLGTz7nNRECy",
        "colab_type": "code",
        "colab": {}
      },
      "source": [
        "from sklearn.model_selection import train_test_split\n",
        "\n",
        "X_train,X_test,y_train,y_test = train_test_split(X,y,test_size=0.25,random_state=101)"
      ],
      "execution_count": 37,
      "outputs": []
    },
    {
      "cell_type": "code",
      "metadata": {
        "id": "3A0If8U9QTGV",
        "colab_type": "code",
        "colab": {}
      },
      "source": [
        "#Standardizing our predictor variables\n",
        "from sklearn.preprocessing import StandardScaler\n",
        "scaler = StandardScaler()\n",
        "scaler.fit(X_train)\n",
        "X = scaler.transform(X_train)"
      ],
      "execution_count": 38,
      "outputs": []
    },
    {
      "cell_type": "code",
      "metadata": {
        "id": "kh5rCsEWZGfe",
        "colab_type": "code",
        "colab": {}
      },
      "source": [
        "#defining the alpha parameters\n",
        "parameters = {'alpha':np.concatenate((np.arange(0.1,2,0.1),np.arange(2,5,0.5),np.arange(5,30,1)))}"
      ],
      "execution_count": 41,
      "outputs": []
    },
    {
      "cell_type": "code",
      "metadata": {
        "id": "ZLQr1Uq6ZpDX",
        "colab_type": "code",
        "colab": {}
      },
      "source": [
        "#Grid Searching for the best parameters\n",
        "lasso = linear_model.Lasso()\n",
        "gridlasso = GridSearchCV(lasso,parameters,scoring='r2',n_jobs=1,refit=True,cv=30)\n",
        "#I cross validated with 30 models"
      ],
      "execution_count": 42,
      "outputs": []
    },
    {
      "cell_type": "code",
      "metadata": {
        "id": "j3UgxW7QZ2fZ",
        "colab_type": "code",
        "colab": {
          "base_uri": "https://localhost:8080/",
          "height": 238
        },
        "outputId": "1601b120-4199-49da-bd9b-a1cbc681a458"
      },
      "source": [
        "#Fitting the hyperparameters on a lasso model\n",
        "gridlasso.fit(X_train,y_train)"
      ],
      "execution_count": 43,
      "outputs": [
        {
          "output_type": "execute_result",
          "data": {
            "text/plain": [
              "GridSearchCV(cv=30, error_score=nan,\n",
              "             estimator=Lasso(alpha=1.0, copy_X=True, fit_intercept=True,\n",
              "                             max_iter=1000, normalize=False, positive=False,\n",
              "                             precompute=False, random_state=None,\n",
              "                             selection='cyclic', tol=0.0001, warm_start=False),\n",
              "             iid='deprecated', n_jobs=1,\n",
              "             param_grid={'alpha': array([ 0.1,  0.2,  0.3,  0.4,  0.5,  0.6,  0.7,  0.8,  0.9,  1. ,  1.1,\n",
              "        1.2,  1.3,  1.4,  1.5,  1.6,  1.7,  1.8,  1.9,  2. ,  2.5,  3. ,\n",
              "        3.5,  4. ,  4.5,  5. ,  6. ,  7. ,  8. ,  9. , 10. , 11. , 12. ,\n",
              "       13. , 14. , 15. , 16. , 17. , 18. , 19. , 20. , 21. , 22. , 23. ,\n",
              "       24. , 25. , 26. , 27. , 28. , 29. ])},\n",
              "             pre_dispatch='2*n_jobs', refit=True, return_train_score=False,\n",
              "             scoring='r2', verbose=0)"
            ]
          },
          "metadata": {
            "tags": []
          },
          "execution_count": 43
        }
      ]
    },
    {
      "cell_type": "code",
      "metadata": {
        "id": "U7ihkcCOaPfr",
        "colab_type": "code",
        "colab": {
          "base_uri": "https://localhost:8080/",
          "height": 34
        },
        "outputId": "6ad1ee8d-f748-476d-fcab-022b25faaa7e"
      },
      "source": [
        "#Printing out the best hyperparameters\n",
        "print('lasso best parameters: ',gridlasso.best_params_)"
      ],
      "execution_count": 44,
      "outputs": [
        {
          "output_type": "stream",
          "text": [
            "lasso best parameters:  {'alpha': 29.0}\n"
          ],
          "name": "stdout"
        }
      ]
    },
    {
      "cell_type": "markdown",
      "metadata": {
        "id": "ftEoMY6TRq5J",
        "colab_type": "text"
      },
      "source": [
        "The alpha parameters that worked for our model was 29"
      ]
    },
    {
      "cell_type": "code",
      "metadata": {
        "id": "FpUzKmWEBl4z",
        "colab_type": "code",
        "colab": {
          "base_uri": "https://localhost:8080/",
          "height": 68
        },
        "outputId": "d669d5ad-5e31-452d-ba4a-3c420b76221b"
      },
      "source": [
        "#Fitting the hyperparameters on a lasso regression model\n",
        "lasso = linear_model.Lasso(normalize=True,alpha=29.0)\n",
        "lasso.fit(X_train,y_train)"
      ],
      "execution_count": 45,
      "outputs": [
        {
          "output_type": "execute_result",
          "data": {
            "text/plain": [
              "Lasso(alpha=29.0, copy_X=True, fit_intercept=True, max_iter=1000,\n",
              "      normalize=True, positive=False, precompute=False, random_state=None,\n",
              "      selection='cyclic', tol=0.0001, warm_start=False)"
            ]
          },
          "metadata": {
            "tags": []
          },
          "execution_count": 45
        }
      ]
    },
    {
      "cell_type": "code",
      "metadata": {
        "id": "CTYHR8hbQNi4",
        "colab_type": "code",
        "colab": {
          "base_uri": "https://localhost:8080/",
          "height": 34
        },
        "outputId": "7b699128-dd79-4681-c5aa-6f1073452417"
      },
      "source": [
        "#Printing out the MSE for the lasso model\n",
        "print('lasso RMSE: ',np.sqrt(mean_squared_error(y_test,gridlasso.predict(X_test))))"
      ],
      "execution_count": 47,
      "outputs": [
        {
          "output_type": "stream",
          "text": [
            "lasso RMSE:  214578.1960910165\n"
          ],
          "name": "stdout"
        }
      ]
    },
    {
      "cell_type": "code",
      "metadata": {
        "id": "GvieRaMjae_K",
        "colab_type": "code",
        "colab": {
          "base_uri": "https://localhost:8080/",
          "height": 34
        },
        "outputId": "fc15e48a-089c-4cd3-81bb-f8d706b1e501"
      },
      "source": [
        "#Finding out the score of the lasso regression model\n",
        "lasso.score(X_test,y_test) \n",
        "#The lasso model had an r sqaure score of 65%."
      ],
      "execution_count": 48,
      "outputs": [
        {
          "output_type": "execute_result",
          "data": {
            "text/plain": [
              "0.6591647333376167"
            ]
          },
          "metadata": {
            "tags": []
          },
          "execution_count": 48
        }
      ]
    },
    {
      "cell_type": "markdown",
      "metadata": {
        "id": "uBjwXnOCfDkG",
        "colab_type": "text"
      },
      "source": [
        "Our LASSO model fitted 65% of the data."
      ]
    },
    {
      "cell_type": "code",
      "metadata": {
        "id": "b3kZettxanZ0",
        "colab_type": "code",
        "colab": {
          "base_uri": "https://localhost:8080/",
          "height": 289
        },
        "outputId": "8a777bd4-1cb1-451d-f2c2-55017a698a42"
      },
      "source": [
        "#Printing out the columns and the respective coefficients.\n",
        "coef_dict_baseline = {}\n",
        "for coef,feat in zip(lasso.coef_,X.columns):\n",
        "  coef_dict_baseline[feat] = coef\n",
        "coef_dict_baseline "
      ],
      "execution_count": null,
      "outputs": [
        {
          "output_type": "execute_result",
          "data": {
            "text/plain": [
              "{'bathrooms': 29410.075652122898,\n",
              " 'bedrooms': -22335.63380868666,\n",
              " 'condition': 8519.373786954126,\n",
              " 'floors': 10821.843729395234,\n",
              " 'grade': 119070.0441933784,\n",
              " 'renovated': 1483.9740387809,\n",
              " 'sqft_above': 0.0,\n",
              " 'sqft_basement': 0.0,\n",
              " 'sqft_living': 161.09563695952852,\n",
              " 'sqft_living15': 10.827799264565623,\n",
              " 'sqft_lot': -0.0,\n",
              " 'sqft_lot15': -0.2686261232999802,\n",
              " 'view': 46238.224728976995,\n",
              " 'waterfront': 479273.05227301165,\n",
              " 'yr_built': -3091.329790572391,\n",
              " 'zipcode': 0.0}"
            ]
          },
          "metadata": {
            "tags": []
          },
          "execution_count": 90
        }
      ]
    },
    {
      "cell_type": "markdown",
      "metadata": {
        "id": "c7twRFquPnrL",
        "colab_type": "text"
      },
      "source": [
        "The Lasso regression is advantageous since it does feature selection.In our data the sqft_above, sqft_basement, sqft_lot, zipcode were reducted out of our model. Lasso does shrinkage and variable selection of the pairwise correlations simultaneously for better prediction and model interpretation. Though Lasso only selects at most n variables before it saturates. It does not do group selection."
      ]
    },
    {
      "cell_type": "markdown",
      "metadata": {
        "id": "k4FK9lRP8sMr",
        "colab_type": "text"
      },
      "source": [
        "# Elastic Net Regression"
      ]
    },
    {
      "cell_type": "markdown",
      "metadata": {
        "id": "sYRJWxYvWiik",
        "colab_type": "text"
      },
      "source": [
        "The elastic net is a regularized regression that linearly combines the Ridge regression and LASSO penalties. It overcomes the limitations of the LASSO method which reduces the co-efficients of the constants to zero. The elastic net adds a quadratic part to the penalty. The quadratic term makes the loss function strongly convex and it therefore has a unique minimum."
      ]
    },
    {
      "cell_type": "markdown",
      "metadata": {
        "id": "ZZHKNGi8XR1N",
        "colab_type": "text"
      },
      "source": [
        "Baseline model of the Elastic Net Regression."
      ]
    },
    {
      "cell_type": "code",
      "metadata": {
        "id": "NRCDR-cG_le2",
        "colab_type": "code",
        "colab": {}
      },
      "source": [
        "#Dividing the the predictor variables and target variable.\n",
        "X = df.drop(['price'],axis=1)\n",
        "y = df['price']"
      ],
      "execution_count": 49,
      "outputs": []
    },
    {
      "cell_type": "code",
      "metadata": {
        "id": "G6OMZhAzYtb7",
        "colab_type": "code",
        "colab": {
          "base_uri": "https://localhost:8080/",
          "height": 68
        },
        "outputId": "4eca2638-8ef8-4bfa-c9b3-c591ffad57a8"
      },
      "source": [
        "#Fitting our predictor variables in an ElasticNet regression\n",
        "from sklearn.linear_model import ElasticNet\n",
        "\n",
        "elastic = ElasticNet(normalize=True)\n",
        "elastic.fit(X,y)"
      ],
      "execution_count": 50,
      "outputs": [
        {
          "output_type": "execute_result",
          "data": {
            "text/plain": [
              "ElasticNet(alpha=1.0, copy_X=True, fit_intercept=True, l1_ratio=0.5,\n",
              "           max_iter=1000, normalize=True, positive=False, precompute=False,\n",
              "           random_state=None, selection='cyclic', tol=0.0001, warm_start=False)"
            ]
          },
          "metadata": {
            "tags": []
          },
          "execution_count": 50
        }
      ]
    },
    {
      "cell_type": "code",
      "metadata": {
        "id": "Z4y4DAafY-sc",
        "colab_type": "code",
        "colab": {
          "base_uri": "https://localhost:8080/",
          "height": 34
        },
        "outputId": "86f8d566-9275-4c3c-c05b-acf388eb3aef"
      },
      "source": [
        "#Finding the MSE Score of the elastic net regression\n",
        "print('Elastic Net MSE:' ,np.sqrt(mean_squared_error(y_true = y,y_pred=elastic.predict(X))))"
      ],
      "execution_count": 51,
      "outputs": [
        {
          "output_type": "stream",
          "text": [
            "Elastic Net MSE: 367295.6510603655\n"
          ],
          "name": "stdout"
        }
      ]
    },
    {
      "cell_type": "markdown",
      "metadata": {
        "id": "L5SyE0l6e7wo",
        "colab_type": "text"
      },
      "source": [
        "Our Elastic Net RMSE is way too high."
      ]
    },
    {
      "cell_type": "markdown",
      "metadata": {
        "id": "tdk7HhiRZxpt",
        "colab_type": "text"
      },
      "source": [
        "**Hyper parameter tuning**"
      ]
    },
    {
      "cell_type": "code",
      "metadata": {
        "id": "pWWQ2ky5ZRbs",
        "colab_type": "code",
        "colab": {}
      },
      "source": [
        "#Splitting our data into a train and test model\n",
        "from sklearn.model_selection import train_test_split\n",
        "\n",
        "X_train,X_test,y_train,y_test = train_test_split(X,y,test_size=0.25,random_state=101)"
      ],
      "execution_count": 52,
      "outputs": []
    },
    {
      "cell_type": "code",
      "metadata": {
        "id": "HSazqIxqZtFZ",
        "colab_type": "code",
        "colab": {}
      },
      "source": [
        "#Standardizing our predictor variables\n",
        "from sklearn.preprocessing import StandardScaler\n",
        "scaler = StandardScaler()\n",
        "scaler.fit(X_train)\n",
        "X = scaler.transform(X_train)"
      ],
      "execution_count": 53,
      "outputs": []
    },
    {
      "cell_type": "code",
      "metadata": {
        "id": "l5DyVoCoazLH",
        "colab_type": "code",
        "colab": {}
      },
      "source": [
        "#Searching for the best parameters for both parameters\n",
        "from sklearn.linear_model import ElasticNet\n",
        "\n",
        "elastic = ElasticNet(normalize=True)\n",
        "search = GridSearchCV(estimator=elastic,param_grid={'alpha':np.logspace(-5,2,8),'l1_ratio':[0.2,0.4,0.6,0.8]},scoring='neg_mean_squared_error',n_jobs=1,refit=True,cv=10)"
      ],
      "execution_count": 54,
      "outputs": []
    },
    {
      "cell_type": "code",
      "metadata": {
        "id": "NBtIIo2n9Vup",
        "colab_type": "code",
        "colab": {
          "base_uri": "https://localhost:8080/",
          "height": 204
        },
        "outputId": "e52ae091-ab81-4bea-f87c-d1a061557b03"
      },
      "source": [
        "#Fitting the data into our grid\n",
        "search.fit(X_train,y_train)"
      ],
      "execution_count": 55,
      "outputs": [
        {
          "output_type": "execute_result",
          "data": {
            "text/plain": [
              "GridSearchCV(cv=10, error_score=nan,\n",
              "             estimator=ElasticNet(alpha=1.0, copy_X=True, fit_intercept=True,\n",
              "                                  l1_ratio=0.5, max_iter=1000, normalize=True,\n",
              "                                  positive=False, precompute=False,\n",
              "                                  random_state=None, selection='cyclic',\n",
              "                                  tol=0.0001, warm_start=False),\n",
              "             iid='deprecated', n_jobs=1,\n",
              "             param_grid={'alpha': array([1.e-05, 1.e-04, 1.e-03, 1.e-02, 1.e-01, 1.e+00, 1.e+01, 1.e+02]),\n",
              "                         'l1_ratio': [0.2, 0.4, 0.6, 0.8]},\n",
              "             pre_dispatch='2*n_jobs', refit=True, return_train_score=False,\n",
              "             scoring='neg_mean_squared_error', verbose=0)"
            ]
          },
          "metadata": {
            "tags": []
          },
          "execution_count": 55
        }
      ]
    },
    {
      "cell_type": "code",
      "metadata": {
        "id": "q-Vj-4c2-Xh7",
        "colab_type": "code",
        "colab": {
          "base_uri": "https://localhost:8080/",
          "height": 34
        },
        "outputId": "058e775f-6fd6-4fa1-81f3-d9bcec32acac"
      },
      "source": [
        "#Getting the best parameters for our model\n",
        "search.best_params_"
      ],
      "execution_count": 56,
      "outputs": [
        {
          "output_type": "execute_result",
          "data": {
            "text/plain": [
              "{'alpha': 1e-05, 'l1_ratio': 0.8}"
            ]
          },
          "metadata": {
            "tags": []
          },
          "execution_count": 56
        }
      ]
    },
    {
      "cell_type": "code",
      "metadata": {
        "id": "GTcxSJix-dzu",
        "colab_type": "code",
        "colab": {
          "base_uri": "https://localhost:8080/",
          "height": 68
        },
        "outputId": "86c4e4ca-b6a0-4829-f331-fd77eef38ad1"
      },
      "source": [
        "#Fitting the best parameters to our model\n",
        "elastic = ElasticNet(normalize=True,alpha=0.0001,l1_ratio=0.8)\n",
        "elastic.fit(X_train,y_train)"
      ],
      "execution_count": 57,
      "outputs": [
        {
          "output_type": "execute_result",
          "data": {
            "text/plain": [
              "ElasticNet(alpha=0.0001, copy_X=True, fit_intercept=True, l1_ratio=0.8,\n",
              "           max_iter=1000, normalize=True, positive=False, precompute=False,\n",
              "           random_state=None, selection='cyclic', tol=0.0001, warm_start=False)"
            ]
          },
          "metadata": {
            "tags": []
          },
          "execution_count": 57
        }
      ]
    },
    {
      "cell_type": "code",
      "metadata": {
        "id": "DtCjwMos-_Wo",
        "colab_type": "code",
        "colab": {
          "base_uri": "https://localhost:8080/",
          "height": 34
        },
        "outputId": "dd8107ee-149e-4626-a1c2-49183c675850"
      },
      "source": [
        "#Printing out the MSE score of our tuned model\n",
        "print('Elastic Net RMSE:' ,np.sqrt(mean_squared_error(y_true = y_test,y_pred=elastic.predict(X_test))))"
      ],
      "execution_count": 60,
      "outputs": [
        {
          "output_type": "stream",
          "text": [
            "Elastic Net RMSE: 221401.14846037637\n"
          ],
          "name": "stdout"
        }
      ]
    },
    {
      "cell_type": "code",
      "metadata": {
        "id": "-dZ9YmSC_KG9",
        "colab_type": "code",
        "colab": {
          "base_uri": "https://localhost:8080/",
          "height": 289
        },
        "outputId": "fc87e046-4bef-468e-a52e-b11f669ee1df"
      },
      "source": [
        "#Printing out the coefficients for our predictor variables.\n",
        "coef_dict_baseline = {}\n",
        "for coef,feat in zip(elastic.coef_,X.columns):\n",
        "  coef_dict_baseline[feat] = coef\n",
        "coef_dict_baseline  "
      ],
      "execution_count": null,
      "outputs": [
        {
          "output_type": "execute_result",
          "data": {
            "text/plain": [
              "{'bathrooms': 37473.656321836716,\n",
              " 'bedrooms': -15565.642105652196,\n",
              " 'condition': 23449.88809163047,\n",
              " 'floors': 25799.36924564358,\n",
              " 'grade': 75883.1464848049,\n",
              " 'renovated': 58112.82532239467,\n",
              " 'sqft_above': 65.54884795618884,\n",
              " 'sqft_basement': 79.11088748189763,\n",
              " 'sqft_living': 71.72909833895622,\n",
              " 'sqft_living15': 53.930016310000816,\n",
              " 'sqft_lot': -0.004709955296447988,\n",
              " 'sqft_lot15': -0.3120247418519775,\n",
              " 'view': 49882.354454256274,\n",
              " 'waterfront': 425401.7425305748,\n",
              " 'yr_built': -1940.3595007412937,\n",
              " 'zipcode': 386.58690248944833}"
            ]
          },
          "metadata": {
            "tags": []
          },
          "execution_count": 136
        }
      ]
    },
    {
      "cell_type": "code",
      "metadata": {
        "id": "MtvrGNDd_e_S",
        "colab_type": "code",
        "colab": {
          "base_uri": "https://localhost:8080/",
          "height": 34
        },
        "outputId": "13ca9180-eea9-4c8c-bb3c-a0215270d81b"
      },
      "source": [
        "#Printing out how our model best fits our data \n",
        "elastic.score(X_test,y_test)"
      ],
      "execution_count": 59,
      "outputs": [
        {
          "output_type": "execute_result",
          "data": {
            "text/plain": [
              "0.6395489068182771"
            ]
          },
          "metadata": {
            "tags": []
          },
          "execution_count": 59
        }
      ]
    },
    {
      "cell_type": "markdown",
      "metadata": {
        "id": "_tA7iOUceY1e",
        "colab_type": "text"
      },
      "source": [
        "The rsquared score for our elastic net model is at 63%."
      ]
    },
    {
      "cell_type": "markdown",
      "metadata": {
        "id": "LfxjW522ZfPB",
        "colab_type": "text"
      },
      "source": [
        "The elastic net had a relatively high RMSE compared to the rest. Though it does both the L1 and L2 regularization, the naive version of elastic net causes low efficiency in predictability and high bias."
      ]
    },
    {
      "cell_type": "markdown",
      "metadata": {
        "id": "u8IBfxNbjSGV",
        "colab_type": "text"
      },
      "source": [
        "# The Solution"
      ]
    },
    {
      "cell_type": "markdown",
      "metadata": {
        "id": "BTXJlKYejW5e",
        "colab_type": "text"
      },
      "source": [
        "Our dataset was highly correlated posing a huge challenge to work with the multiple regression and the quantile regression since they assume a no multi-collinear approach. This means that we cannot trust these models. There was a huge mean squared error for the ridge, lasso and elastic net regressions. They were particulary fit for our data since they all dealt multi collinearity. They all fitted the data differently though. The R squared for the Ridge regression was at 66%, the one for the Lasso regression was at 65% while the one for the Elastic Net was at 63%. \n",
        "I would go with the Lasso regression though since it did feature reduction which proved quite troublesome and has a fairly average r squared score compared to the other regressions. "
      ]
    },
    {
      "cell_type": "markdown",
      "metadata": {
        "id": "jxTD_NxnsUCs",
        "colab_type": "text"
      },
      "source": [
        "# Challenging the Solution"
      ]
    },
    {
      "cell_type": "markdown",
      "metadata": {
        "id": "u2n6Hu98sYCX",
        "colab_type": "text"
      },
      "source": [
        "One hot encoding works better for Machine Learning Algorithms than label encoding. This can be improved. And for the elastic net regression, it subjects the co-efficients which subjects the co-efficients to type of shrinkages, the naive version of the elastic net causes low efficiency in predictability and high bias. To correct for such effects the co-efficients are rescaled by multiplying them by (1+λ2) ie the second tuning parameter. The elastic net would have perhaps performed better. \n",
        "\n",
        "Upon learning different algorithms such as the random forest which is one of the most accurate learning algorithms available. It generates an internal unbiased estimate of the generalization error as the forest building progresses."
      ]
    }
  ]
}